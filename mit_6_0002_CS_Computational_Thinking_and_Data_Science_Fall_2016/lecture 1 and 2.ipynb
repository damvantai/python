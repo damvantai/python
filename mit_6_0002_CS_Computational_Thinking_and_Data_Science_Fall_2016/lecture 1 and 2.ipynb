{
 "cells": [
  {
   "cell_type": "code",
   "execution_count": 1,
   "metadata": {
    "collapsed": true
   },
   "outputs": [],
   "source": [
    "class Food(object):\n",
    "    def __init__(self, n, v, w):\n",
    "        self.name = n\n",
    "        self.value = v\n",
    "        self.calories = w\n",
    "    def getValue(self):\n",
    "        return self.value\n",
    "    def getCost(self):\n",
    "        return self.calories\n",
    "    def density(self):\n",
    "        return self.getValue() / self.getCost()\n",
    "    def __str__(self):\n",
    "        return self.name + ': <' + str(self.value) + \", \" + str(self.calories) + '>'\n"
   ]
  },
  {
   "cell_type": "code",
   "execution_count": 2,
   "metadata": {
    "collapsed": true
   },
   "outputs": [],
   "source": [
    "def buildMenu(names, values, calories):\n",
    "    \"\"\"\n",
    "    names, values, calories lists of same length.\n",
    "    name a list of strings\n",
    "    values and calories lists of numbers\n",
    "    returns list of Foods\n",
    "    \"\"\"\n",
    "    menu = []\n",
    "    for i in range(len(values)):\n",
    "        menu.append(Food(names[i], values[i], calories[i]))\n",
    "    return menu"
   ]
  },
  {
   "cell_type": "code",
   "execution_count": 3,
   "metadata": {
    "collapsed": true
   },
   "outputs": [],
   "source": [
    "def greedy(items, maxCost, keyFunction):\n",
    "    \"\"\"\n",
    "    Assumes items a list, maxCost >= 0,\n",
    "    keyFunction maps elements of items to numbers\n",
    "    \"\"\"\n",
    "    itemsCopy = sorted(items, key = keyFunction, reverse = True)\n",
    "    result = []\n",
    "    totalValue, totalCost = 0.0, 0.0\n",
    "    for i in range(len(itemsCopy)):\n",
    "        if (totalCost + itemsCopy[i].getCost()) <= maxCost:\n",
    "            result.append(itemsCopy[i])\n",
    "            totalCost += itemsCopy[i].getCost()\n",
    "            totalValue += itemsCopy[i].getValue()\n",
    "    return (result, totalValue)"
   ]
  },
  {
   "cell_type": "code",
   "execution_count": 4,
   "metadata": {
    "collapsed": true
   },
   "outputs": [],
   "source": [
    "def testGreedy(items, constraint, keyFunction):\n",
    "    taken, val = greedy(items, constraint, keyFunction)\n",
    "    print('Total value of items taken =', val)\n",
    "    for item in taken:\n",
    "        print('    ', item)"
   ]
  },
  {
   "cell_type": "code",
   "execution_count": 5,
   "metadata": {
    "collapsed": true
   },
   "outputs": [],
   "source": [
    "def testGreedys(foods, maxUnits):\n",
    "    print(\"Use greedy by value to allocate\", maxUnits, 'calories')\n",
    "    testGreedy(foods, maxUnits, Food.getValue)\n",
    "    print('\\nUse greedy by cost to allocate', maxUnits, 'calories')\n",
    "    testGreedy(foods, maxUnits, lambda x: 1/Food.getCost(x))\n",
    "    print('\\nUse greedy bo density to allocate', maxUnits, 'calories')\n",
    "    testGreedy(foods, maxUnits, Food.density)"
   ]
  },
  {
   "cell_type": "code",
   "execution_count": 17,
   "metadata": {
    "collapsed": true
   },
   "outputs": [],
   "source": [
    "def maxVal(toConsider, avail):\n",
    "    if toConsider == [] or avail == 0:\n",
    "        result = (0, ())\n",
    "    elif toConsider[0].getCost() > avail:\n",
    "        result = maxVal(toConsider[1:], avail)\n",
    "    else:\n",
    "        \"\"\"\n",
    "        Assumes toConsider a list of items, avail\"\"\"\n",
    "        nextItem = toConsider[0]\n",
    "        withVal, withToTake = maxVal(toConsider[1:], avail - nextItem.getCost())\n",
    "        withVal += nextItem.getValue()\n",
    "        withoutVal, withoutToTake = maxVal(toConsider[1:], avail)\n",
    "        if withVal > withoutVal:\n",
    "            result = (withVal, withToTake + (nextItem,))\n",
    "        else:\n",
    "            result = (withoutVal, withoutToTake)\n",
    "    return result"
   ]
  },
  {
   "cell_type": "code",
   "execution_count": 18,
   "metadata": {},
   "outputs": [],
   "source": [
    "def testMaxVal(foods, maxUnits, printItems = True):\n",
    "    print('Use search tree to allocate', maxUnits, 'calories')\n",
    "    val, taken = maxVal(foods, maxUnits)\n",
    "    print(\"Total value of items taken =\", val)\n",
    "    if printItems:\n",
    "        for item in taken:\n",
    "            print('    ', item)"
   ]
  },
  {
   "cell_type": "code",
   "execution_count": null,
   "metadata": {
    "collapsed": true
   },
   "outputs": [],
   "source": []
  },
  {
   "cell_type": "code",
   "execution_count": 19,
   "metadata": {
    "collapsed": true
   },
   "outputs": [],
   "source": [
    "names = ['wine', 'beer', 'pizza', 'burger', 'fries', 'cola', 'apple', 'donut', 'cake']"
   ]
  },
  {
   "cell_type": "code",
   "execution_count": 20,
   "metadata": {
    "collapsed": true
   },
   "outputs": [],
   "source": [
    "values = [89, 90, 95, 100, 90, 79, 50, 10]"
   ]
  },
  {
   "cell_type": "code",
   "execution_count": 21,
   "metadata": {},
   "outputs": [
    {
     "data": {
      "text/plain": [
       "9"
      ]
     },
     "execution_count": 21,
     "metadata": {},
     "output_type": "execute_result"
    }
   ],
   "source": [
    "len(names)"
   ]
  },
  {
   "cell_type": "code",
   "execution_count": 22,
   "metadata": {},
   "outputs": [
    {
     "data": {
      "text/plain": [
       "8"
      ]
     },
     "execution_count": 22,
     "metadata": {},
     "output_type": "execute_result"
    }
   ],
   "source": [
    "len(values)"
   ]
  },
  {
   "cell_type": "code",
   "execution_count": 23,
   "metadata": {
    "collapsed": true
   },
   "outputs": [],
   "source": [
    "calories = [123, 154, 258, 354, 365, 150, 95, 195]"
   ]
  },
  {
   "cell_type": "code",
   "execution_count": 24,
   "metadata": {
    "collapsed": true
   },
   "outputs": [],
   "source": [
    "foods = buildMenu(names, values, calories)"
   ]
  },
  {
   "cell_type": "code",
   "execution_count": 25,
   "metadata": {},
   "outputs": [
    {
     "name": "stdout",
     "output_type": "stream",
     "text": [
      "Use greedy by value to allocate 1000 calories\n",
      "Total value of items taken = 424.0\n",
      "     burger: <100, 354>\n",
      "     pizza: <95, 258>\n",
      "     beer: <90, 154>\n",
      "     wine: <89, 123>\n",
      "     apple: <50, 95>\n",
      "\n",
      "Use greedy by cost to allocate 1000 calories\n",
      "Total value of items taken = 413.0\n",
      "     apple: <50, 95>\n",
      "     wine: <89, 123>\n",
      "     cola: <79, 150>\n",
      "     beer: <90, 154>\n",
      "     donut: <10, 195>\n",
      "     pizza: <95, 258>\n",
      "\n",
      "Use greedy bo density to allocate 1000 calories\n",
      "Total value of items taken = 413.0\n",
      "     wine: <89, 123>\n",
      "     beer: <90, 154>\n",
      "     cola: <79, 150>\n",
      "     apple: <50, 95>\n",
      "     pizza: <95, 258>\n",
      "     donut: <10, 195>\n"
     ]
    }
   ],
   "source": [
    "testGreedys(foods, 1000)"
   ]
  },
  {
   "cell_type": "code",
   "execution_count": 26,
   "metadata": {},
   "outputs": [
    {
     "name": "stdout",
     "output_type": "stream",
     "text": [
      "Use search tree to allocate 750 calories\n",
      "Totak value of items taken = 353\n",
      "     cola: <79, 150>\n",
      "     pizza: <95, 258>\n",
      "     beer: <90, 154>\n",
      "     wine: <89, 123>\n"
     ]
    }
   ],
   "source": [
    "testMaxVal(foods, 750)"
   ]
  },
  {
   "cell_type": "code",
   "execution_count": 27,
   "metadata": {
    "collapsed": true
   },
   "outputs": [],
   "source": [
    "import random"
   ]
  },
  {
   "cell_type": "code",
   "execution_count": 28,
   "metadata": {
    "collapsed": true
   },
   "outputs": [],
   "source": [
    "def buildLargeMenu(numItems, maxVal, maxCost):\n",
    "    items = []\n",
    "    for i in range(numItems):\n",
    "        items.append(Food(str(i), random.randint(1, maxVal), random.randint(1, maxCost)))\n",
    "    return items"
   ]
  },
  {
   "cell_type": "code",
   "execution_count": 29,
   "metadata": {
    "collapsed": true
   },
   "outputs": [],
   "source": [
    "def fastFib(n, memo = {}):\n",
    "    \"\"\"Assumes n in an int >= 0, memo used only by recursive calls\n",
    "    Returns Fibonacci of n\"\"\"\n",
    "    if n == 0 or n == 1:\n",
    "        return 1\n",
    "    try:\n",
    "        return memo[n]\n",
    "    except KeyError:\n",
    "        result = fastFib(n-1, memo) + fastFib(n-2, memo)\n",
    "        memo[n] = result\n",
    "        return result"
   ]
  },
  {
   "cell_type": "code",
   "execution_count": 30,
   "metadata": {
    "collapsed": true
   },
   "outputs": [],
   "source": [
    "def fastMaxVal(toConsider, avail, memo = {}):\n",
    "    if (len(toConsider), avail) in memo:\n",
    "        result = memo[(len(toConsider), avail)]\n",
    "    elif toConsider == [] or avail == 0:\n",
    "        result = (0, ())\n",
    "    elif toConsider[0].getCost() > avail:\n",
    "        result = fastMaxVal(toConsider[1:], avail, memo)\n",
    "    else:\n",
    "        nextItem = toConsider[0]\n",
    "        withVal, withToTake = fastMaxVal(toConsider[1:], avail - nextItem.getCost(), memo)\n",
    "        withVal += nextItem.getValue()\n",
    "        withoutVal, withoutToTake = fastMaxVal(toConsider[1:], avail, memo)\n",
    "        \n",
    "        # Choose better branch\n",
    "        if withVal > withoutVal:\n",
    "            result = (withVal, withToTake + (nextItem,))\n",
    "        else:\n",
    "            result = (withoutVal, withoutToTake)\n",
    "    memo[(len(toConsider), avail)] = result\n",
    "    return result"
   ]
  },
  {
   "cell_type": "code",
   "execution_count": 32,
   "metadata": {
    "collapsed": true
   },
   "outputs": [],
   "source": [
    "def testMaxVal(foods, maxUnits, algorithm, printItems = True):\n",
    "    print(\"Menu contains\", len(foods), 'items')\n",
    "    print(\"Use search tree to allocate\", maxUnits, 'calories')\n",
    "    val, taken = algorithm(foods, maxUnits)\n",
    "    if printItems:\n",
    "        print(\"Total value of items taken =\", val)\n",
    "        for item in taken:\n",
    "            print('    ', item)"
   ]
  },
  {
   "cell_type": "code",
   "execution_count": 33,
   "metadata": {},
   "outputs": [
    {
     "name": "stdout",
     "output_type": "stream",
     "text": [
      "Menu contains 5 items\n",
      "Use search tree to allocate 750 calories\n",
      "Total value of items taken = 234\n",
      "     4: <78, 175>\n",
      "     3: <8, 27>\n",
      "     2: <76, 40>\n",
      "     1: <25, 229>\n",
      "     0: <47, 158>\n",
      "Menu contains 10 items\n",
      "Use search tree to allocate 750 calories\n",
      "Total value of items taken = 336\n",
      "     9: <51, 83>\n",
      "     8: <52, 104>\n",
      "     6: <17, 85>\n",
      "     5: <59, 92>\n",
      "     3: <60, 108>\n",
      "     2: <13, 14>\n",
      "     1: <30, 108>\n",
      "     0: <54, 149>\n",
      "Menu contains 15 items\n",
      "Use search tree to allocate 750 calories\n",
      "Total value of items taken = 566\n",
      "     9: <51, 83>\n",
      "     12: <35, 45>\n",
      "     10: <89, 124>\n",
      "     8: <22, 8>\n",
      "     6: <84, 12>\n",
      "     5: <62, 118>\n",
      "     4: <89, 7>\n",
      "     2: <84, 204>\n",
      "     1: <50, 93>\n",
      "Menu contains 20 items\n",
      "Use search tree to allocate 750 calories\n",
      "Total value of items taken = 594\n",
      "     9: <51, 83>\n",
      "     8: <52, 104>\n",
      "     12: <35, 45>\n",
      "     10: <89, 124>\n",
      "     8: <22, 8>\n",
      "     6: <84, 12>\n",
      "     5: <62, 118>\n",
      "     4: <89, 7>\n",
      "     7: <46, 25>\n",
      "     1: <64, 168>\n",
      "Menu contains 25 items\n",
      "Use search tree to allocate 750 calories\n",
      "Total value of items taken = 643\n",
      "     10: <89, 124>\n",
      "     8: <22, 8>\n",
      "     6: <84, 12>\n",
      "     5: <62, 118>\n",
      "     4: <89, 7>\n",
      "     10: <61, 62>\n",
      "     5: <34, 84>\n",
      "     4: <69, 82>\n",
      "     3: <29, 32>\n",
      "     2: <57, 13>\n",
      "     0: <47, 203>\n",
      "Menu contains 30 items\n",
      "Use search tree to allocate 750 calories\n",
      "Total value of items taken = 731\n",
      "     10: <89, 124>\n",
      "     8: <22, 8>\n",
      "     6: <84, 12>\n",
      "     5: <62, 118>\n",
      "     4: <89, 7>\n",
      "     10: <61, 62>\n",
      "     5: <34, 84>\n",
      "     4: <69, 82>\n",
      "     3: <29, 32>\n",
      "     2: <57, 13>\n",
      "     1: <52, 80>\n",
      "     0: <83, 123>\n",
      "Menu contains 35 items\n",
      "Use search tree to allocate 750 calories\n",
      "Total value of items taken = 766\n",
      "     9: <51, 83>\n",
      "     13: <77, 195>\n",
      "     12: <35, 45>\n",
      "     10: <89, 124>\n",
      "     8: <22, 8>\n",
      "     16: <50, 33>\n",
      "     15: <37, 24>\n",
      "     24: <90, 21>\n",
      "     22: <73, 50>\n",
      "     21: <90, 38>\n",
      "     20: <2, 6>\n",
      "     13: <72, 71>\n",
      "     2: <78, 36>\n",
      "Menu contains 40 items\n",
      "Use search tree to allocate 750 calories\n",
      "Total value of items taken = 855\n",
      "     10: <89, 124>\n",
      "     8: <22, 8>\n",
      "     6: <84, 12>\n",
      "     5: <62, 118>\n",
      "     4: <89, 7>\n",
      "     10: <61, 62>\n",
      "     13: <47, 40>\n",
      "     11: <46, 18>\n",
      "     13: <72, 71>\n",
      "     6: <53, 42>\n",
      "     4: <75, 114>\n",
      "     3: <79, 33>\n",
      "     2: <42, 73>\n",
      "     1: <34, 23>\n",
      "Menu contains 45 items\n",
      "Use search tree to allocate 750 calories\n",
      "Total value of items taken = 932\n",
      "     10: <89, 124>\n",
      "     8: <22, 8>\n",
      "     6: <84, 12>\n",
      "     5: <62, 118>\n",
      "     4: <89, 7>\n",
      "     10: <61, 62>\n",
      "     13: <47, 40>\n",
      "     11: <46, 18>\n",
      "     13: <72, 71>\n",
      "     20: <81, 51>\n",
      "     19: <72, 26>\n",
      "     15: <79, 46>\n",
      "     13: <69, 62>\n",
      "     4: <59, 100>\n",
      "Menu contains 50 items\n",
      "Use search tree to allocate 750 calories\n",
      "Total value of items taken = 1034\n",
      "     10: <89, 124>\n",
      "     8: <22, 8>\n",
      "     6: <84, 12>\n",
      "     5: <62, 118>\n",
      "     4: <89, 7>\n",
      "     10: <61, 62>\n",
      "     13: <47, 40>\n",
      "     11: <46, 18>\n",
      "     13: <72, 71>\n",
      "     20: <81, 51>\n",
      "     19: <72, 26>\n",
      "     19: <80, 11>\n",
      "     8: <47, 19>\n",
      "     4: <65, 120>\n",
      "     2: <41, 21>\n",
      "     1: <76, 37>\n"
     ]
    }
   ],
   "source": [
    "for numItems in (5, 10, 15, 20, 25, 30, 35, 40, 45, 50):\n",
    "    items = buildLargeMenu(numItems, 90, 250)\n",
    "    testMaxVal(items, 750, fastMaxVal, True)"
   ]
  },
  {
   "cell_type": "code",
   "execution_count": null,
   "metadata": {
    "collapsed": true
   },
   "outputs": [],
   "source": []
  }
 ],
 "metadata": {
  "kernelspec": {
   "display_name": "Python 3",
   "language": "python",
   "name": "python3"
  },
  "language_info": {
   "codemirror_mode": {
    "name": "ipython",
    "version": 3
   },
   "file_extension": ".py",
   "mimetype": "text/x-python",
   "name": "python",
   "nbconvert_exporter": "python",
   "pygments_lexer": "ipython3",
   "version": "3.5.2"
  }
 },
 "nbformat": 4,
 "nbformat_minor": 2
}
