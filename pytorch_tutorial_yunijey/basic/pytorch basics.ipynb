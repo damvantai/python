{
 "cells": [
  {
   "cell_type": "code",
   "execution_count": 1,
   "metadata": {
    "collapsed": true
   },
   "outputs": [],
   "source": [
    "import torch\n",
    "import torchvision\n",
    "import torch.nn as nn\n",
    "import numpy as np\n",
    "import torch.utils.data as data\n",
    "import torchvision.transforms as transforms\n",
    "import torchvision.datasets as dsets\n",
    "from torch.autograd import Variable"
   ]
  },
  {
   "cell_type": "markdown",
   "metadata": {},
   "source": [
    "1. Basic autograd example 1\n",
    "2. Basic autograd example 2\n",
    "3. Loading data from numpy\n",
    "4. Implementing the input pipline\n",
    "5. Input pipline for custom dataset\n",
    "6. Using pretrained model\n",
    "7. Save and local model"
   ]
  },
  {
   "cell_type": "code",
   "execution_count": 3,
   "metadata": {
    "collapsed": true
   },
   "outputs": [],
   "source": [
    "# Create tensors\n",
    "x = Variable(torch.Tensor([1]), requires_grad=True)\n",
    "w = Variable(torch.Tensor([2]), requires_grad=True)\n",
    "b = Variable(torch.Tensor([3]), requires_grad=True)"
   ]
  },
  {
   "cell_type": "code",
   "execution_count": 4,
   "metadata": {
    "collapsed": true
   },
   "outputs": [],
   "source": [
    "# Build a computational graph\n",
    "y = w * x + b"
   ]
  },
  {
   "cell_type": "code",
   "execution_count": 5,
   "metadata": {
    "collapsed": true
   },
   "outputs": [],
   "source": [
    "# Compute gradients\n",
    "y.backward()"
   ]
  },
  {
   "cell_type": "code",
   "execution_count": 6,
   "metadata": {},
   "outputs": [
    {
     "name": "stdout",
     "output_type": "stream",
     "text": [
      "Variable containing:\n",
      " 2\n",
      "[torch.FloatTensor of size 1]\n",
      "\n"
     ]
    }
   ],
   "source": [
    "# Print out the gradients\n",
    "print(x.grad)"
   ]
  },
  {
   "cell_type": "code",
   "execution_count": 7,
   "metadata": {},
   "outputs": [
    {
     "name": "stdout",
     "output_type": "stream",
     "text": [
      "None\n"
     ]
    }
   ],
   "source": [
    "print(y.grad)"
   ]
  },
  {
   "cell_type": "code",
   "execution_count": 8,
   "metadata": {},
   "outputs": [
    {
     "name": "stdout",
     "output_type": "stream",
     "text": [
      "Variable containing:\n",
      " 1\n",
      "[torch.FloatTensor of size 1]\n",
      "\n"
     ]
    }
   ],
   "source": [
    "print(w.grad)"
   ]
  },
  {
   "cell_type": "code",
   "execution_count": 9,
   "metadata": {},
   "outputs": [
    {
     "name": "stdout",
     "output_type": "stream",
     "text": [
      "Variable containing:\n",
      " 1\n",
      "[torch.FloatTensor of size 1]\n",
      "\n"
     ]
    }
   ],
   "source": [
    "print(b.grad)"
   ]
  },
  {
   "cell_type": "code",
   "execution_count": 10,
   "metadata": {
    "collapsed": true
   },
   "outputs": [],
   "source": [
    "# Create tensors\n",
    "x = Variable(torch.randn(5, 3))\n",
    "y = Variable(torch.randn(5, 2))"
   ]
  },
  {
   "cell_type": "code",
   "execution_count": 11,
   "metadata": {
    "collapsed": true
   },
   "outputs": [],
   "source": [
    "# Build a linear layer\n",
    "linear = nn.Linear(3, 2)"
   ]
  },
  {
   "cell_type": "code",
   "execution_count": 12,
   "metadata": {},
   "outputs": [
    {
     "name": "stdout",
     "output_type": "stream",
     "text": [
      "w:  Parameter containing:\n",
      "-0.4591  0.4875  0.1248\n",
      "-0.3805  0.4250  0.3531\n",
      "[torch.FloatTensor of size 2x3]\n",
      "\n"
     ]
    }
   ],
   "source": [
    "print('w: ', linear.weight)"
   ]
  },
  {
   "cell_type": "code",
   "execution_count": 13,
   "metadata": {},
   "outputs": [
    {
     "name": "stdout",
     "output_type": "stream",
     "text": [
      "b:  Parameter containing:\n",
      " 0.5197\n",
      "-0.5760\n",
      "[torch.FloatTensor of size 2]\n",
      "\n"
     ]
    }
   ],
   "source": [
    "print('b: ', linear.bias)"
   ]
  },
  {
   "cell_type": "code",
   "execution_count": 14,
   "metadata": {
    "collapsed": true
   },
   "outputs": [],
   "source": [
    "# Build loss and Optimizer\n",
    "criterion = nn.MSELoss()\n",
    "optimizer = torch.optim.SGD(linear.parameters(), lr = 0.01)"
   ]
  },
  {
   "cell_type": "code",
   "execution_count": 15,
   "metadata": {
    "collapsed": true
   },
   "outputs": [],
   "source": [
    "# Forward propagation\n",
    "pred = linear(x)"
   ]
  },
  {
   "cell_type": "code",
   "execution_count": 16,
   "metadata": {},
   "outputs": [
    {
     "name": "stdout",
     "output_type": "stream",
     "text": [
      "loss:  1.2115974426269531\n"
     ]
    }
   ],
   "source": [
    "# Compute loss\n",
    "loss = criterion(pred, y)\n",
    "print('loss: ', loss.data[0])"
   ]
  },
  {
   "cell_type": "code",
   "execution_count": 17,
   "metadata": {
    "collapsed": true
   },
   "outputs": [],
   "source": [
    "# Backpropagation\n",
    "loss.backward()"
   ]
  },
  {
   "cell_type": "code",
   "execution_count": 18,
   "metadata": {},
   "outputs": [
    {
     "name": "stdout",
     "output_type": "stream",
     "text": [
      "dL/dw:  Variable containing:\n",
      "-0.8199 -0.4215 -0.1529\n",
      "-0.9228 -0.3770  0.0911\n",
      "[torch.FloatTensor of size 2x3]\n",
      "\n",
      "dL/db:  Variable containing:\n",
      " 0.3583\n",
      "-0.3919\n",
      "[torch.FloatTensor of size 2]\n",
      "\n"
     ]
    }
   ],
   "source": [
    "# Print out the gradients\n",
    "print('dL/dw: ', linear.weight.grad)\n",
    "print('dL/db: ', linear.bias.grad)"
   ]
  },
  {
   "cell_type": "code",
   "execution_count": 19,
   "metadata": {
    "collapsed": true
   },
   "outputs": [],
   "source": [
    "optimizer.step()"
   ]
  },
  {
   "cell_type": "code",
   "execution_count": 20,
   "metadata": {},
   "outputs": [
    {
     "name": "stdout",
     "output_type": "stream",
     "text": [
      "loss after 1 step optimization:  1.190210223197937\n"
     ]
    }
   ],
   "source": [
    "pred = linear(x)\n",
    "loss = criterion(pred, y)\n",
    "print('loss after 1 step optimization: ', loss.data[0])"
   ]
  },
  {
   "cell_type": "code",
   "execution_count": 24,
   "metadata": {
    "collapsed": true
   },
   "outputs": [],
   "source": [
    "# Loading data from numpy and convert"
   ]
  },
  {
   "cell_type": "code",
   "execution_count": 25,
   "metadata": {
    "collapsed": true
   },
   "outputs": [],
   "source": [
    "a = np.array([[1, 2], [3, 4]])"
   ]
  },
  {
   "cell_type": "code",
   "execution_count": 26,
   "metadata": {
    "collapsed": true
   },
   "outputs": [],
   "source": [
    "b = torch.from_numpy(a)"
   ]
  },
  {
   "cell_type": "code",
   "execution_count": 27,
   "metadata": {
    "collapsed": true
   },
   "outputs": [],
   "source": [
    "c = b.numpy()"
   ]
  },
  {
   "cell_type": "code",
   "execution_count": 28,
   "metadata": {},
   "outputs": [
    {
     "name": "stdout",
     "output_type": "stream",
     "text": [
      "Files already downloaded and verified\n"
     ]
    }
   ],
   "source": [
    "train_dataset = dsets.CIFAR10(root='/home/damvantai/Documents/data/', train=True, transform=transforms.ToTensor(),download=True)"
   ]
  },
  {
   "cell_type": "code",
   "execution_count": 29,
   "metadata": {
    "collapsed": true
   },
   "outputs": [],
   "source": [
    "image, label = train_dataset[0]"
   ]
  },
  {
   "cell_type": "code",
   "execution_count": 30,
   "metadata": {},
   "outputs": [
    {
     "name": "stdout",
     "output_type": "stream",
     "text": [
      "torch.Size([3, 32, 32])\n"
     ]
    }
   ],
   "source": [
    "print(image.size())"
   ]
  },
  {
   "cell_type": "code",
   "execution_count": 31,
   "metadata": {},
   "outputs": [
    {
     "name": "stdout",
     "output_type": "stream",
     "text": [
      "6\n"
     ]
    }
   ],
   "source": [
    "print(label)"
   ]
  },
  {
   "cell_type": "code",
   "execution_count": 32,
   "metadata": {
    "collapsed": true
   },
   "outputs": [],
   "source": [
    "# Data loader (this provides queue and thread in a very simple way)\n",
    "train_loader = torch.utils.data.DataLoader(dataset=train_dataset,\n",
    "                                          batch_size=100,\n",
    "                                          shuffle=True,\n",
    "                                          num_workers=2)"
   ]
  },
  {
   "cell_type": "code",
   "execution_count": 33,
   "metadata": {
    "collapsed": true
   },
   "outputs": [],
   "source": [
    "# When iteration starts, queue and thread start to load dataset from files\n",
    "data_iter = iter(train_loader)"
   ]
  },
  {
   "cell_type": "code",
   "execution_count": 35,
   "metadata": {},
   "outputs": [
    {
     "data": {
      "text/plain": [
       "<torch.utils.data.dataloader.DataLoaderIter at 0x7f7ee7f7a550>"
      ]
     },
     "execution_count": 35,
     "metadata": {},
     "output_type": "execute_result"
    }
   ],
   "source": [
    "data_iter"
   ]
  },
  {
   "cell_type": "code",
   "execution_count": 34,
   "metadata": {
    "collapsed": true
   },
   "outputs": [],
   "source": [
    "# Mini-batch images and labels\n",
    "images, labels = data_iter.next()"
   ]
  },
  {
   "cell_type": "code",
   "execution_count": 45,
   "metadata": {},
   "outputs": [
    {
     "name": "stdout",
     "output_type": "stream",
     "text": [
      "torch.Size([100, 3, 32, 32])\n",
      "torch.Size([100])\n"
     ]
    }
   ],
   "source": [
    "print (images.size())\n",
    "print (labels.size())"
   ]
  },
  {
   "cell_type": "code",
   "execution_count": 46,
   "metadata": {},
   "outputs": [
    {
     "name": "stdout",
     "output_type": "stream",
     "text": [
      "\n",
      "(0 ,.,.) = \n",
      "  0.3725  0.3216  0.0784  ...   0.0314  0.0314  0.0431\n",
      "  0.2706  0.2039  0.0196  ...   0.0275  0.0275  0.0392\n",
      "  0.0824  0.0627  0.0118  ...   0.0235  0.0235  0.0392\n",
      "           ...             ⋱             ...          \n",
      "  0.2353  0.2588  0.2706  ...   0.1059  0.0824  0.0863\n",
      "  0.1686  0.2745  0.3216  ...   0.0824  0.0941  0.0824\n",
      "  0.1020  0.1843  0.3216  ...   0.1255  0.1216  0.1020\n",
      "\n",
      "(1 ,.,.) = \n",
      "  0.5137  0.4863  0.2941  ...   0.0980  0.0980  0.0902\n",
      "  0.4392  0.3804  0.2510  ...   0.1098  0.1098  0.1020\n",
      "  0.2824  0.2745  0.2510  ...   0.1255  0.1216  0.1176\n",
      "           ...             ⋱             ...          \n",
      "  0.4392  0.4745  0.4863  ...   0.2000  0.1020  0.1216\n",
      "  0.3098  0.4627  0.5137  ...   0.1255  0.1294  0.1216\n",
      "  0.2000  0.3176  0.4706  ...   0.1686  0.1647  0.1294\n",
      "\n",
      "(2 ,.,.) = \n",
      "  0.6235  0.6078  0.4667  ...   0.3255  0.3255  0.3020\n",
      "  0.5725  0.5412  0.4431  ...   0.3373  0.3333  0.3255\n",
      "  0.4588  0.4588  0.4471  ...   0.3451  0.3412  0.3373\n",
      "           ...             ⋱             ...          \n",
      "  0.5922  0.6510  0.6510  ...   0.2314  0.0824  0.1059\n",
      "  0.3882  0.6078  0.6784  ...   0.1020  0.1176  0.1098\n",
      "  0.2039  0.3804  0.6118  ...   0.1490  0.1529  0.1216\n",
      "[torch.FloatTensor of size 3x32x32]\n",
      "\n"
     ]
    }
   ],
   "source": [
    "print(images[1])"
   ]
  },
  {
   "cell_type": "code",
   "execution_count": 47,
   "metadata": {},
   "outputs": [
    {
     "name": "stdout",
     "output_type": "stream",
     "text": [
      "torch.Size([100, 3, 32, 32])\n"
     ]
    }
   ],
   "source": [
    "print (images.size())"
   ]
  },
  {
   "cell_type": "code",
   "execution_count": 48,
   "metadata": {},
   "outputs": [
    {
     "name": "stdout",
     "output_type": "stream",
     "text": [
      "\n",
      "(0 ,.,.) = \n",
      "  0.3725  0.3216  0.0784  ...   0.0314  0.0314  0.0431\n",
      "  0.2706  0.2039  0.0196  ...   0.0275  0.0275  0.0392\n",
      "  0.0824  0.0627  0.0118  ...   0.0235  0.0235  0.0392\n",
      "           ...             ⋱             ...          \n",
      "  0.2353  0.2588  0.2706  ...   0.1059  0.0824  0.0863\n",
      "  0.1686  0.2745  0.3216  ...   0.0824  0.0941  0.0824\n",
      "  0.1020  0.1843  0.3216  ...   0.1255  0.1216  0.1020\n",
      "\n",
      "(1 ,.,.) = \n",
      "  0.5137  0.4863  0.2941  ...   0.0980  0.0980  0.0902\n",
      "  0.4392  0.3804  0.2510  ...   0.1098  0.1098  0.1020\n",
      "  0.2824  0.2745  0.2510  ...   0.1255  0.1216  0.1176\n",
      "           ...             ⋱             ...          \n",
      "  0.4392  0.4745  0.4863  ...   0.2000  0.1020  0.1216\n",
      "  0.3098  0.4627  0.5137  ...   0.1255  0.1294  0.1216\n",
      "  0.2000  0.3176  0.4706  ...   0.1686  0.1647  0.1294\n",
      "\n",
      "(2 ,.,.) = \n",
      "  0.6235  0.6078  0.4667  ...   0.3255  0.3255  0.3020\n",
      "  0.5725  0.5412  0.4431  ...   0.3373  0.3333  0.3255\n",
      "  0.4588  0.4588  0.4471  ...   0.3451  0.3412  0.3373\n",
      "           ...             ⋱             ...          \n",
      "  0.5922  0.6510  0.6510  ...   0.2314  0.0824  0.1059\n",
      "  0.3882  0.6078  0.6784  ...   0.1020  0.1176  0.1098\n",
      "  0.2039  0.3804  0.6118  ...   0.1490  0.1529  0.1216\n",
      "[torch.FloatTensor of size 3x32x32]\n",
      "\n"
     ]
    }
   ],
   "source": [
    "print(images[1])"
   ]
  },
  {
   "cell_type": "code",
   "execution_count": null,
   "metadata": {
    "collapsed": true
   },
   "outputs": [],
   "source": []
  },
  {
   "cell_type": "code",
   "execution_count": 50,
   "metadata": {},
   "outputs": [
    {
     "name": "stdout",
     "output_type": "stream",
     "text": [
      "torch.Size([100, 3, 32, 32])\n",
      "torch.Size([100, 3, 32, 32])\n",
      "torch.Size([100, 3, 32, 32])\n",
      "torch.Size([100, 3, 32, 32])\n",
      "torch.Size([100, 3, 32, 32])\n",
      "torch.Size([100, 3, 32, 32])\n",
      "torch.Size([100, 3, 32, 32])\n",
      "torch.Size([100, 3, 32, 32])\n",
      "torch.Size([100, 3, 32, 32])\n",
      "torch.Size([100, 3, 32, 32])\n",
      "torch.Size([100, 3, 32, 32])\n",
      "torch.Size([100, 3, 32, 32])\n",
      "torch.Size([100, 3, 32, 32])\n",
      "torch.Size([100, 3, 32, 32])\n",
      "torch.Size([100, 3, 32, 32])\n",
      "torch.Size([100, 3, 32, 32])\n",
      "torch.Size([100, 3, 32, 32])\n",
      "torch.Size([100, 3, 32, 32])\n",
      "torch.Size([100, 3, 32, 32])\n",
      "torch.Size([100, 3, 32, 32])\n",
      "torch.Size([100, 3, 32, 32])\n",
      "torch.Size([100, 3, 32, 32])\n",
      "torch.Size([100, 3, 32, 32])\n",
      "torch.Size([100, 3, 32, 32])\n",
      "torch.Size([100, 3, 32, 32])\n",
      "torch.Size([100, 3, 32, 32])\n",
      "torch.Size([100, 3, 32, 32])\n",
      "torch.Size([100, 3, 32, 32])\n",
      "torch.Size([100, 3, 32, 32])\n",
      "torch.Size([100, 3, 32, 32])\n",
      "torch.Size([100, 3, 32, 32])\n",
      "torch.Size([100, 3, 32, 32])\n",
      "torch.Size([100, 3, 32, 32])\n",
      "torch.Size([100, 3, 32, 32])\n",
      "torch.Size([100, 3, 32, 32])\n",
      "torch.Size([100, 3, 32, 32])\n",
      "torch.Size([100, 3, 32, 32])\n",
      "torch.Size([100, 3, 32, 32])\n",
      "torch.Size([100, 3, 32, 32])\n",
      "torch.Size([100, 3, 32, 32])\n",
      "torch.Size([100, 3, 32, 32])\n",
      "torch.Size([100, 3, 32, 32])\n",
      "torch.Size([100, 3, 32, 32])\n",
      "torch.Size([100, 3, 32, 32])\n",
      "torch.Size([100, 3, 32, 32])\n",
      "torch.Size([100, 3, 32, 32])\n",
      "torch.Size([100, 3, 32, 32])\n",
      "torch.Size([100, 3, 32, 32])\n",
      "torch.Size([100, 3, 32, 32])\n",
      "torch.Size([100, 3, 32, 32])\n",
      "torch.Size([100, 3, 32, 32])\n",
      "torch.Size([100, 3, 32, 32])\n",
      "torch.Size([100, 3, 32, 32])\n",
      "torch.Size([100, 3, 32, 32])\n",
      "torch.Size([100, 3, 32, 32])\n",
      "torch.Size([100, 3, 32, 32])\n",
      "torch.Size([100, 3, 32, 32])\n",
      "torch.Size([100, 3, 32, 32])\n",
      "torch.Size([100, 3, 32, 32])\n",
      "torch.Size([100, 3, 32, 32])\n",
      "torch.Size([100, 3, 32, 32])\n",
      "torch.Size([100, 3, 32, 32])\n",
      "torch.Size([100, 3, 32, 32])\n",
      "torch.Size([100, 3, 32, 32])\n",
      "torch.Size([100, 3, 32, 32])\n",
      "torch.Size([100, 3, 32, 32])\n",
      "torch.Size([100, 3, 32, 32])\n",
      "torch.Size([100, 3, 32, 32])\n",
      "torch.Size([100, 3, 32, 32])\n",
      "torch.Size([100, 3, 32, 32])\n",
      "torch.Size([100, 3, 32, 32])\n",
      "torch.Size([100, 3, 32, 32])\n",
      "torch.Size([100, 3, 32, 32])\n",
      "torch.Size([100, 3, 32, 32])\n",
      "torch.Size([100, 3, 32, 32])\n",
      "torch.Size([100, 3, 32, 32])\n",
      "torch.Size([100, 3, 32, 32])\n",
      "torch.Size([100, 3, 32, 32])\n",
      "torch.Size([100, 3, 32, 32])\n",
      "torch.Size([100, 3, 32, 32])\n",
      "torch.Size([100, 3, 32, 32])\n",
      "torch.Size([100, 3, 32, 32])\n",
      "torch.Size([100, 3, 32, 32])\n",
      "torch.Size([100, 3, 32, 32])\n",
      "torch.Size([100, 3, 32, 32])\n",
      "torch.Size([100, 3, 32, 32])\n",
      "torch.Size([100, 3, 32, 32])\n",
      "torch.Size([100, 3, 32, 32])\n",
      "torch.Size([100, 3, 32, 32])\n",
      "torch.Size([100, 3, 32, 32])\n",
      "torch.Size([100, 3, 32, 32])\n",
      "torch.Size([100, 3, 32, 32])\n",
      "torch.Size([100, 3, 32, 32])\n",
      "torch.Size([100, 3, 32, 32])\n",
      "torch.Size([100, 3, 32, 32])\n",
      "torch.Size([100, 3, 32, 32])\n",
      "torch.Size([100, 3, 32, 32])\n",
      "torch.Size([100, 3, 32, 32])\n",
      "torch.Size([100, 3, 32, 32])\n",
      "torch.Size([100, 3, 32, 32])\n",
      "torch.Size([100, 3, 32, 32])\n",
      "torch.Size([100, 3, 32, 32])\n",
      "torch.Size([100, 3, 32, 32])\n",
      "torch.Size([100, 3, 32, 32])\n",
      "torch.Size([100, 3, 32, 32])\n",
      "torch.Size([100, 3, 32, 32])\n",
      "torch.Size([100, 3, 32, 32])\n",
      "torch.Size([100, 3, 32, 32])\n",
      "torch.Size([100, 3, 32, 32])\n",
      "torch.Size([100, 3, 32, 32])\n",
      "torch.Size([100, 3, 32, 32])\n",
      "torch.Size([100, 3, 32, 32])\n",
      "torch.Size([100, 3, 32, 32])\n",
      "torch.Size([100, 3, 32, 32])\n",
      "torch.Size([100, 3, 32, 32])\n",
      "torch.Size([100, 3, 32, 32])\n",
      "torch.Size([100, 3, 32, 32])\n",
      "torch.Size([100, 3, 32, 32])\n",
      "torch.Size([100, 3, 32, 32])\n",
      "torch.Size([100, 3, 32, 32])\n",
      "torch.Size([100, 3, 32, 32])\n",
      "torch.Size([100, 3, 32, 32])\n",
      "torch.Size([100, 3, 32, 32])\n",
      "torch.Size([100, 3, 32, 32])\n",
      "torch.Size([100, 3, 32, 32])\n",
      "torch.Size([100, 3, 32, 32])\n",
      "torch.Size([100, 3, 32, 32])\n",
      "torch.Size([100, 3, 32, 32])\n",
      "torch.Size([100, 3, 32, 32])\n",
      "torch.Size([100, 3, 32, 32])\n",
      "torch.Size([100, 3, 32, 32])\n",
      "torch.Size([100, 3, 32, 32])\n",
      "torch.Size([100, 3, 32, 32])\n",
      "torch.Size([100, 3, 32, 32])\n",
      "torch.Size([100, 3, 32, 32])\n",
      "torch.Size([100, 3, 32, 32])\n",
      "torch.Size([100, 3, 32, 32])\n",
      "torch.Size([100, 3, 32, 32])\n",
      "torch.Size([100, 3, 32, 32])\n",
      "torch.Size([100, 3, 32, 32])\n",
      "torch.Size([100, 3, 32, 32])\n",
      "torch.Size([100, 3, 32, 32])\n",
      "torch.Size([100, 3, 32, 32])\n",
      "torch.Size([100, 3, 32, 32])\n",
      "torch.Size([100, 3, 32, 32])\n",
      "torch.Size([100, 3, 32, 32])\n",
      "torch.Size([100, 3, 32, 32])\n",
      "torch.Size([100, 3, 32, 32])\n",
      "torch.Size([100, 3, 32, 32])\n",
      "torch.Size([100, 3, 32, 32])\n",
      "torch.Size([100, 3, 32, 32])\n",
      "torch.Size([100, 3, 32, 32])\n",
      "torch.Size([100, 3, 32, 32])\n",
      "torch.Size([100, 3, 32, 32])\n",
      "torch.Size([100, 3, 32, 32])\n",
      "torch.Size([100, 3, 32, 32])\n",
      "torch.Size([100, 3, 32, 32])\n",
      "torch.Size([100, 3, 32, 32])\n",
      "torch.Size([100, 3, 32, 32])\n",
      "torch.Size([100, 3, 32, 32])\n",
      "torch.Size([100, 3, 32, 32])\n",
      "torch.Size([100, 3, 32, 32])\n",
      "torch.Size([100, 3, 32, 32])\n",
      "torch.Size([100, 3, 32, 32])\n",
      "torch.Size([100, 3, 32, 32])\n",
      "torch.Size([100, 3, 32, 32])\n",
      "torch.Size([100, 3, 32, 32])\n",
      "torch.Size([100, 3, 32, 32])\n",
      "torch.Size([100, 3, 32, 32])\n",
      "torch.Size([100, 3, 32, 32])\n",
      "torch.Size([100, 3, 32, 32])\n",
      "torch.Size([100, 3, 32, 32])\n",
      "torch.Size([100, 3, 32, 32])\n",
      "torch.Size([100, 3, 32, 32])\n",
      "torch.Size([100, 3, 32, 32])\n",
      "torch.Size([100, 3, 32, 32])\n",
      "torch.Size([100, 3, 32, 32])\n",
      "torch.Size([100, 3, 32, 32])\n",
      "torch.Size([100, 3, 32, 32])\n",
      "torch.Size([100, 3, 32, 32])\n",
      "torch.Size([100, 3, 32, 32])\n",
      "torch.Size([100, 3, 32, 32])\n",
      "torch.Size([100, 3, 32, 32])\n",
      "torch.Size([100, 3, 32, 32])\n",
      "torch.Size([100, 3, 32, 32])\n",
      "torch.Size([100, 3, 32, 32])\n",
      "torch.Size([100, 3, 32, 32])\n",
      "torch.Size([100, 3, 32, 32])\n",
      "torch.Size([100, 3, 32, 32])\n",
      "torch.Size([100, 3, 32, 32])\n",
      "torch.Size([100, 3, 32, 32])\n",
      "torch.Size([100, 3, 32, 32])\n",
      "torch.Size([100, 3, 32, 32])\n",
      "torch.Size([100, 3, 32, 32])\n",
      "torch.Size([100, 3, 32, 32])\n",
      "torch.Size([100, 3, 32, 32])\n",
      "torch.Size([100, 3, 32, 32])\n",
      "torch.Size([100, 3, 32, 32])\n",
      "torch.Size([100, 3, 32, 32])\n",
      "torch.Size([100, 3, 32, 32])\n",
      "torch.Size([100, 3, 32, 32])\n",
      "torch.Size([100, 3, 32, 32])\n",
      "torch.Size([100, 3, 32, 32])\n",
      "torch.Size([100, 3, 32, 32])\n",
      "torch.Size([100, 3, 32, 32])\n",
      "torch.Size([100, 3, 32, 32])\n",
      "torch.Size([100, 3, 32, 32])\n",
      "torch.Size([100, 3, 32, 32])\n",
      "torch.Size([100, 3, 32, 32])\n",
      "torch.Size([100, 3, 32, 32])\n",
      "torch.Size([100, 3, 32, 32])\n",
      "torch.Size([100, 3, 32, 32])\n",
      "torch.Size([100, 3, 32, 32])\n",
      "torch.Size([100, 3, 32, 32])\n",
      "torch.Size([100, 3, 32, 32])\n",
      "torch.Size([100, 3, 32, 32])\n",
      "torch.Size([100, 3, 32, 32])\n",
      "torch.Size([100, 3, 32, 32])\n",
      "torch.Size([100, 3, 32, 32])\n",
      "torch.Size([100, 3, 32, 32])\n",
      "torch.Size([100, 3, 32, 32])\n",
      "torch.Size([100, 3, 32, 32])\n",
      "torch.Size([100, 3, 32, 32])\n",
      "torch.Size([100, 3, 32, 32])\n",
      "torch.Size([100, 3, 32, 32])\n",
      "torch.Size([100, 3, 32, 32])\n",
      "torch.Size([100, 3, 32, 32])\n",
      "torch.Size([100, 3, 32, 32])\n",
      "torch.Size([100, 3, 32, 32])\n",
      "torch.Size([100, 3, 32, 32])\n",
      "torch.Size([100, 3, 32, 32])\n",
      "torch.Size([100, 3, 32, 32])\n",
      "torch.Size([100, 3, 32, 32])\n",
      "torch.Size([100, 3, 32, 32])\n",
      "torch.Size([100, 3, 32, 32])\n",
      "torch.Size([100, 3, 32, 32])\n",
      "torch.Size([100, 3, 32, 32])\n",
      "torch.Size([100, 3, 32, 32])\n",
      "torch.Size([100, 3, 32, 32])\n",
      "torch.Size([100, 3, 32, 32])\n",
      "torch.Size([100, 3, 32, 32])\n",
      "torch.Size([100, 3, 32, 32])\n",
      "torch.Size([100, 3, 32, 32])\n",
      "torch.Size([100, 3, 32, 32])\n",
      "torch.Size([100, 3, 32, 32])\n",
      "torch.Size([100, 3, 32, 32])\n",
      "torch.Size([100, 3, 32, 32])\n",
      "torch.Size([100, 3, 32, 32])\n",
      "torch.Size([100, 3, 32, 32])\n",
      "torch.Size([100, 3, 32, 32])\n",
      "torch.Size([100, 3, 32, 32])\n",
      "torch.Size([100, 3, 32, 32])\n",
      "torch.Size([100, 3, 32, 32])\n",
      "torch.Size([100, 3, 32, 32])\n",
      "torch.Size([100, 3, 32, 32])\n",
      "torch.Size([100, 3, 32, 32])\n",
      "torch.Size([100, 3, 32, 32])\n",
      "torch.Size([100, 3, 32, 32])\n",
      "torch.Size([100, 3, 32, 32])\n",
      "torch.Size([100, 3, 32, 32])\n",
      "torch.Size([100, 3, 32, 32])\n",
      "torch.Size([100, 3, 32, 32])\n",
      "torch.Size([100, 3, 32, 32])\n",
      "torch.Size([100, 3, 32, 32])\n",
      "torch.Size([100, 3, 32, 32])\n",
      "torch.Size([100, 3, 32, 32])\n",
      "torch.Size([100, 3, 32, 32])\n",
      "torch.Size([100, 3, 32, 32])\n",
      "torch.Size([100, 3, 32, 32])\n",
      "torch.Size([100, 3, 32, 32])\n",
      "torch.Size([100, 3, 32, 32])\n",
      "torch.Size([100, 3, 32, 32])\n",
      "torch.Size([100, 3, 32, 32])\n",
      "torch.Size([100, 3, 32, 32])\n",
      "torch.Size([100, 3, 32, 32])\n",
      "torch.Size([100, 3, 32, 32])\n",
      "torch.Size([100, 3, 32, 32])\n",
      "torch.Size([100, 3, 32, 32])\n",
      "torch.Size([100, 3, 32, 32])\n",
      "torch.Size([100, 3, 32, 32])\n",
      "torch.Size([100, 3, 32, 32])\n",
      "torch.Size([100, 3, 32, 32])\n",
      "torch.Size([100, 3, 32, 32])\n",
      "torch.Size([100, 3, 32, 32])\n",
      "torch.Size([100, 3, 32, 32])\n",
      "torch.Size([100, 3, 32, 32])\n",
      "torch.Size([100, 3, 32, 32])\n",
      "torch.Size([100, 3, 32, 32])\n",
      "torch.Size([100, 3, 32, 32])\n",
      "torch.Size([100, 3, 32, 32])\n",
      "torch.Size([100, 3, 32, 32])\n",
      "torch.Size([100, 3, 32, 32])\n",
      "torch.Size([100, 3, 32, 32])\n",
      "torch.Size([100, 3, 32, 32])\n",
      "torch.Size([100, 3, 32, 32])\n",
      "torch.Size([100, 3, 32, 32])\n",
      "torch.Size([100, 3, 32, 32])\n",
      "torch.Size([100, 3, 32, 32])\n",
      "torch.Size([100, 3, 32, 32])\n",
      "torch.Size([100, 3, 32, 32])\n",
      "torch.Size([100, 3, 32, 32])\n",
      "torch.Size([100, 3, 32, 32])\n"
     ]
    },
    {
     "name": "stdout",
     "output_type": "stream",
     "text": [
      "torch.Size([100, 3, 32, 32])\n",
      "torch.Size([100, 3, 32, 32])\n",
      "torch.Size([100, 3, 32, 32])\n",
      "torch.Size([100, 3, 32, 32])\n",
      "torch.Size([100, 3, 32, 32])\n",
      "torch.Size([100, 3, 32, 32])\n",
      "torch.Size([100, 3, 32, 32])\n",
      "torch.Size([100, 3, 32, 32])\n",
      "torch.Size([100, 3, 32, 32])\n",
      "torch.Size([100, 3, 32, 32])\n",
      "torch.Size([100, 3, 32, 32])\n",
      "torch.Size([100, 3, 32, 32])\n",
      "torch.Size([100, 3, 32, 32])\n",
      "torch.Size([100, 3, 32, 32])\n",
      "torch.Size([100, 3, 32, 32])\n",
      "torch.Size([100, 3, 32, 32])\n",
      "torch.Size([100, 3, 32, 32])\n",
      "torch.Size([100, 3, 32, 32])\n",
      "torch.Size([100, 3, 32, 32])\n",
      "torch.Size([100, 3, 32, 32])\n",
      "torch.Size([100, 3, 32, 32])\n",
      "torch.Size([100, 3, 32, 32])\n",
      "torch.Size([100, 3, 32, 32])\n",
      "torch.Size([100, 3, 32, 32])\n",
      "torch.Size([100, 3, 32, 32])\n",
      "torch.Size([100, 3, 32, 32])\n",
      "torch.Size([100, 3, 32, 32])\n",
      "torch.Size([100, 3, 32, 32])\n",
      "torch.Size([100, 3, 32, 32])\n",
      "torch.Size([100, 3, 32, 32])\n",
      "torch.Size([100, 3, 32, 32])\n",
      "torch.Size([100, 3, 32, 32])\n",
      "torch.Size([100, 3, 32, 32])\n",
      "torch.Size([100, 3, 32, 32])\n",
      "torch.Size([100, 3, 32, 32])\n",
      "torch.Size([100, 3, 32, 32])\n",
      "torch.Size([100, 3, 32, 32])\n",
      "torch.Size([100, 3, 32, 32])\n",
      "torch.Size([100, 3, 32, 32])\n",
      "torch.Size([100, 3, 32, 32])\n",
      "torch.Size([100, 3, 32, 32])\n",
      "torch.Size([100, 3, 32, 32])\n",
      "torch.Size([100, 3, 32, 32])\n",
      "torch.Size([100, 3, 32, 32])\n",
      "torch.Size([100, 3, 32, 32])\n",
      "torch.Size([100, 3, 32, 32])\n",
      "torch.Size([100, 3, 32, 32])\n",
      "torch.Size([100, 3, 32, 32])\n",
      "torch.Size([100, 3, 32, 32])\n",
      "torch.Size([100, 3, 32, 32])\n",
      "torch.Size([100, 3, 32, 32])\n",
      "torch.Size([100, 3, 32, 32])\n",
      "torch.Size([100, 3, 32, 32])\n",
      "torch.Size([100, 3, 32, 32])\n",
      "torch.Size([100, 3, 32, 32])\n",
      "torch.Size([100, 3, 32, 32])\n",
      "torch.Size([100, 3, 32, 32])\n",
      "torch.Size([100, 3, 32, 32])\n",
      "torch.Size([100, 3, 32, 32])\n",
      "torch.Size([100, 3, 32, 32])\n",
      "torch.Size([100, 3, 32, 32])\n",
      "torch.Size([100, 3, 32, 32])\n",
      "torch.Size([100, 3, 32, 32])\n",
      "torch.Size([100, 3, 32, 32])\n",
      "torch.Size([100, 3, 32, 32])\n",
      "torch.Size([100, 3, 32, 32])\n",
      "torch.Size([100, 3, 32, 32])\n",
      "torch.Size([100, 3, 32, 32])\n",
      "torch.Size([100, 3, 32, 32])\n",
      "torch.Size([100, 3, 32, 32])\n",
      "torch.Size([100, 3, 32, 32])\n",
      "torch.Size([100, 3, 32, 32])\n",
      "torch.Size([100, 3, 32, 32])\n",
      "torch.Size([100, 3, 32, 32])\n",
      "torch.Size([100, 3, 32, 32])\n",
      "torch.Size([100, 3, 32, 32])\n",
      "torch.Size([100, 3, 32, 32])\n",
      "torch.Size([100, 3, 32, 32])\n",
      "torch.Size([100, 3, 32, 32])\n",
      "torch.Size([100, 3, 32, 32])\n",
      "torch.Size([100, 3, 32, 32])\n",
      "torch.Size([100, 3, 32, 32])\n",
      "torch.Size([100, 3, 32, 32])\n",
      "torch.Size([100, 3, 32, 32])\n",
      "torch.Size([100, 3, 32, 32])\n",
      "torch.Size([100, 3, 32, 32])\n",
      "torch.Size([100, 3, 32, 32])\n",
      "torch.Size([100, 3, 32, 32])\n",
      "torch.Size([100, 3, 32, 32])\n",
      "torch.Size([100, 3, 32, 32])\n",
      "torch.Size([100, 3, 32, 32])\n",
      "torch.Size([100, 3, 32, 32])\n",
      "torch.Size([100, 3, 32, 32])\n",
      "torch.Size([100, 3, 32, 32])\n",
      "torch.Size([100, 3, 32, 32])\n",
      "torch.Size([100, 3, 32, 32])\n",
      "torch.Size([100, 3, 32, 32])\n",
      "torch.Size([100, 3, 32, 32])\n",
      "torch.Size([100, 3, 32, 32])\n",
      "torch.Size([100, 3, 32, 32])\n",
      "torch.Size([100, 3, 32, 32])\n",
      "torch.Size([100, 3, 32, 32])\n",
      "torch.Size([100, 3, 32, 32])\n",
      "torch.Size([100, 3, 32, 32])\n",
      "torch.Size([100, 3, 32, 32])\n",
      "torch.Size([100, 3, 32, 32])\n",
      "torch.Size([100, 3, 32, 32])\n",
      "torch.Size([100, 3, 32, 32])\n",
      "torch.Size([100, 3, 32, 32])\n",
      "torch.Size([100, 3, 32, 32])\n",
      "torch.Size([100, 3, 32, 32])\n",
      "torch.Size([100, 3, 32, 32])\n",
      "torch.Size([100, 3, 32, 32])\n",
      "torch.Size([100, 3, 32, 32])\n",
      "torch.Size([100, 3, 32, 32])\n",
      "torch.Size([100, 3, 32, 32])\n",
      "torch.Size([100, 3, 32, 32])\n",
      "torch.Size([100, 3, 32, 32])\n",
      "torch.Size([100, 3, 32, 32])\n",
      "torch.Size([100, 3, 32, 32])\n",
      "torch.Size([100, 3, 32, 32])\n",
      "torch.Size([100, 3, 32, 32])\n",
      "torch.Size([100, 3, 32, 32])\n",
      "torch.Size([100, 3, 32, 32])\n",
      "torch.Size([100, 3, 32, 32])\n",
      "torch.Size([100, 3, 32, 32])\n",
      "torch.Size([100, 3, 32, 32])\n",
      "torch.Size([100, 3, 32, 32])\n",
      "torch.Size([100, 3, 32, 32])\n",
      "torch.Size([100, 3, 32, 32])\n",
      "torch.Size([100, 3, 32, 32])\n",
      "torch.Size([100, 3, 32, 32])\n",
      "torch.Size([100, 3, 32, 32])\n",
      "torch.Size([100, 3, 32, 32])\n",
      "torch.Size([100, 3, 32, 32])\n",
      "torch.Size([100, 3, 32, 32])\n",
      "torch.Size([100, 3, 32, 32])\n",
      "torch.Size([100, 3, 32, 32])\n",
      "torch.Size([100, 3, 32, 32])\n",
      "torch.Size([100, 3, 32, 32])\n",
      "torch.Size([100, 3, 32, 32])\n",
      "torch.Size([100, 3, 32, 32])\n",
      "torch.Size([100, 3, 32, 32])\n",
      "torch.Size([100, 3, 32, 32])\n",
      "torch.Size([100, 3, 32, 32])\n",
      "torch.Size([100, 3, 32, 32])\n",
      "torch.Size([100, 3, 32, 32])\n",
      "torch.Size([100, 3, 32, 32])\n",
      "torch.Size([100, 3, 32, 32])\n",
      "torch.Size([100, 3, 32, 32])\n",
      "torch.Size([100, 3, 32, 32])\n",
      "torch.Size([100, 3, 32, 32])\n",
      "torch.Size([100, 3, 32, 32])\n",
      "torch.Size([100, 3, 32, 32])\n",
      "torch.Size([100, 3, 32, 32])\n",
      "torch.Size([100, 3, 32, 32])\n",
      "torch.Size([100, 3, 32, 32])\n",
      "torch.Size([100, 3, 32, 32])\n",
      "torch.Size([100, 3, 32, 32])\n",
      "torch.Size([100, 3, 32, 32])\n",
      "torch.Size([100, 3, 32, 32])\n",
      "torch.Size([100, 3, 32, 32])\n",
      "torch.Size([100, 3, 32, 32])\n",
      "torch.Size([100, 3, 32, 32])\n",
      "torch.Size([100, 3, 32, 32])\n",
      "torch.Size([100, 3, 32, 32])\n",
      "torch.Size([100, 3, 32, 32])\n",
      "torch.Size([100, 3, 32, 32])\n",
      "torch.Size([100, 3, 32, 32])\n",
      "torch.Size([100, 3, 32, 32])\n",
      "torch.Size([100, 3, 32, 32])\n",
      "torch.Size([100, 3, 32, 32])\n",
      "torch.Size([100, 3, 32, 32])\n",
      "torch.Size([100, 3, 32, 32])\n",
      "torch.Size([100, 3, 32, 32])\n",
      "torch.Size([100, 3, 32, 32])\n",
      "torch.Size([100, 3, 32, 32])\n",
      "torch.Size([100, 3, 32, 32])\n",
      "torch.Size([100, 3, 32, 32])\n",
      "torch.Size([100, 3, 32, 32])\n",
      "torch.Size([100, 3, 32, 32])\n",
      "torch.Size([100, 3, 32, 32])\n",
      "torch.Size([100, 3, 32, 32])\n",
      "torch.Size([100, 3, 32, 32])\n",
      "torch.Size([100, 3, 32, 32])\n",
      "torch.Size([100, 3, 32, 32])\n",
      "torch.Size([100, 3, 32, 32])\n",
      "torch.Size([100, 3, 32, 32])\n",
      "torch.Size([100, 3, 32, 32])\n",
      "torch.Size([100, 3, 32, 32])\n",
      "torch.Size([100, 3, 32, 32])\n",
      "torch.Size([100, 3, 32, 32])\n",
      "torch.Size([100, 3, 32, 32])\n",
      "torch.Size([100, 3, 32, 32])\n",
      "torch.Size([100, 3, 32, 32])\n",
      "torch.Size([100, 3, 32, 32])\n",
      "torch.Size([100, 3, 32, 32])\n",
      "torch.Size([100, 3, 32, 32])\n"
     ]
    }
   ],
   "source": [
    "# Actual usage of data loader is as below\n",
    "for images, labels in train_loader:\n",
    "    "
   ]
  },
  {
   "cell_type": "code",
   "execution_count": null,
   "metadata": {
    "collapsed": true
   },
   "outputs": [],
   "source": []
  }
 ],
 "metadata": {
  "kernelspec": {
   "display_name": "Python 3",
   "language": "python",
   "name": "python3"
  },
  "language_info": {
   "codemirror_mode": {
    "name": "ipython",
    "version": 3
   },
   "file_extension": ".py",
   "mimetype": "text/x-python",
   "name": "python",
   "nbconvert_exporter": "python",
   "pygments_lexer": "ipython3",
   "version": "3.5.2"
  }
 },
 "nbformat": 4,
 "nbformat_minor": 2
}
