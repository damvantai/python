{
 "cells": [
  {
   "cell_type": "code",
   "execution_count": 1,
   "metadata": {
    "collapsed": true
   },
   "outputs": [],
   "source": [
    "import torch\n",
    "import torch.nn as nn\n",
    "import torchvision.datasets as dsets\n",
    "import torchvision.transforms as transforms\n",
    "from torch.autograd import Variable\n",
    "import torchvision\n"
   ]
  },
  {
   "cell_type": "code",
   "execution_count": 20,
   "metadata": {
    "collapsed": true
   },
   "outputs": [],
   "source": [
    "# Hyper parameters\n",
    "input_size = 784\n",
    "hidden_size = 500\n",
    "num_classes = 10\n",
    "num_epochs = 5\n",
    "batch_size = 100\n",
    "learning_rate = 0.001"
   ]
  },
  {
   "cell_type": "code",
   "execution_count": 21,
   "metadata": {},
   "outputs": [],
   "source": [
    "transform = transforms.Compose([transforms.ToTensor(), transforms.Normalize((0.5, 0.5, 0.5), (0.5, 0.5, 0.5))])"
   ]
  },
  {
   "cell_type": "code",
   "execution_count": 22,
   "metadata": {},
   "outputs": [
    {
     "name": "stdout",
     "output_type": "stream",
     "text": [
      "<torchvision.transforms.Compose object at 0x7f51ba2bbb70>\n"
     ]
    }
   ],
   "source": [
    "print(transform)"
   ]
  },
  {
   "cell_type": "code",
   "execution_count": 23,
   "metadata": {},
   "outputs": [],
   "source": [
    "trainset = torchvision.datasets.MNIST(root='/home/damvantai/Documents/data', train=True, download=True, transform=transform)"
   ]
  },
  {
   "cell_type": "code",
   "execution_count": 24,
   "metadata": {
    "collapsed": true
   },
   "outputs": [],
   "source": [
    "trainloader = torch.utils.data.DataLoader(trainset, batch_size=4, shuffle=True, num_workers=2)"
   ]
  },
  {
   "cell_type": "code",
   "execution_count": 25,
   "metadata": {
    "collapsed": true
   },
   "outputs": [],
   "source": [
    "testset = torchvision.datasets.MNIST(root='/home/damvantai/Documents/data', train=False, download=True, transform=transform)"
   ]
  },
  {
   "cell_type": "code",
   "execution_count": 26,
   "metadata": {
    "collapsed": true
   },
   "outputs": [],
   "source": [
    "testloader = torch.utils.data.DataLoader(testset, batch_size=4, shuffle=False, num_workers=2)"
   ]
  },
  {
   "cell_type": "code",
   "execution_count": 27,
   "metadata": {},
   "outputs": [
    {
     "name": "stdout",
     "output_type": "stream",
     "text": [
      "<torch.utils.data.dataloader.DataLoader object at 0x7f51ba2bb2b0>\n"
     ]
    }
   ],
   "source": [
    "print(trainloader)"
   ]
  },
  {
   "cell_type": "code",
   "execution_count": 28,
   "metadata": {
    "collapsed": true
   },
   "outputs": [],
   "source": [
    "# train_loader = torch.utils.data.DataLoader(dsets.MNIST('/home/damvantai/Documents/data', train=True, download=True, transform=transforms.Compose([\n",
    "#     transforms.ToTensor(),\n",
    "#     transforms.Normalize((0.1307,), (0.3081,))\n",
    "# ])),batch_size=batch_size, shuffle=True)"
   ]
  },
  {
   "cell_type": "code",
   "execution_count": 29,
   "metadata": {
    "collapsed": true
   },
   "outputs": [],
   "source": [
    "# test_loader = torch.utils.data.DataLoader(\n",
    "#     dsets.MNIST('/home/damvantai/Documents/data',\n",
    "#                train=False,\n",
    "#                download=True,\n",
    "#                transform=transforms.Compose(\n",
    "#                [\n",
    "#                    transforms.ToTensor(),\n",
    "#                    transforms.Normalize((0.1307,), (0.3081,))\n",
    "#                ])),\n",
    "#     batch_size=batch_size, shuffle=True\n",
    "# )"
   ]
  },
  {
   "cell_type": "code",
   "execution_count": 30,
   "metadata": {
    "collapsed": true
   },
   "outputs": [],
   "source": [
    "class Net(nn.Module):\n",
    "    def __init__(self, input_size, hidden_size, num_classes):\n",
    "        super(Net, self).__init__()\n",
    "        self.fc1 = nn.Linear(input_size, hidden_size)\n",
    "        self.relu = nn.ReLU()\n",
    "        self.fc2 = nn.Linear(hidden_size, num_classes)\n",
    "        \n",
    "    def forward(self, x):\n",
    "        out = self.fc1(x)\n",
    "        out = self.relu(out)\n",
    "        out = self.fc2(out)\n",
    "        return out"
   ]
  },
  {
   "cell_type": "code",
   "execution_count": 31,
   "metadata": {
    "collapsed": true
   },
   "outputs": [],
   "source": [
    "net = Net(input_size, hidden_size, num_classes)"
   ]
  },
  {
   "cell_type": "code",
   "execution_count": 32,
   "metadata": {
    "collapsed": true
   },
   "outputs": [],
   "source": [
    "# Loss and optimizer\n",
    "criterion = nn.CrossEntropyLoss()\n",
    "optimizer = torch.optim.Adam(net.parameters(), lr=learning_rate)"
   ]
  },
  {
   "cell_type": "code",
   "execution_count": null,
   "metadata": {},
   "outputs": [
    {
     "name": "stdout",
     "output_type": "stream",
     "text": [
      "Epoch [1/5], Step [100/600], loss: 0.5942\n",
      "Epoch [1/5], Step [200/600], loss: 0.7456\n",
      "Epoch [1/5], Step [300/600], loss: 0.2328\n",
      "Epoch [1/5], Step [400/600], loss: 0.8443\n",
      "Epoch [1/5], Step [500/600], loss: 0.9767\n",
      "Epoch [1/5], Step [600/600], loss: 0.1541\n",
      "Epoch [1/5], Step [700/600], loss: 0.7111\n",
      "Epoch [1/5], Step [800/600], loss: 0.0983\n",
      "Epoch [1/5], Step [900/600], loss: 0.0281\n",
      "Epoch [1/5], Step [1000/600], loss: 0.2043\n",
      "Epoch [1/5], Step [1100/600], loss: 0.7359\n",
      "Epoch [1/5], Step [1200/600], loss: 0.0261\n",
      "Epoch [1/5], Step [1300/600], loss: 1.9526\n",
      "Epoch [1/5], Step [1400/600], loss: 1.1272\n",
      "Epoch [1/5], Step [1500/600], loss: 0.0997\n",
      "Epoch [1/5], Step [1600/600], loss: 0.3241\n",
      "Epoch [1/5], Step [1700/600], loss: 0.7419\n",
      "Epoch [1/5], Step [1800/600], loss: 0.4995\n",
      "Epoch [1/5], Step [1900/600], loss: 0.0294\n",
      "Epoch [1/5], Step [2000/600], loss: 0.5367\n",
      "Epoch [1/5], Step [2100/600], loss: 0.0130\n",
      "Epoch [1/5], Step [2200/600], loss: 0.4844\n",
      "Epoch [1/5], Step [2300/600], loss: 0.3515\n",
      "Epoch [1/5], Step [2400/600], loss: 0.2865\n",
      "Epoch [1/5], Step [2500/600], loss: 0.5294\n",
      "Epoch [1/5], Step [2600/600], loss: 1.3769\n",
      "Epoch [1/5], Step [2700/600], loss: 0.0900\n",
      "Epoch [1/5], Step [2800/600], loss: 0.1380\n",
      "Epoch [1/5], Step [2900/600], loss: 0.2038\n",
      "Epoch [1/5], Step [3000/600], loss: 0.7749\n",
      "Epoch [1/5], Step [3100/600], loss: 0.0287\n",
      "Epoch [1/5], Step [3200/600], loss: 0.1263\n",
      "Epoch [1/5], Step [3300/600], loss: 0.0554\n",
      "Epoch [1/5], Step [3400/600], loss: 0.0245\n",
      "Epoch [1/5], Step [3500/600], loss: 0.0679\n",
      "Epoch [1/5], Step [3600/600], loss: 0.0019\n",
      "Epoch [1/5], Step [3700/600], loss: 0.0119\n",
      "Epoch [1/5], Step [3800/600], loss: 0.6639\n",
      "Epoch [1/5], Step [3900/600], loss: 0.0207\n",
      "Epoch [1/5], Step [4000/600], loss: 0.2972\n",
      "Epoch [1/5], Step [4100/600], loss: 0.2901\n",
      "Epoch [1/5], Step [4200/600], loss: 0.3651\n",
      "Epoch [1/5], Step [4300/600], loss: 0.0617\n",
      "Epoch [1/5], Step [4400/600], loss: 0.5435\n",
      "Epoch [1/5], Step [4500/600], loss: 0.0223\n",
      "Epoch [1/5], Step [4600/600], loss: 0.2517\n",
      "Epoch [1/5], Step [4700/600], loss: 0.1852\n",
      "Epoch [1/5], Step [4800/600], loss: 1.9810\n",
      "Epoch [1/5], Step [4900/600], loss: 0.1445\n",
      "Epoch [1/5], Step [5000/600], loss: 0.0499\n",
      "Epoch [1/5], Step [5100/600], loss: 0.1604\n",
      "Epoch [1/5], Step [5200/600], loss: 0.0903\n",
      "Epoch [1/5], Step [5300/600], loss: 1.0240\n",
      "Epoch [1/5], Step [5400/600], loss: 1.2531\n",
      "Epoch [1/5], Step [5500/600], loss: 0.2316\n",
      "Epoch [1/5], Step [5600/600], loss: 1.1098\n",
      "Epoch [1/5], Step [5700/600], loss: 0.0065\n",
      "Epoch [1/5], Step [5800/600], loss: 0.1850\n",
      "Epoch [1/5], Step [5900/600], loss: 0.0133\n",
      "Epoch [1/5], Step [6000/600], loss: 0.0469\n",
      "Epoch [1/5], Step [6100/600], loss: 0.1610\n",
      "Epoch [1/5], Step [6200/600], loss: 0.9147\n",
      "Epoch [1/5], Step [6300/600], loss: 0.6524\n",
      "Epoch [1/5], Step [6400/600], loss: 0.0104\n",
      "Epoch [1/5], Step [6500/600], loss: 0.0060\n",
      "Epoch [1/5], Step [6600/600], loss: 0.0066\n",
      "Epoch [1/5], Step [6700/600], loss: 0.0496\n",
      "Epoch [1/5], Step [6800/600], loss: 0.0453\n",
      "Epoch [1/5], Step [6900/600], loss: 0.0115\n",
      "Epoch [1/5], Step [7000/600], loss: 0.0809\n",
      "Epoch [1/5], Step [7100/600], loss: 0.0264\n",
      "Epoch [1/5], Step [7200/600], loss: 0.0081\n",
      "Epoch [1/5], Step [7300/600], loss: 0.3551\n",
      "Epoch [1/5], Step [7400/600], loss: 0.2067\n",
      "Epoch [1/5], Step [7500/600], loss: 0.2022\n",
      "Epoch [1/5], Step [7600/600], loss: 0.0200\n",
      "Epoch [1/5], Step [7700/600], loss: 0.0021\n",
      "Epoch [1/5], Step [7800/600], loss: 0.2175\n"
     ]
    }
   ],
   "source": [
    "# Train the model\n",
    "for epoch in range(num_epochs):\n",
    "    for i, (images, labels) in enumerate(trainloader):\n",
    "        # Convert torch tensor to Variable\n",
    "        images = Variable(images.view(-1, 28*28))\n",
    "        labels= Variable(labels)\n",
    "        \n",
    "        # Forward + Backward + optimize\n",
    "        optimizer.zero_grad()\n",
    "        outputs = net(images)\n",
    "        loss = criterion(outputs, labels)\n",
    "        loss.backward()\n",
    "        optimizer.step()\n",
    "        \n",
    "        if (i + 1) % 100 == 0:\n",
    "            print(\"Epoch [%d/%d], Step [%d/%d], loss: %.4f\" %(epoch+1, num_epochs, i+1, len(trainset)//\n",
    "                                                             batch_size, loss.data[0]))"
   ]
  },
  {
   "cell_type": "code",
   "execution_count": null,
   "metadata": {
    "collapsed": true
   },
   "outputs": [],
   "source": []
  }
 ],
 "metadata": {
  "kernelspec": {
   "display_name": "Python 3",
   "language": "python",
   "name": "python3"
  },
  "language_info": {
   "codemirror_mode": {
    "name": "ipython",
    "version": 3
   },
   "file_extension": ".py",
   "mimetype": "text/x-python",
   "name": "python",
   "nbconvert_exporter": "python",
   "pygments_lexer": "ipython3",
   "version": "3.5.2"
  }
 },
 "nbformat": 4,
 "nbformat_minor": 2
}
