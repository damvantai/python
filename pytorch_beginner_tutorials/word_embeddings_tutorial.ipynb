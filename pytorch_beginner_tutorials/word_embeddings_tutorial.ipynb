{
 "cells": [
  {
   "cell_type": "code",
   "execution_count": 1,
   "metadata": {
    "collapsed": true
   },
   "outputs": [],
   "source": [
    "import torch"
   ]
  },
  {
   "cell_type": "code",
   "execution_count": 2,
   "metadata": {
    "collapsed": true
   },
   "outputs": [],
   "source": [
    "import torch.autograd as autograd"
   ]
  },
  {
   "cell_type": "code",
   "execution_count": 3,
   "metadata": {
    "collapsed": true
   },
   "outputs": [],
   "source": [
    "import torch.nn as nn"
   ]
  },
  {
   "cell_type": "code",
   "execution_count": 4,
   "metadata": {
    "collapsed": true
   },
   "outputs": [],
   "source": [
    "import torch.nn.functional as F"
   ]
  },
  {
   "cell_type": "code",
   "execution_count": 5,
   "metadata": {
    "collapsed": true
   },
   "outputs": [],
   "source": [
    "import torch.optim as optim"
   ]
  },
  {
   "cell_type": "code",
   "execution_count": 6,
   "metadata": {},
   "outputs": [
    {
     "data": {
      "text/plain": [
       "<torch._C.Generator at 0x7f6889ff8918>"
      ]
     },
     "execution_count": 6,
     "metadata": {},
     "output_type": "execute_result"
    }
   ],
   "source": [
    "torch.manual_seed(1)"
   ]
  },
  {
   "cell_type": "code",
   "execution_count": 7,
   "metadata": {
    "collapsed": true
   },
   "outputs": [],
   "source": [
    "word_to_ix = {\"hello\": 0, \"world\": 1}"
   ]
  },
  {
   "cell_type": "code",
   "execution_count": 8,
   "metadata": {
    "collapsed": true
   },
   "outputs": [],
   "source": [
    "embeds = nn.Embedding(2, 5)"
   ]
  },
  {
   "cell_type": "code",
   "execution_count": 9,
   "metadata": {},
   "outputs": [
    {
     "name": "stdout",
     "output_type": "stream",
     "text": [
      "Embedding(2, 5)\n"
     ]
    }
   ],
   "source": [
    "print(embeds)"
   ]
  },
  {
   "cell_type": "code",
   "execution_count": 10,
   "metadata": {
    "collapsed": true
   },
   "outputs": [],
   "source": [
    "lookup_tensor = torch.LongTensor([word_to_ix[\"hello\"]])"
   ]
  },
  {
   "cell_type": "code",
   "execution_count": 11,
   "metadata": {
    "collapsed": true
   },
   "outputs": [],
   "source": [
    "hello_embed = embeds(autograd.Variable(lookup_tensor))"
   ]
  },
  {
   "cell_type": "code",
   "execution_count": 12,
   "metadata": {},
   "outputs": [
    {
     "name": "stdout",
     "output_type": "stream",
     "text": [
      "Variable containing:\n",
      "-2.9718  1.7070 -0.4305 -2.2820  0.5237\n",
      "[torch.FloatTensor of size 1x5]\n",
      "\n"
     ]
    }
   ],
   "source": [
    "print(hello_embed)"
   ]
  },
  {
   "cell_type": "code",
   "execution_count": 13,
   "metadata": {
    "collapsed": true
   },
   "outputs": [],
   "source": [
    "CONTEXT_SIZE = 2"
   ]
  },
  {
   "cell_type": "code",
   "execution_count": 14,
   "metadata": {
    "collapsed": true
   },
   "outputs": [],
   "source": [
    "EMBEDDING_DIM = 10"
   ]
  },
  {
   "cell_type": "code",
   "execution_count": 15,
   "metadata": {
    "collapsed": true
   },
   "outputs": [],
   "source": [
    "test_sentence = \"\"\"When forty winters shall besiege thy brow,\n",
    "And dig deep trenches in thy beauty's field,\n",
    "Thy youth's proud livery so gazed on now,\n",
    "Will be a totter'd weed of small worth held:\n",
    "Then being asked, where all thy beauty lies,\n",
    "Where all the treasure of thy lusty days;\n",
    "To say, within thine own deep sunken eyes,\n",
    "Were an all-eating shame, and thriftless praise.\n",
    "How much more praise deserv'd thy beauty's use,\n",
    "If thou couldst answer 'This fair child of mine\n",
    "Shall sum my count, and make my old excuse,'\n",
    "Proving his beauty by succession thine!\n",
    "This were to be new made when thou art old,\n",
    "And see thy blood warm when thou feel'st it cold.\"\"\".split()"
   ]
  },
  {
   "cell_type": "code",
   "execution_count": 16,
   "metadata": {},
   "outputs": [
    {
     "name": "stdout",
     "output_type": "stream",
     "text": [
      "['When', 'forty', 'winters', 'shall', 'besiege', 'thy', 'brow,', 'And', 'dig', 'deep', 'trenches', 'in', 'thy', \"beauty's\", 'field,', 'Thy', \"youth's\", 'proud', 'livery', 'so', 'gazed', 'on', 'now,', 'Will', 'be', 'a', \"totter'd\", 'weed', 'of', 'small', 'worth', 'held:', 'Then', 'being', 'asked,', 'where', 'all', 'thy', 'beauty', 'lies,', 'Where', 'all', 'the', 'treasure', 'of', 'thy', 'lusty', 'days;', 'To', 'say,', 'within', 'thine', 'own', 'deep', 'sunken', 'eyes,', 'Were', 'an', 'all-eating', 'shame,', 'and', 'thriftless', 'praise.', 'How', 'much', 'more', 'praise', \"deserv'd\", 'thy', \"beauty's\", 'use,', 'If', 'thou', 'couldst', 'answer', \"'This\", 'fair', 'child', 'of', 'mine', 'Shall', 'sum', 'my', 'count,', 'and', 'make', 'my', 'old', \"excuse,'\", 'Proving', 'his', 'beauty', 'by', 'succession', 'thine!', 'This', 'were', 'to', 'be', 'new', 'made', 'when', 'thou', 'art', 'old,', 'And', 'see', 'thy', 'blood', 'warm', 'when', 'thou', \"feel'st\", 'it', 'cold.']\n"
     ]
    }
   ],
   "source": [
    "print(test_sentence)"
   ]
  },
  {
   "cell_type": "code",
   "execution_count": 17,
   "metadata": {},
   "outputs": [
    {
     "name": "stdout",
     "output_type": "stream",
     "text": [
      "115\n"
     ]
    }
   ],
   "source": [
    "print(len(test_sentence))"
   ]
  },
  {
   "cell_type": "code",
   "execution_count": 18,
   "metadata": {
    "collapsed": true
   },
   "outputs": [],
   "source": [
    "trigrams = [([test_sentence[i], test_sentence[i + 1]], test_sentence[i + 2]) for i in range(len(test_sentence) - 2)]"
   ]
  },
  {
   "cell_type": "code",
   "execution_count": 19,
   "metadata": {},
   "outputs": [
    {
     "name": "stdout",
     "output_type": "stream",
     "text": [
      "[(['When', 'forty'], 'winters'), (['forty', 'winters'], 'shall'), (['winters', 'shall'], 'besiege')]\n"
     ]
    }
   ],
   "source": [
    "print(trigrams[:3])"
   ]
  },
  {
   "cell_type": "code",
   "execution_count": 20,
   "metadata": {
    "collapsed": true
   },
   "outputs": [],
   "source": [
    "vocab = set(test_sentence)\n",
    "word_to_ix ={word: i for i, word in enumerate(vocab)}"
   ]
  },
  {
   "cell_type": "code",
   "execution_count": 21,
   "metadata": {},
   "outputs": [
    {
     "name": "stdout",
     "output_type": "stream",
     "text": [
      "{'Were', 'sum', \"'This\", 'lies,', 'old', \"excuse,'\", 'blood', 'lusty', 'asked,', 'livery', 'old,', 'on', 'brow,', 'This', 'my', 'proud', 'Thy', 'mine', 'his', 'eyes,', 'days;', 'count,', 'be', 'thy', 'beauty', 'a', 'dig', 'To', \"deserv'd\", 'thine', 'And', 'Where', 'child', \"beauty's\", 'thriftless', 'to', 'within', 'and', 'were', 'treasure', 'made', 'cold.', 'shall', 'praise', 'in', 'How', 'use,', 'see', 'the', 'Shall', 'by', 'field,', 'Proving', 'say,', 'when', 'being', 'Then', 'more', 'Will', 'sunken', 'forty', 'all-eating', 'much', 'it', 'warm', \"youth's\", 'gazed', 'When', 'deep', 'thine!', \"feel'st\", 'so', 'worth', 'If', 'small', 'trenches', 'an', 'answer', 'shame,', 'all', 'couldst', 'make', 'art', 'new', 'thou', 'succession', 'where', 'own', 'winters', 'besiege', 'praise.', 'fair', \"totter'd\", 'of', 'now,', 'held:', 'weed'}\n"
     ]
    }
   ],
   "source": [
    "print(vocab)"
   ]
  },
  {
   "cell_type": "code",
   "execution_count": 22,
   "metadata": {},
   "outputs": [
    {
     "name": "stdout",
     "output_type": "stream",
     "text": [
      "{'praise': 43, 'in': 44, 'This': 13, 'Were': 0, 'winters': 88, 'fair': 91, 'How': 45, 'use,': 46, 'sum': 1, \"'This\": 2, 'lies,': 3, 'see': 47, 'the': 48, 'Shall': 49, 'blood': 6, 'by': 50, 'thriftless': 34, 'field,': 51, 'Proving': 52, 'thine!': 69, 'say,': 53, 'when': 54, 'asked,': 8, 'being': 55, 'couldst': 80, 'Thy': 16, 'livery': 9, 'Then': 56, 'on': 11, 'brow,': 12, \"deserv'd\": 28, 'more': 57, 'Will': 58, 'my': 14, 'sunken': 59, 'proud': 15, 'forty': 60, 'all-eating': 61, 'his': 18, 'eyes,': 19, 'mine': 17, 'much': 62, 'it': 63, 'lusty': 7, 'warm': 64, 'shame,': 78, 'praise.': 90, 'beauty': 24, 'all': 79, 'days;': 20, 'gazed': 66, 'count,': 21, 'When': 67, 'deep': 68, 'be': 22, 'thy': 23, \"feel'st\": 70, 'so': 71, 'worth': 72, 'If': 73, 'small': 74, 'trenches': 75, 'a': 25, 'own': 87, 'an': 76, 'answer': 77, 'were': 38, 'dig': 26, 'To': 27, 'old,': 10, 'art': 82, 'make': 81, 'new': 83, 'thou': 84, 'succession': 85, 'where': 86, 'thine': 29, 'And': 30, 'Where': 31, 'child': 32, \"youth's\": 65, \"beauty's\": 33, 'to': 35, 'within': 36, 'and': 37, 'besiege': 89, 'old': 4, \"totter'd\": 92, \"excuse,'\": 5, 'of': 93, 'made': 40, 'treasure': 39, 'now,': 94, 'held:': 95, 'weed': 96, 'cold.': 41, 'shall': 42}\n",
      "97\n"
     ]
    }
   ],
   "source": [
    "print(word_to_ix)\n",
    "print(len(word_to_ix))"
   ]
  },
  {
   "cell_type": "code",
   "execution_count": 23,
   "metadata": {},
   "outputs": [
    {
     "name": "stdout",
     "output_type": "stream",
     "text": [
      "0\n",
      "1\n",
      "2\n",
      "3\n",
      "4\n",
      "5\n",
      "6\n",
      "7\n",
      "8\n",
      "9\n",
      "10\n",
      "11\n",
      "12\n",
      "13\n",
      "14\n",
      "15\n",
      "16\n",
      "17\n",
      "18\n",
      "19\n",
      "20\n",
      "21\n",
      "22\n",
      "23\n",
      "24\n",
      "25\n",
      "26\n",
      "27\n",
      "28\n",
      "29\n",
      "30\n",
      "31\n",
      "32\n",
      "33\n",
      "34\n",
      "35\n",
      "36\n",
      "37\n",
      "38\n",
      "39\n",
      "40\n",
      "41\n",
      "42\n",
      "43\n",
      "44\n",
      "45\n",
      "46\n",
      "47\n",
      "48\n",
      "49\n",
      "50\n",
      "51\n",
      "52\n",
      "53\n",
      "54\n",
      "55\n",
      "56\n",
      "57\n",
      "58\n",
      "59\n",
      "60\n",
      "61\n",
      "62\n",
      "63\n",
      "64\n",
      "65\n",
      "66\n",
      "67\n",
      "68\n",
      "69\n",
      "70\n",
      "71\n",
      "72\n",
      "73\n",
      "74\n",
      "75\n",
      "76\n",
      "77\n",
      "78\n",
      "79\n",
      "80\n",
      "81\n",
      "82\n",
      "83\n",
      "84\n",
      "85\n",
      "86\n",
      "87\n",
      "88\n",
      "89\n",
      "90\n",
      "91\n",
      "92\n",
      "93\n",
      "94\n",
      "95\n",
      "96\n"
     ]
    }
   ],
   "source": [
    "for i, word in enumerate(vocab):\n",
    "    print(i)"
   ]
  },
  {
   "cell_type": "code",
   "execution_count": 24,
   "metadata": {
    "collapsed": true
   },
   "outputs": [],
   "source": [
    "class NGramLanguageModeler(nn.Module):\n",
    "    \n",
    "    def __init__(self, vocab_size, embedding_dim, context_size):\n",
    "        super(NGramLanguageModeler, self).__init__()\n",
    "        self.embeddings = nn.Embedding(vocab_size, embedding_dim)\n",
    "        self.linear1 = nn.Linear(context_size * embedding_dim, 128)\n",
    "        self.linear2 = nn.Linear(128, vocab_size)\n",
    "        \n",
    "    def forward(self, inputs):\n",
    "        embeds = self.embeddings(inputs).view((1, -1))\n",
    "        out = F.relu(self.linear1(embeds))\n",
    "        out = self.linear2(out)\n",
    "        log_probs = F.log_softmax(out)\n",
    "        return log_probs\n",
    "    "
   ]
  },
  {
   "cell_type": "code",
   "execution_count": 25,
   "metadata": {
    "collapsed": true
   },
   "outputs": [],
   "source": [
    "losses = []"
   ]
  },
  {
   "cell_type": "code",
   "execution_count": 26,
   "metadata": {
    "collapsed": true
   },
   "outputs": [],
   "source": [
    "loss_function = nn.NLLLoss()\n",
    "model = NGramLanguageModeler(len(vocab), EMBEDDING_DIM, CONTEXT_SIZE)\n",
    "optimizer = optim.SGD(model.parameters(), lr=0.001)"
   ]
  },
  {
   "cell_type": "code",
   "execution_count": 27,
   "metadata": {
    "scrolled": true
   },
   "outputs": [
    {
     "name": "stdout",
     "output_type": "stream",
     "text": [
      "[\n",
      " 520.7652\n",
      "[torch.FloatTensor of size 1]\n",
      ", \n",
      " 518.3556\n",
      "[torch.FloatTensor of size 1]\n",
      ", \n",
      " 515.9653\n",
      "[torch.FloatTensor of size 1]\n",
      ", \n",
      " 513.5928\n",
      "[torch.FloatTensor of size 1]\n",
      ", \n",
      " 511.2362\n",
      "[torch.FloatTensor of size 1]\n",
      ", \n",
      " 508.8963\n",
      "[torch.FloatTensor of size 1]\n",
      ", \n",
      " 506.5715\n",
      "[torch.FloatTensor of size 1]\n",
      ", \n",
      " 504.2612\n",
      "[torch.FloatTensor of size 1]\n",
      ", \n",
      " 501.9653\n",
      "[torch.FloatTensor of size 1]\n",
      ", \n",
      " 499.6832\n",
      "[torch.FloatTensor of size 1]\n",
      "]\n"
     ]
    }
   ],
   "source": [
    "for epoch in range(10):\n",
    "    total_loss = torch.Tensor([0])\n",
    "    for context, target in trigrams:\n",
    "        \n",
    "        context_idxs = [word_to_ix[w] for w in context]\n",
    "        context_var = autograd.Variable(torch.LongTensor(context_idxs))\n",
    "        \n",
    "        model.zero_grad()\n",
    "        \n",
    "        log_probs = model(context_var)\n",
    "        \n",
    "#         loss = loss_function(log_probs, autograd.Variable(torch.LongTensor[word_to_ix[target]]))\n",
    "        loss = loss_function(log_probs, autograd.Variable(torch.LongTensor([word_to_ix[target]])))    \n",
    "    \n",
    "        loss.backward()\n",
    "        optimizer.step()\n",
    "        total_loss += loss.data\n",
    "    losses.append(total_loss)\n",
    "print(losses)"
   ]
  },
  {
   "cell_type": "code",
   "execution_count": 28,
   "metadata": {
    "collapsed": true
   },
   "outputs": [],
   "source": [
    "CONTEXT_SIZE = 2\n",
    "raw_text = \"\"\"We are about to study the idea of a computational process.\n",
    "Computational processes are abstract beings that inhabit computers.\n",
    "As they evolve, processes manipulate other abstract things called data.\n",
    "The evolution of a process is directed by a pattern of rules\n",
    "called a program. People create programs to direct processes. In effect,\n",
    "we conjure the spirits of the computer with our spells.\"\"\".split()"
   ]
  },
  {
   "cell_type": "code",
   "execution_count": 29,
   "metadata": {},
   "outputs": [],
   "source": [
    "vocab = set(raw_text)"
   ]
  },
  {
   "cell_type": "code",
   "execution_count": 30,
   "metadata": {},
   "outputs": [
    {
     "data": {
      "text/plain": [
       "{'As',\n",
       " 'Computational',\n",
       " 'In',\n",
       " 'People',\n",
       " 'The',\n",
       " 'We',\n",
       " 'a',\n",
       " 'about',\n",
       " 'abstract',\n",
       " 'are',\n",
       " 'beings',\n",
       " 'by',\n",
       " 'called',\n",
       " 'computational',\n",
       " 'computer',\n",
       " 'computers.',\n",
       " 'conjure',\n",
       " 'create',\n",
       " 'data.',\n",
       " 'direct',\n",
       " 'directed',\n",
       " 'effect,',\n",
       " 'evolution',\n",
       " 'evolve,',\n",
       " 'idea',\n",
       " 'inhabit',\n",
       " 'is',\n",
       " 'manipulate',\n",
       " 'of',\n",
       " 'other',\n",
       " 'our',\n",
       " 'pattern',\n",
       " 'process',\n",
       " 'process.',\n",
       " 'processes',\n",
       " 'processes.',\n",
       " 'program.',\n",
       " 'programs',\n",
       " 'rules',\n",
       " 'spells.',\n",
       " 'spirits',\n",
       " 'study',\n",
       " 'that',\n",
       " 'the',\n",
       " 'they',\n",
       " 'things',\n",
       " 'to',\n",
       " 'we',\n",
       " 'with'}"
      ]
     },
     "execution_count": 30,
     "metadata": {},
     "output_type": "execute_result"
    }
   ],
   "source": [
    "vocab"
   ]
  },
  {
   "cell_type": "code",
   "execution_count": 31,
   "metadata": {},
   "outputs": [
    {
     "name": "stdout",
     "output_type": "stream",
     "text": [
      "49\n"
     ]
    }
   ],
   "source": [
    "vocab_size = len(vocab)\n",
    "print(vocab_size)"
   ]
  },
  {
   "cell_type": "code",
   "execution_count": 32,
   "metadata": {},
   "outputs": [
    {
     "name": "stdout",
     "output_type": "stream",
     "text": [
      "{'effect,': 0, 'things': 1, 'The': 2, 'beings': 3, 'In': 6, 'inhabit': 5, 'we': 7, 'conjure': 8, 'that': 9, 'processes.': 10, 'are': 11, 'Computational': 12, 'evolution': 13, 'programs': 14, 'the': 15, 'with': 16, 'a': 17, 'directed': 18, 'spirits': 19, 'abstract': 20, 'computational': 22, 'is': 23, 'by': 24, 'People': 25, 'other': 26, 'to': 38, 'idea': 28, 'our': 27, 'As': 29, 'processes': 30, 'pattern': 31, 'computers.': 32, 'create': 33, 'manipulate': 4, 'called': 34, 'We': 35, 'rules': 36, 'evolve,': 37, 'data.': 39, 'process.': 40, 'spells.': 41, 'of': 42, 'process': 43, 'computer': 44, 'direct': 21, 'study': 45, 'they': 46, 'program.': 47, 'about': 48}\n",
      "62\n"
     ]
    }
   ],
   "source": [
    "word_to_ix = {word:i for i, word in enumerate(vocab)}\n",
    "data = []\n",
    "print(word_to_ix)\n",
    "print(len(raw_text))"
   ]
  },
  {
   "cell_type": "code",
   "execution_count": 33,
   "metadata": {},
   "outputs": [
    {
     "name": "stdout",
     "output_type": "stream",
     "text": [
      "[(['We', 'are', 'to', 'study'], 'about'), (['are', 'about', 'study', 'the'], 'to'), (['about', 'to', 'the', 'idea'], 'study'), (['to', 'study', 'idea', 'of'], 'the'), (['study', 'the', 'of', 'a'], 'idea')]\n"
     ]
    }
   ],
   "source": [
    "for i in range(2, len(raw_text) - 2):\n",
    "    context = [raw_text[i - 2], raw_text[i - 1], raw_text[i + 1], raw_text[i + 2]]\n",
    "    target = raw_text[i]\n",
    "    data.append((context, target))\n",
    "print(data[:5])"
   ]
  },
  {
   "cell_type": "code",
   "execution_count": 34,
   "metadata": {},
   "outputs": [],
   "source": [
    "# class CBOW(nn.Module):\n",
    "\n",
    "#     def __init__(self, vocab_size, embedding_dim, context_size):\n",
    "#         super(CBOW, self).__init__()\n",
    "#         self.embeddings = nn.Embedding(vocab_size, embedding_dim)\n",
    "#         self.linear1 = nn.Linear(context_size * embedding_dim, 128)\n",
    "#         self.linear2 = nn.Linear(128, vocab_size)\n",
    "        \n",
    "#     def forward(self, inputs):\n",
    "#         embeds = self.embeddings(inputs).view((1, -1))\n",
    "#         out = F.relu(self.linear1(embeds))\n",
    "#         out = self.linear2(out)\n",
    "#         log_probs = F.log_softmax(out)\n",
    "#         return log_probs\n",
    "        "
   ]
  },
  {
   "cell_type": "code",
   "execution_count": 35,
   "metadata": {},
   "outputs": [],
   "source": [
    "# def make_context_vector(context, word_to_ix):\n",
    "#     idxs = [word_to_ix[w] for w in context]\n",
    "#     tensor = torch.LongTensor(idxs)\n",
    "#     return autograd.Variable(tensor)\n",
    "\n",
    "# make_context_vector(data[0][0], word_to_ix)"
   ]
  },
  {
   "cell_type": "code",
   "execution_count": 36,
   "metadata": {
    "collapsed": true
   },
   "outputs": [],
   "source": [
    "# emirceyani code cbow"
   ]
  },
  {
   "cell_type": "code",
   "execution_count": 37,
   "metadata": {},
   "outputs": [],
   "source": [
    "class CBOW(nn.Module):\n",
    "    \n",
    "    def __init__(self, vocab_size, embedding_dim, context_size):\n",
    "        super(CBOW, self).__init__()\n",
    "        self.embeddings = nn.Embedding(vocab_size, embedding_dim)\n",
    "        self.linear1 = nn.Linear(embedding_dim, vocab_size)\n",
    "        \n",
    "    def forward(self, inputs):\n",
    "        embeds = self.embeddings(inputs).sum(dim=0).view((1, -1))\n",
    "        out = self.linear1(embeds)\n",
    "        log_probs = F.log_softmax(out)\n",
    "        return log_probs"
   ]
  },
  {
   "cell_type": "code",
   "execution_count": 38,
   "metadata": {
    "collapsed": true
   },
   "outputs": [],
   "source": [
    "def make_context_vector(context, word_to_ix):\n",
    "    idxs = [word_to_ix[w] for w in context]\n",
    "    tensor = torch.LongTensor(idxs)\n",
    "    return autograd.Variable(tensor)\n",
    "\n",
    "context = make_context_vector(data[0][0], word_to_ix)"
   ]
  },
  {
   "cell_type": "code",
   "execution_count": 39,
   "metadata": {
    "collapsed": true
   },
   "outputs": [],
   "source": [
    "# create your model and train. here are some functions to help you make\n",
    "# the data ready for use by your module\n",
    "losses = []\n",
    "loss_function = nn.NLLLoss()\n",
    "model = CBOW(vocab_size, EMBEDDING_DIM, CONTEXT_SIZE)\n",
    "optimizer = optim.SGD(model.parameters(), lr = 0.001)"
   ]
  },
  {
   "cell_type": "code",
   "execution_count": 40,
   "metadata": {},
   "outputs": [
    {
     "name": "stdout",
     "output_type": "stream",
     "text": [
      "[\n",
      " 271.3236\n",
      "[torch.FloatTensor of size 1]\n",
      ", \n",
      " 267.8741\n",
      "[torch.FloatTensor of size 1]\n",
      ", \n",
      " 264.5412\n",
      "[torch.FloatTensor of size 1]\n",
      ", \n",
      " 261.3120\n",
      "[torch.FloatTensor of size 1]\n",
      ", \n",
      " 258.1763\n",
      "[torch.FloatTensor of size 1]\n",
      ", \n",
      " 255.1258\n",
      "[torch.FloatTensor of size 1]\n",
      ", \n",
      " 252.1538\n",
      "[torch.FloatTensor of size 1]\n",
      ", \n",
      " 249.2545\n",
      "[torch.FloatTensor of size 1]\n",
      ", \n",
      " 246.4231\n",
      "[torch.FloatTensor of size 1]\n",
      ", \n",
      " 243.6559\n",
      "[torch.FloatTensor of size 1]\n",
      ", \n",
      " 240.9492\n",
      "[torch.FloatTensor of size 1]\n",
      ", \n",
      " 238.2999\n",
      "[torch.FloatTensor of size 1]\n",
      ", \n",
      " 235.7055\n",
      "[torch.FloatTensor of size 1]\n",
      ", \n",
      " 233.1637\n",
      "[torch.FloatTensor of size 1]\n",
      ", \n",
      " 230.6723\n",
      "[torch.FloatTensor of size 1]\n",
      ", \n",
      " 228.2297\n",
      "[torch.FloatTensor of size 1]\n",
      ", \n",
      " 225.8340\n",
      "[torch.FloatTensor of size 1]\n",
      ", \n",
      " 223.4838\n",
      "[torch.FloatTensor of size 1]\n",
      ", \n",
      " 221.1778\n",
      "[torch.FloatTensor of size 1]\n",
      ", \n",
      " 218.9147\n",
      "[torch.FloatTensor of size 1]\n",
      ", \n",
      " 216.6932\n",
      "[torch.FloatTensor of size 1]\n",
      ", \n",
      " 214.5125\n",
      "[torch.FloatTensor of size 1]\n",
      ", \n",
      " 212.3713\n",
      "[torch.FloatTensor of size 1]\n",
      ", \n",
      " 210.2688\n",
      "[torch.FloatTensor of size 1]\n",
      ", \n",
      " 208.2041\n",
      "[torch.FloatTensor of size 1]\n",
      ", \n",
      " 206.1762\n",
      "[torch.FloatTensor of size 1]\n",
      ", \n",
      " 204.1843\n",
      "[torch.FloatTensor of size 1]\n",
      ", \n",
      " 202.2276\n",
      "[torch.FloatTensor of size 1]\n",
      ", \n",
      " 200.3053\n",
      "[torch.FloatTensor of size 1]\n",
      ", \n",
      " 198.4164\n",
      "[torch.FloatTensor of size 1]\n",
      ", \n",
      " 196.5603\n",
      "[torch.FloatTensor of size 1]\n",
      ", \n",
      " 194.7361\n",
      "[torch.FloatTensor of size 1]\n",
      ", \n",
      " 192.9430\n",
      "[torch.FloatTensor of size 1]\n",
      ", \n",
      " 191.1802\n",
      "[torch.FloatTensor of size 1]\n",
      ", \n",
      " 189.4469\n",
      "[torch.FloatTensor of size 1]\n",
      ", \n",
      " 187.7424\n",
      "[torch.FloatTensor of size 1]\n",
      ", \n",
      " 186.0659\n",
      "[torch.FloatTensor of size 1]\n",
      ", \n",
      " 184.4166\n",
      "[torch.FloatTensor of size 1]\n",
      ", \n",
      " 182.7937\n",
      "[torch.FloatTensor of size 1]\n",
      ", \n",
      " 181.1966\n",
      "[torch.FloatTensor of size 1]\n",
      ", \n",
      " 179.6245\n",
      "[torch.FloatTensor of size 1]\n",
      ", \n",
      " 178.0766\n",
      "[torch.FloatTensor of size 1]\n",
      ", \n",
      " 176.5524\n",
      "[torch.FloatTensor of size 1]\n",
      ", \n",
      " 175.0512\n",
      "[torch.FloatTensor of size 1]\n",
      ", \n",
      " 173.5722\n",
      "[torch.FloatTensor of size 1]\n",
      ", \n",
      " 172.1150\n",
      "[torch.FloatTensor of size 1]\n",
      ", \n",
      " 170.6789\n",
      "[torch.FloatTensor of size 1]\n",
      ", \n",
      " 169.2634\n",
      "[torch.FloatTensor of size 1]\n",
      ", \n",
      " 167.8678\n",
      "[torch.FloatTensor of size 1]\n",
      ", \n",
      " 166.4918\n",
      "[torch.FloatTensor of size 1]\n",
      ", \n",
      " 165.1349\n",
      "[torch.FloatTensor of size 1]\n",
      ", \n",
      " 163.7964\n",
      "[torch.FloatTensor of size 1]\n",
      ", \n",
      " 162.4762\n",
      "[torch.FloatTensor of size 1]\n",
      ", \n",
      " 161.1736\n",
      "[torch.FloatTensor of size 1]\n",
      ", \n",
      " 159.8883\n",
      "[torch.FloatTensor of size 1]\n",
      ", \n",
      " 158.6200\n",
      "[torch.FloatTensor of size 1]\n",
      ", \n",
      " 157.3682\n",
      "[torch.FloatTensor of size 1]\n",
      ", \n",
      " 156.1327\n",
      "[torch.FloatTensor of size 1]\n",
      ", \n",
      " 154.9130\n",
      "[torch.FloatTensor of size 1]\n",
      ", \n",
      " 153.7089\n",
      "[torch.FloatTensor of size 1]\n",
      ", \n",
      " 152.5201\n",
      "[torch.FloatTensor of size 1]\n",
      ", \n",
      " 151.3462\n",
      "[torch.FloatTensor of size 1]\n",
      ", \n",
      " 150.1871\n",
      "[torch.FloatTensor of size 1]\n",
      ", \n",
      " 149.0424\n",
      "[torch.FloatTensor of size 1]\n",
      ", \n",
      " 147.9119\n",
      "[torch.FloatTensor of size 1]\n",
      ", \n",
      " 146.7953\n",
      "[torch.FloatTensor of size 1]\n",
      ", \n",
      " 145.6925\n",
      "[torch.FloatTensor of size 1]\n",
      ", \n",
      " 144.6031\n",
      "[torch.FloatTensor of size 1]\n",
      ", \n",
      " 143.5269\n",
      "[torch.FloatTensor of size 1]\n",
      ", \n",
      " 142.4638\n",
      "[torch.FloatTensor of size 1]\n",
      ", \n",
      " 141.4135\n",
      "[torch.FloatTensor of size 1]\n",
      ", \n",
      " 140.3758\n",
      "[torch.FloatTensor of size 1]\n",
      ", \n",
      " 139.3505\n",
      "[torch.FloatTensor of size 1]\n",
      ", \n",
      " 138.3373\n",
      "[torch.FloatTensor of size 1]\n",
      ", \n",
      " 137.3362\n",
      "[torch.FloatTensor of size 1]\n",
      ", \n",
      " 136.3468\n",
      "[torch.FloatTensor of size 1]\n",
      ", \n",
      " 135.3691\n",
      "[torch.FloatTensor of size 1]\n",
      ", \n",
      " 134.4028\n",
      "[torch.FloatTensor of size 1]\n",
      ", \n",
      " 133.4477\n",
      "[torch.FloatTensor of size 1]\n",
      ", \n",
      " 132.5037\n",
      "[torch.FloatTensor of size 1]\n",
      ", \n",
      " 131.5706\n",
      "[torch.FloatTensor of size 1]\n",
      ", \n",
      " 130.6482\n",
      "[torch.FloatTensor of size 1]\n",
      ", \n",
      " 129.7363\n",
      "[torch.FloatTensor of size 1]\n",
      ", \n",
      " 128.8347\n",
      "[torch.FloatTensor of size 1]\n",
      ", \n",
      " 127.9434\n",
      "[torch.FloatTensor of size 1]\n",
      ", \n",
      " 127.0621\n",
      "[torch.FloatTensor of size 1]\n",
      ", \n",
      " 126.1905\n",
      "[torch.FloatTensor of size 1]\n",
      ", \n",
      " 125.3288\n",
      "[torch.FloatTensor of size 1]\n",
      ", \n",
      " 124.4766\n",
      "[torch.FloatTensor of size 1]\n",
      ", \n",
      " 123.6337\n",
      "[torch.FloatTensor of size 1]\n",
      ", \n",
      " 122.8001\n",
      "[torch.FloatTensor of size 1]\n",
      ", \n",
      " 121.9755\n",
      "[torch.FloatTensor of size 1]\n",
      ", \n",
      " 121.1599\n",
      "[torch.FloatTensor of size 1]\n",
      ", \n",
      " 120.3531\n",
      "[torch.FloatTensor of size 1]\n",
      ", \n",
      " 119.5549\n",
      "[torch.FloatTensor of size 1]\n",
      ", \n",
      " 118.7652\n",
      "[torch.FloatTensor of size 1]\n",
      ", \n",
      " 117.9839\n",
      "[torch.FloatTensor of size 1]\n",
      ", \n",
      " 117.2109\n",
      "[torch.FloatTensor of size 1]\n",
      ", \n",
      " 116.4459\n",
      "[torch.FloatTensor of size 1]\n",
      ", \n",
      " 115.6889\n",
      "[torch.FloatTensor of size 1]\n",
      ", \n",
      " 114.9398\n",
      "[torch.FloatTensor of size 1]\n",
      ", \n",
      " 114.1983\n",
      "[torch.FloatTensor of size 1]\n",
      ", \n",
      " 113.4645\n",
      "[torch.FloatTensor of size 1]\n",
      ", \n",
      " 112.7382\n",
      "[torch.FloatTensor of size 1]\n",
      ", \n",
      " 112.0193\n",
      "[torch.FloatTensor of size 1]\n",
      ", \n",
      " 111.3076\n",
      "[torch.FloatTensor of size 1]\n",
      ", \n",
      " 110.6031\n",
      "[torch.FloatTensor of size 1]\n",
      ", \n",
      " 109.9056\n",
      "[torch.FloatTensor of size 1]\n",
      ", \n",
      " 109.2151\n",
      "[torch.FloatTensor of size 1]\n",
      ", \n",
      " 108.5313\n",
      "[torch.FloatTensor of size 1]\n",
      ", \n",
      " 107.8543\n",
      "[torch.FloatTensor of size 1]\n",
      ", \n",
      " 107.1840\n",
      "[torch.FloatTensor of size 1]\n",
      ", \n",
      " 106.5202\n",
      "[torch.FloatTensor of size 1]\n",
      ", \n",
      " 105.8628\n",
      "[torch.FloatTensor of size 1]\n",
      ", \n",
      " 105.2118\n",
      "[torch.FloatTensor of size 1]\n",
      ", \n",
      " 104.5670\n",
      "[torch.FloatTensor of size 1]\n",
      ", \n",
      " 103.9284\n",
      "[torch.FloatTensor of size 1]\n",
      ", \n",
      " 103.2959\n",
      "[torch.FloatTensor of size 1]\n",
      ", \n",
      " 102.6693\n",
      "[torch.FloatTensor of size 1]\n",
      ", \n",
      " 102.0487\n",
      "[torch.FloatTensor of size 1]\n",
      ", \n",
      " 101.4339\n",
      "[torch.FloatTensor of size 1]\n",
      ", \n",
      " 100.8249\n",
      "[torch.FloatTensor of size 1]\n",
      ", \n",
      " 100.2215\n",
      "[torch.FloatTensor of size 1]\n",
      ", \n",
      " 99.6237\n",
      "[torch.FloatTensor of size 1]\n",
      ", \n",
      " 99.0315\n",
      "[torch.FloatTensor of size 1]\n",
      ", \n",
      " 98.4446\n",
      "[torch.FloatTensor of size 1]\n",
      ", \n",
      " 97.8632\n",
      "[torch.FloatTensor of size 1]\n",
      ", \n",
      " 97.2870\n",
      "[torch.FloatTensor of size 1]\n",
      ", \n",
      " 96.7161\n",
      "[torch.FloatTensor of size 1]\n",
      ", \n",
      " 96.1503\n",
      "[torch.FloatTensor of size 1]\n",
      ", \n",
      " 95.5896\n",
      "[torch.FloatTensor of size 1]\n",
      ", \n",
      " 95.0339\n",
      "[torch.FloatTensor of size 1]\n",
      ", \n",
      " 94.4832\n",
      "[torch.FloatTensor of size 1]\n",
      ", \n",
      " 93.9373\n",
      "[torch.FloatTensor of size 1]\n",
      ", \n",
      " 93.3963\n",
      "[torch.FloatTensor of size 1]\n",
      ", \n",
      " 92.8600\n",
      "[torch.FloatTensor of size 1]\n",
      ", \n",
      " 92.3284\n",
      "[torch.FloatTensor of size 1]\n",
      ", \n",
      " 91.8015\n",
      "[torch.FloatTensor of size 1]\n",
      ", \n",
      " 91.2791\n",
      "[torch.FloatTensor of size 1]\n",
      ", \n",
      " 90.7613\n",
      "[torch.FloatTensor of size 1]\n",
      ", \n",
      " 90.2479\n",
      "[torch.FloatTensor of size 1]\n",
      ", \n",
      " 89.7389\n",
      "[torch.FloatTensor of size 1]\n",
      ", \n",
      " 89.2343\n",
      "[torch.FloatTensor of size 1]\n",
      ", \n",
      " 88.7339\n",
      "[torch.FloatTensor of size 1]\n",
      ", \n",
      " 88.2378\n",
      "[torch.FloatTensor of size 1]\n",
      ", \n",
      " 87.7459\n",
      "[torch.FloatTensor of size 1]\n",
      ", \n",
      " 87.2581\n",
      "[torch.FloatTensor of size 1]\n",
      ", \n",
      " 86.7744\n",
      "[torch.FloatTensor of size 1]\n",
      ", \n",
      " 86.2947\n",
      "[torch.FloatTensor of size 1]\n",
      ", \n",
      " 85.8190\n",
      "[torch.FloatTensor of size 1]\n",
      ", \n",
      " 85.3472\n",
      "[torch.FloatTensor of size 1]\n",
      ", \n",
      " 84.8793\n",
      "[torch.FloatTensor of size 1]\n",
      ", \n",
      " 84.4153\n",
      "[torch.FloatTensor of size 1]\n",
      ", \n",
      " 83.9550\n",
      "[torch.FloatTensor of size 1]\n",
      ", \n",
      " 83.4985\n",
      "[torch.FloatTensor of size 1]\n",
      ", \n",
      " 83.0456\n",
      "[torch.FloatTensor of size 1]\n",
      ", \n",
      " 82.5965\n",
      "[torch.FloatTensor of size 1]\n",
      ", \n",
      " 82.1509\n",
      "[torch.FloatTensor of size 1]\n",
      ", \n",
      " 81.7089\n",
      "[torch.FloatTensor of size 1]\n",
      ", \n",
      " 81.2704\n",
      "[torch.FloatTensor of size 1]\n",
      ", \n",
      " 80.8354\n",
      "[torch.FloatTensor of size 1]\n",
      ", \n",
      " 80.4039\n",
      "[torch.FloatTensor of size 1]\n",
      ", \n",
      " 79.9757\n",
      "[torch.FloatTensor of size 1]\n",
      ", \n",
      " 79.5509\n",
      "[torch.FloatTensor of size 1]\n",
      ", \n",
      " 79.1295\n",
      "[torch.FloatTensor of size 1]\n",
      ", \n",
      " 78.7113\n",
      "[torch.FloatTensor of size 1]\n",
      ", \n",
      " 78.2963\n",
      "[torch.FloatTensor of size 1]\n",
      ", \n",
      " 77.8846\n",
      "[torch.FloatTensor of size 1]\n",
      ", \n",
      " 77.4761\n",
      "[torch.FloatTensor of size 1]\n",
      ", \n",
      " 77.0707\n",
      "[torch.FloatTensor of size 1]\n",
      ", \n",
      " 76.6684\n",
      "[torch.FloatTensor of size 1]\n",
      ", \n",
      " 76.2692\n",
      "[torch.FloatTensor of size 1]\n",
      ", \n",
      " 75.8730\n",
      "[torch.FloatTensor of size 1]\n",
      ", \n",
      " 75.4799\n",
      "[torch.FloatTensor of size 1]\n",
      ", \n",
      " 75.0897\n",
      "[torch.FloatTensor of size 1]\n",
      ", \n",
      " 74.7024\n",
      "[torch.FloatTensor of size 1]\n",
      ", \n",
      " 74.3181\n",
      "[torch.FloatTensor of size 1]\n",
      ", \n",
      " 73.9366\n",
      "[torch.FloatTensor of size 1]\n",
      ", \n",
      " 73.5580\n",
      "[torch.FloatTensor of size 1]\n",
      ", \n",
      " 73.1822\n",
      "[torch.FloatTensor of size 1]\n",
      ", \n",
      " 72.8092\n",
      "[torch.FloatTensor of size 1]\n",
      ", \n",
      " 72.4390\n",
      "[torch.FloatTensor of size 1]\n",
      ", \n",
      " 72.0715\n",
      "[torch.FloatTensor of size 1]\n",
      ", \n",
      " 71.7067\n",
      "[torch.FloatTensor of size 1]\n",
      ", \n",
      " 71.3446\n",
      "[torch.FloatTensor of size 1]\n",
      ", \n",
      " 70.9851\n",
      "[torch.FloatTensor of size 1]\n",
      ", \n",
      " 70.6282\n",
      "[torch.FloatTensor of size 1]\n",
      ", \n",
      " 70.2740\n",
      "[torch.FloatTensor of size 1]\n",
      ", \n",
      " 69.9223\n",
      "[torch.FloatTensor of size 1]\n",
      ", \n",
      " 69.5732\n",
      "[torch.FloatTensor of size 1]\n",
      ", \n",
      " 69.2266\n",
      "[torch.FloatTensor of size 1]\n",
      ", \n",
      " 68.8825\n",
      "[torch.FloatTensor of size 1]\n",
      ", \n",
      " 68.5409\n",
      "[torch.FloatTensor of size 1]\n",
      ", \n",
      " 68.2017\n",
      "[torch.FloatTensor of size 1]\n",
      ", \n",
      " 67.8649\n",
      "[torch.FloatTensor of size 1]\n",
      ", \n",
      " 67.5306\n",
      "[torch.FloatTensor of size 1]\n",
      ", \n",
      " 67.1986\n",
      "[torch.FloatTensor of size 1]\n",
      ", \n",
      " 66.8690\n",
      "[torch.FloatTensor of size 1]\n",
      ", \n",
      " 66.5418\n",
      "[torch.FloatTensor of size 1]\n",
      ", \n",
      " 66.2168\n",
      "[torch.FloatTensor of size 1]\n",
      "]\n"
     ]
    }
   ],
   "source": [
    "for epoch in range(200):\n",
    "    total_loss = torch.Tensor([0])\n",
    "    for context, target in data:\n",
    "        \n",
    "        # step 1: prepare the inputs to be passed to the model\n",
    "        # into integer indices and wrap them in variables\n",
    "        context_idxs = [word_to_ix[w] for w in context]\n",
    "        context_var = autograd.Variable(torch.LongTensor(context_idxs))\n",
    "        \n",
    "        # step 2: \n",
    "        model.zero_grad()\n",
    "        \n",
    "        # step 3: run the forward pass\n",
    "        log_probs = model(context_var)\n",
    "        \n",
    "        # step 4: compute your loss function\n",
    "        loss = loss_function(log_probs, autograd.Variable(torch.LongTensor([word_to_ix[target]])))\n",
    "        \n",
    "        # step 5: do the backward pass and update the gradient\n",
    "        loss.backward()\n",
    "        optimizer.step()\n",
    "        \n",
    "        total_loss += loss.data\n",
    "    losses.append(total_loss)\n",
    "print(losses)"
   ]
  },
  {
   "cell_type": "code",
   "execution_count": 41,
   "metadata": {
    "collapsed": true
   },
   "outputs": [],
   "source": [
    "acc = 0"
   ]
  },
  {
   "cell_type": "code",
   "execution_count": 42,
   "metadata": {},
   "outputs": [
    {
     "name": "stdout",
     "output_type": "stream",
     "text": [
      "[(['We', 'are', 'to', 'study'], 'about'), (['are', 'about', 'study', 'the'], 'to'), (['about', 'to', 'the', 'idea'], 'study'), (['to', 'study', 'idea', 'of'], 'the'), (['study', 'the', 'of', 'a'], 'idea'), (['the', 'idea', 'a', 'computational'], 'of'), (['idea', 'of', 'computational', 'process.'], 'a'), (['of', 'a', 'process.', 'Computational'], 'computational'), (['a', 'computational', 'Computational', 'processes'], 'process.'), (['computational', 'process.', 'processes', 'are'], 'Computational'), (['process.', 'Computational', 'are', 'abstract'], 'processes'), (['Computational', 'processes', 'abstract', 'beings'], 'are'), (['processes', 'are', 'beings', 'that'], 'abstract'), (['are', 'abstract', 'that', 'inhabit'], 'beings'), (['abstract', 'beings', 'inhabit', 'computers.'], 'that'), (['beings', 'that', 'computers.', 'As'], 'inhabit'), (['that', 'inhabit', 'As', 'they'], 'computers.'), (['inhabit', 'computers.', 'they', 'evolve,'], 'As'), (['computers.', 'As', 'evolve,', 'processes'], 'they'), (['As', 'they', 'processes', 'manipulate'], 'evolve,'), (['they', 'evolve,', 'manipulate', 'other'], 'processes'), (['evolve,', 'processes', 'other', 'abstract'], 'manipulate'), (['processes', 'manipulate', 'abstract', 'things'], 'other'), (['manipulate', 'other', 'things', 'called'], 'abstract'), (['other', 'abstract', 'called', 'data.'], 'things'), (['abstract', 'things', 'data.', 'The'], 'called'), (['things', 'called', 'The', 'evolution'], 'data.'), (['called', 'data.', 'evolution', 'of'], 'The'), (['data.', 'The', 'of', 'a'], 'evolution'), (['The', 'evolution', 'a', 'process'], 'of'), (['evolution', 'of', 'process', 'is'], 'a'), (['of', 'a', 'is', 'directed'], 'process'), (['a', 'process', 'directed', 'by'], 'is'), (['process', 'is', 'by', 'a'], 'directed'), (['is', 'directed', 'a', 'pattern'], 'by'), (['directed', 'by', 'pattern', 'of'], 'a'), (['by', 'a', 'of', 'rules'], 'pattern'), (['a', 'pattern', 'rules', 'called'], 'of'), (['pattern', 'of', 'called', 'a'], 'rules'), (['of', 'rules', 'a', 'program.'], 'called'), (['rules', 'called', 'program.', 'People'], 'a'), (['called', 'a', 'People', 'create'], 'program.'), (['a', 'program.', 'create', 'programs'], 'People'), (['program.', 'People', 'programs', 'to'], 'create'), (['People', 'create', 'to', 'direct'], 'programs'), (['create', 'programs', 'direct', 'processes.'], 'to'), (['programs', 'to', 'processes.', 'In'], 'direct'), (['to', 'direct', 'In', 'effect,'], 'processes.'), (['direct', 'processes.', 'effect,', 'we'], 'In'), (['processes.', 'In', 'we', 'conjure'], 'effect,'), (['In', 'effect,', 'conjure', 'the'], 'we'), (['effect,', 'we', 'the', 'spirits'], 'conjure'), (['we', 'conjure', 'spirits', 'of'], 'the'), (['conjure', 'the', 'of', 'the'], 'spirits'), (['the', 'spirits', 'the', 'computer'], 'of'), (['spirits', 'of', 'computer', 'with'], 'the'), (['of', 'the', 'with', 'our'], 'computer'), (['the', 'computer', 'our', 'spells.'], 'with')]\n"
     ]
    }
   ],
   "source": [
    "print(data)"
   ]
  },
  {
   "cell_type": "code",
   "execution_count": 44,
   "metadata": {},
   "outputs": [
    {
     "name": "stdout",
     "output_type": "stream",
     "text": [
      "['We', 'are', 'to', 'study'] 48 5\n",
      "['are', 'about', 'study', 'the'] 38 5\n",
      "['about', 'to', 'the', 'idea'] 45 36\n",
      "['to', 'study', 'idea', 'of'] 15 5\n",
      "['study', 'the', 'of', 'a'] 28 33\n",
      "['the', 'idea', 'a', 'computational'] 42 33\n",
      "['idea', 'of', 'computational', 'process.'] 17 39\n",
      "['of', 'a', 'process.', 'Computational'] 22 38\n",
      "['a', 'computational', 'Computational', 'processes'] 40 38\n",
      "['computational', 'process.', 'processes', 'are'] 12 47\n",
      "['process.', 'Computational', 'are', 'abstract'] 30 23\n",
      "['Computational', 'processes', 'abstract', 'beings'] 11 23\n",
      "['processes', 'are', 'beings', 'that'] 20 22\n",
      "['are', 'abstract', 'that', 'inhabit'] 3 22\n",
      "['abstract', 'beings', 'inhabit', 'computers.'] 9 23\n",
      "['beings', 'that', 'computers.', 'As'] 5 48\n",
      "['that', 'inhabit', 'As', 'they'] 32 26\n",
      "['inhabit', 'computers.', 'they', 'evolve,'] 29 36\n",
      "['computers.', 'As', 'evolve,', 'processes'] 46 38\n",
      "['As', 'they', 'processes', 'manipulate'] 37 36\n",
      "['they', 'evolve,', 'manipulate', 'other'] 30 36\n",
      "['evolve,', 'processes', 'other', 'abstract'] 4 36\n",
      "['processes', 'manipulate', 'abstract', 'things'] 26 32\n",
      "['manipulate', 'other', 'things', 'called'] 20 0\n",
      "['other', 'abstract', 'called', 'data.'] 1 40\n",
      "['abstract', 'things', 'data.', 'The'] 34 47\n",
      "['things', 'called', 'The', 'evolution'] 39 0\n",
      "['called', 'data.', 'evolution', 'of'] 2 8\n",
      "['data.', 'The', 'of', 'a'] 13 33\n",
      "['The', 'evolution', 'a', 'process'] 42 3\n",
      "['evolution', 'of', 'process', 'is'] 17 10\n",
      "['of', 'a', 'is', 'directed'] 43 6\n",
      "['a', 'process', 'directed', 'by'] 23 30\n",
      "['process', 'is', 'by', 'a'] 18 21\n",
      "['is', 'directed', 'a', 'pattern'] 24 33\n",
      "['directed', 'by', 'pattern', 'of'] 17 30\n",
      "['by', 'a', 'of', 'rules'] 31 39\n",
      "['a', 'pattern', 'rules', 'called'] 42 30\n",
      "['pattern', 'of', 'called', 'a'] 36 30\n",
      "['of', 'rules', 'a', 'program.'] 34 7\n",
      "['rules', 'called', 'program.', 'People'] 17 8\n",
      "['called', 'a', 'People', 'create'] 47 30\n",
      "['a', 'program.', 'create', 'programs'] 25 0\n",
      "['program.', 'People', 'programs', 'to'] 33 42\n",
      "['People', 'create', 'to', 'direct'] 14 42\n",
      "['create', 'programs', 'direct', 'processes.'] 38 28\n",
      "['programs', 'to', 'processes.', 'In'] 21 42\n",
      "['to', 'direct', 'In', 'effect,'] 10 42\n",
      "['direct', 'processes.', 'effect,', 'we'] 6 47\n",
      "['processes.', 'In', 'we', 'conjure'] 0 42\n",
      "['In', 'effect,', 'conjure', 'the'] 7 5\n",
      "['effect,', 'we', 'the', 'spirits'] 8 39\n",
      "['we', 'conjure', 'spirits', 'of'] 15 39\n",
      "['conjure', 'the', 'of', 'the'] 19 33\n",
      "['the', 'spirits', 'the', 'computer'] 42 33\n",
      "['spirits', 'of', 'computer', 'with'] 15 33\n",
      "['of', 'the', 'with', 'our'] 44 38\n",
      "['the', 'computer', 'our', 'spells.'] 16 17\n"
     ]
    }
   ],
   "source": [
    "for context, target in data:\n",
    "    # step 1: prepare the inputs to be passed to the model\n",
    "    context_idxs = [word_to_ix[w] for w in context]\n",
    "    context_var = autograd.Variable(torch.LongTensor(context_idxs))\n",
    "    log_probs = model(context_var)\n",
    "    _, idx = torch.min(log_probs, -1)\n",
    "    print (context, word_to_ix[target], idx.data[0])"
   ]
  },
  {
   "cell_type": "code",
   "execution_count": null,
   "metadata": {
    "collapsed": true
   },
   "outputs": [],
   "source": []
  },
  {
   "cell_type": "code",
   "execution_count": null,
   "metadata": {
    "collapsed": true
   },
   "outputs": [],
   "source": []
  }
 ],
 "metadata": {
  "kernelspec": {
   "display_name": "Python 3",
   "language": "python",
   "name": "python3"
  },
  "language_info": {
   "codemirror_mode": {
    "name": "ipython",
    "version": 3
   },
   "file_extension": ".py",
   "mimetype": "text/x-python",
   "name": "python",
   "nbconvert_exporter": "python",
   "pygments_lexer": "ipython3",
   "version": "3.5.2"
  }
 },
 "nbformat": 4,
 "nbformat_minor": 2
}
