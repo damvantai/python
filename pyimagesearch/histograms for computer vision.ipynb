{
 "cells": [
  {
   "cell_type": "code",
   "execution_count": 1,
   "metadata": {
    "collapsed": true
   },
   "outputs": [],
   "source": [
    "from matplotlib import pyplot as plt"
   ]
  },
  {
   "cell_type": "code",
   "execution_count": 2,
   "metadata": {
    "collapsed": true
   },
   "outputs": [],
   "source": [
    "import numpy as np"
   ]
  },
  {
   "cell_type": "code",
   "execution_count": 3,
   "metadata": {
    "collapsed": true
   },
   "outputs": [],
   "source": [
    "import cv2"
   ]
  },
  {
   "cell_type": "code",
   "execution_count": 4,
   "metadata": {
    "collapsed": true
   },
   "outputs": [],
   "source": [
    "import argparse"
   ]
  },
  {
   "cell_type": "code",
   "execution_count": 5,
   "metadata": {
    "collapsed": true
   },
   "outputs": [],
   "source": [
    "# construct the argument parser and parsse the arguments"
   ]
  },
  {
   "cell_type": "code",
   "execution_count": 6,
   "metadata": {
    "collapsed": true
   },
   "outputs": [],
   "source": [
    "ap = argparse.ArgumentParser()"
   ]
  },
  {
   "cell_type": "code",
   "execution_count": 7,
   "metadata": {},
   "outputs": [
    {
     "data": {
      "text/plain": [
       "_StoreAction(option_strings=['-i', '--image'], dest='image', nargs=None, const=None, default=None, type=None, choices=None, help='Path to the image', metavar=None)"
      ]
     },
     "execution_count": 7,
     "metadata": {},
     "output_type": "execute_result"
    }
   ],
   "source": [
    "ap.add_argument(\"-i\", \"--image\", required = True, help = \"Path to the image\")"
   ]
  },
  {
   "cell_type": "code",
   "execution_count": 8,
   "metadata": {
    "collapsed": true
   },
   "outputs": [],
   "source": [
    "# args = vars(ap.parse_args())"
   ]
  },
  {
   "cell_type": "code",
   "execution_count": 128,
   "metadata": {
    "collapsed": true
   },
   "outputs": [],
   "source": [
    "image = cv2.imread(\"holly.jpg\")"
   ]
  },
  {
   "cell_type": "code",
   "execution_count": 129,
   "metadata": {
    "collapsed": true
   },
   "outputs": [],
   "source": [
    "cv2.imshow(\"image\", image)"
   ]
  },
  {
   "cell_type": "code",
   "execution_count": 130,
   "metadata": {
    "collapsed": true
   },
   "outputs": [],
   "source": [
    "# cv2.waitKey(0)"
   ]
  },
  {
   "cell_type": "code",
   "execution_count": 137,
   "metadata": {
    "collapsed": true
   },
   "outputs": [],
   "source": [
    "gray = cv2.cvtColor(image, cv2.COLOR_BGR2GRAY)"
   ]
  },
  {
   "cell_type": "code",
   "execution_count": 138,
   "metadata": {
    "collapsed": true
   },
   "outputs": [],
   "source": [
    "cv2.imshow(\"gray\", gray)"
   ]
  },
  {
   "cell_type": "code",
   "execution_count": 139,
   "metadata": {},
   "outputs": [
    {
     "name": "stdout",
     "output_type": "stream",
     "text": [
      "[[172 172 170 ..., 153 156 159]\n",
      " [172 172 170 ..., 153 156 159]\n",
      " [172 172 170 ..., 153 156 159]\n",
      " ..., \n",
      " [133 131 128 ...,  97  99 100]\n",
      " [133 131 128 ...,  96  97  98]\n",
      " [138 136 132 ...,  96  96  96]]\n",
      "1349\n",
      "<class 'numpy.ndarray'>\n",
      "(1349, 1080)\n"
     ]
    }
   ],
   "source": [
    "print(gray)\n",
    "# sum = 0\n",
    "# for i in range(32):\n",
    "#     sum += gray[i]\n",
    "#     print(sum)\n",
    "\n",
    "print(len(gray))\n",
    "print(type(gray))\n",
    "print(gray.shape)"
   ]
  },
  {
   "cell_type": "code",
   "execution_count": 140,
   "metadata": {
    "collapsed": true
   },
   "outputs": [],
   "source": [
    "hist = cv2.calcHist([gray], [0], None, [256], [0, 256])"
   ]
  },
  {
   "cell_type": "code",
   "execution_count": 141,
   "metadata": {},
   "outputs": [
    {
     "name": "stdout",
     "output_type": "stream",
     "text": [
      "[[  1.66000000e+02]\n",
      " [  1.04400000e+03]\n",
      " [  5.85000000e+02]\n",
      " [  5.88000000e+02]\n",
      " [  5.32000000e+02]\n",
      " [  5.24000000e+02]\n",
      " [  5.71000000e+02]\n",
      " [  5.97000000e+02]\n",
      " [  6.63000000e+02]\n",
      " [  8.39000000e+02]\n",
      " [  8.04000000e+02]\n",
      " [  8.76000000e+02]\n",
      " [  9.33000000e+02]\n",
      " [  8.97000000e+02]\n",
      " [  1.03000000e+03]\n",
      " [  1.00600000e+03]\n",
      " [  1.02200000e+03]\n",
      " [  8.63000000e+02]\n",
      " [  9.50000000e+02]\n",
      " [  9.22000000e+02]\n",
      " [  9.56000000e+02]\n",
      " [  9.48000000e+02]\n",
      " [  1.00800000e+03]\n",
      " [  1.02000000e+03]\n",
      " [  1.01300000e+03]\n",
      " [  1.04600000e+03]\n",
      " [  1.01200000e+03]\n",
      " [  1.05900000e+03]\n",
      " [  1.00600000e+03]\n",
      " [  9.98000000e+02]\n",
      " [  9.73000000e+02]\n",
      " [  1.03500000e+03]\n",
      " [  1.02300000e+03]\n",
      " [  1.00100000e+03]\n",
      " [  1.02200000e+03]\n",
      " [  9.62000000e+02]\n",
      " [  9.98000000e+02]\n",
      " [  8.87000000e+02]\n",
      " [  9.87000000e+02]\n",
      " [  9.33000000e+02]\n",
      " [  9.25000000e+02]\n",
      " [  8.95000000e+02]\n",
      " [  8.31000000e+02]\n",
      " [  8.41000000e+02]\n",
      " [  7.39000000e+02]\n",
      " [  6.86000000e+02]\n",
      " [  6.54000000e+02]\n",
      " [  7.39000000e+02]\n",
      " [  6.62000000e+02]\n",
      " [  6.96000000e+02]\n",
      " [  7.35000000e+02]\n",
      " [  7.48000000e+02]\n",
      " [  7.05000000e+02]\n",
      " [  6.89000000e+02]\n",
      " [  7.68000000e+02]\n",
      " [  7.66000000e+02]\n",
      " [  7.59000000e+02]\n",
      " [  8.50000000e+02]\n",
      " [  8.04000000e+02]\n",
      " [  8.25000000e+02]\n",
      " [  8.11000000e+02]\n",
      " [  8.20000000e+02]\n",
      " [  8.55000000e+02]\n",
      " [  8.60000000e+02]\n",
      " [  8.97000000e+02]\n",
      " [  9.51000000e+02]\n",
      " [  9.50000000e+02]\n",
      " [  9.77000000e+02]\n",
      " [  1.01600000e+03]\n",
      " [  1.07900000e+03]\n",
      " [  1.08400000e+03]\n",
      " [  1.12600000e+03]\n",
      " [  1.18200000e+03]\n",
      " [  1.22400000e+03]\n",
      " [  1.18100000e+03]\n",
      " [  1.13300000e+03]\n",
      " [  1.25600000e+03]\n",
      " [  1.33600000e+03]\n",
      " [  1.22400000e+03]\n",
      " [  1.41300000e+03]\n",
      " [  1.50500000e+03]\n",
      " [  1.54500000e+03]\n",
      " [  1.74300000e+03]\n",
      " [  1.63400000e+03]\n",
      " [  1.52000000e+03]\n",
      " [  1.61400000e+03]\n",
      " [  1.64800000e+03]\n",
      " [  1.74200000e+03]\n",
      " [  1.74600000e+03]\n",
      " [  1.86000000e+03]\n",
      " [  1.81800000e+03]\n",
      " [  1.94100000e+03]\n",
      " [  2.00600000e+03]\n",
      " [  2.18300000e+03]\n",
      " [  2.10400000e+03]\n",
      " [  2.30700000e+03]\n",
      " [  2.54800000e+03]\n",
      " [  2.70200000e+03]\n",
      " [  2.78900000e+03]\n",
      " [  2.77000000e+03]\n",
      " [  2.94400000e+03]\n",
      " [  3.08500000e+03]\n",
      " [  3.10300000e+03]\n",
      " [  3.08400000e+03]\n",
      " [  3.07400000e+03]\n",
      " [  3.27600000e+03]\n",
      " [  3.22300000e+03]\n",
      " [  3.24200000e+03]\n",
      " [  3.32800000e+03]\n",
      " [  3.31700000e+03]\n",
      " [  3.49000000e+03]\n",
      " [  3.62700000e+03]\n",
      " [  3.91000000e+03]\n",
      " [  4.21200000e+03]\n",
      " [  4.85900000e+03]\n",
      " [  5.99500000e+03]\n",
      " [  6.40000000e+03]\n",
      " [  7.12600000e+03]\n",
      " [  1.03780000e+04]\n",
      " [  8.24300000e+03]\n",
      " [  8.34400000e+03]\n",
      " [  8.45400000e+03]\n",
      " [  8.76200000e+03]\n",
      " [  9.80900000e+03]\n",
      " [  9.80600000e+03]\n",
      " [  1.29320000e+04]\n",
      " [  1.04550000e+04]\n",
      " [  1.01030000e+04]\n",
      " [  9.65400000e+03]\n",
      " [  9.98900000e+03]\n",
      " [  9.94000000e+03]\n",
      " [  9.31700000e+03]\n",
      " [  1.53530000e+04]\n",
      " [  1.22390000e+04]\n",
      " [  1.53350000e+04]\n",
      " [  1.42820000e+04]\n",
      " [  1.35300000e+04]\n",
      " [  1.26410000e+04]\n",
      " [  1.11590000e+04]\n",
      " [  1.39920000e+04]\n",
      " [  1.13050000e+04]\n",
      " [  1.15620000e+04]\n",
      " [  1.20290000e+04]\n",
      " [  1.26350000e+04]\n",
      " [  1.33940000e+04]\n",
      " [  1.29670000e+04]\n",
      " [  2.04000000e+04]\n",
      " [  1.63220000e+04]\n",
      " [  1.75300000e+04]\n",
      " [  2.01750000e+04]\n",
      " [  2.05500000e+04]\n",
      " [  2.15770000e+04]\n",
      " [  2.26430000e+04]\n",
      " [  4.03190000e+04]\n",
      " [  4.13080000e+04]\n",
      " [  4.12660000e+04]\n",
      " [  2.98730000e+04]\n",
      " [  2.88730000e+04]\n",
      " [  3.50360000e+04]\n",
      " [  4.40440000e+04]\n",
      " [  7.67310000e+04]\n",
      " [  1.64620000e+04]\n",
      " [  1.61690000e+04]\n",
      " [  1.46200000e+04]\n",
      " [  1.46260000e+04]\n",
      " [  1.47140000e+04]\n",
      " [  1.40040000e+04]\n",
      " [  1.88090000e+04]\n",
      " [  1.57070000e+04]\n",
      " [  1.61520000e+04]\n",
      " [  1.55750000e+04]\n",
      " [  1.53130000e+04]\n",
      " [  1.75400000e+04]\n",
      " [  1.55800000e+04]\n",
      " [  2.11670000e+04]\n",
      " [  1.06770000e+04]\n",
      " [  8.35000000e+03]\n",
      " [  7.14000000e+03]\n",
      " [  7.02100000e+03]\n",
      " [  7.00400000e+03]\n",
      " [  6.49400000e+03]\n",
      " [  7.22300000e+03]\n",
      " [  6.19000000e+03]\n",
      " [  6.13100000e+03]\n",
      " [  6.07700000e+03]\n",
      " [  6.46200000e+03]\n",
      " [  6.76300000e+03]\n",
      " [  6.07900000e+03]\n",
      " [  6.64100000e+03]\n",
      " [  7.38900000e+03]\n",
      " [  6.38600000e+03]\n",
      " [  6.86000000e+03]\n",
      " [  7.24900000e+03]\n",
      " [  6.59000000e+03]\n",
      " [  6.08100000e+03]\n",
      " [  5.95100000e+03]\n",
      " [  4.94400000e+03]\n",
      " [  4.53700000e+03]\n",
      " [  4.37100000e+03]\n",
      " [  4.45100000e+03]\n",
      " [  4.59700000e+03]\n",
      " [  4.87500000e+03]\n",
      " [  5.40100000e+03]\n",
      " [  4.81600000e+03]\n",
      " [  5.07400000e+03]\n",
      " [  4.42700000e+03]\n",
      " [  4.26100000e+03]\n",
      " [  4.18700000e+03]\n",
      " [  4.09700000e+03]\n",
      " [  3.98600000e+03]\n",
      " [  3.80800000e+03]\n",
      " [  3.36900000e+03]\n",
      " [  3.37700000e+03]\n",
      " [  3.25100000e+03]\n",
      " [  2.71700000e+03]\n",
      " [  2.22300000e+03]\n",
      " [  1.97000000e+03]\n",
      " [  2.02600000e+03]\n",
      " [  1.80700000e+03]\n",
      " [  1.83900000e+03]\n",
      " [  1.74900000e+03]\n",
      " [  1.61700000e+03]\n",
      " [  1.59100000e+03]\n",
      " [  1.37300000e+03]\n",
      " [  1.24900000e+03]\n",
      " [  9.92000000e+02]\n",
      " [  9.56000000e+02]\n",
      " [  8.67000000e+02]\n",
      " [  8.24000000e+02]\n",
      " [  7.54000000e+02]\n",
      " [  7.42000000e+02]\n",
      " [  6.39000000e+02]\n",
      " [  5.88000000e+02]\n",
      " [  5.03000000e+02]\n",
      " [  4.19000000e+02]\n",
      " [  3.96000000e+02]\n",
      " [  2.76000000e+02]\n",
      " [  2.23000000e+02]\n",
      " [  2.19000000e+02]\n",
      " [  1.33000000e+02]\n",
      " [  1.42000000e+02]\n",
      " [  9.50000000e+01]\n",
      " [  1.06000000e+02]\n",
      " [  8.60000000e+01]\n",
      " [  5.70000000e+01]\n",
      " [  6.40000000e+01]\n",
      " [  6.70000000e+01]\n",
      " [  3.90000000e+01]\n",
      " [  5.50000000e+01]\n",
      " [  3.30000000e+01]\n",
      " [  3.80000000e+01]\n",
      " [  4.70000000e+01]\n",
      " [  2.90000000e+01]\n",
      " [  2.10000000e+01]\n",
      " [  4.90000000e+01]\n",
      " [  8.00000000e+00]]\n",
      "<class 'numpy.ndarray'>\n",
      "256\n",
      "1.45692e+06\n",
      "[ 166.]\n",
      "[ 1044.]\n",
      "[ 585.]\n",
      "[ 588.]\n",
      "[ 532.]\n",
      "[ 524.]\n",
      "[ 571.]\n",
      "[ 597.]\n",
      "[ 4607.]\n"
     ]
    }
   ],
   "source": [
    "print(hist)\n",
    "print(type(hist))\n",
    "print(len(hist))\n",
    "# hist = cv2.normalize(hist, hist)\n",
    "# print(hist)\n",
    "print(np.sum(hist))\n",
    "sum = 0\n",
    "for i in range(8):\n",
    "    sum += hist[i]\n",
    "    print(hist[i])\n",
    "print(sum)"
   ]
  },
  {
   "cell_type": "code",
   "execution_count": 135,
   "metadata": {
    "scrolled": true
   },
   "outputs": [
    {
     "name": "stdout",
     "output_type": "stream",
     "text": [
      "[[  4.60700000e+03]\n",
      " [  7.04800000e+03]\n",
      " [  7.68900000e+03]\n",
      " [  8.14200000e+03]\n",
      " [  7.81300000e+03]\n",
      " [  6.31000000e+03]\n",
      " [  5.76900000e+03]\n",
      " [  6.58400000e+03]\n",
      " [  8.08000000e+03]\n",
      " [  9.94900000e+03]\n",
      " [  1.29510000e+04]\n",
      " [  1.59650000e+04]\n",
      " [  2.30250000e+04]\n",
      " [  2.65770000e+04]\n",
      " [  5.11230000e+04]\n",
      " [  7.86650000e+04]\n",
      " [  9.61090000e+04]\n",
      " [  9.88530000e+04]\n",
      " [  1.42915000e+05]\n",
      " [  2.83362000e+05]\n",
      " [  1.86135000e+05]\n",
      " [  1.27711000e+05]\n",
      " [  5.55530000e+04]\n",
      " [  5.26570000e+04]\n",
      " [  4.41740000e+04]\n",
      " [  3.76380000e+04]\n",
      " [  2.68280000e+04]\n",
      " [  1.39720000e+04]\n",
      " [  7.02300000e+03]\n",
      " [  2.75700000e+03]\n",
      " [  6.56000000e+02]\n",
      " [  2.80000000e+02]]\n",
      "<class 'numpy.ndarray'>\n",
      "32\n",
      "1.45692e+06\n"
     ]
    }
   ],
   "source": [
    "print(hist)\n",
    "print(type(hist))\n",
    "print(len(hist))\n",
    "# hist = cv2.normalize(hist, hist)\n",
    "# print(hist)\n",
    "print(np.sum(hist))"
   ]
  },
  {
   "cell_type": "code",
   "execution_count": 107,
   "metadata": {},
   "outputs": [
    {
     "name": "stdout",
     "output_type": "stream",
     "text": [
      "1456920\n"
     ]
    }
   ],
   "source": [
    "print(1349 * 1080)"
   ]
  },
  {
   "cell_type": "code",
   "execution_count": 65,
   "metadata": {},
   "outputs": [
    {
     "data": {
      "text/plain": [
       "<matplotlib.figure.Figure at 0x7ff72b145400>"
      ]
     },
     "execution_count": 65,
     "metadata": {},
     "output_type": "execute_result"
    }
   ],
   "source": [
    "plt.figure()"
   ]
  },
  {
   "cell_type": "code",
   "execution_count": 66,
   "metadata": {},
   "outputs": [
    {
     "data": {
      "text/plain": [
       "<matplotlib.text.Text at 0x7ff72b08dc50>"
      ]
     },
     "execution_count": 66,
     "metadata": {},
     "output_type": "execute_result"
    }
   ],
   "source": [
    "plt.title(\"Grayscale Histogram\")"
   ]
  },
  {
   "cell_type": "code",
   "execution_count": 67,
   "metadata": {},
   "outputs": [
    {
     "data": {
      "text/plain": [
       "<matplotlib.text.Text at 0x7ff72b112e80>"
      ]
     },
     "execution_count": 67,
     "metadata": {},
     "output_type": "execute_result"
    }
   ],
   "source": [
    "plt.xlabel(\"Bins\")"
   ]
  },
  {
   "cell_type": "code",
   "execution_count": 68,
   "metadata": {},
   "outputs": [
    {
     "data": {
      "text/plain": [
       "<matplotlib.text.Text at 0x7ff72b0f78d0>"
      ]
     },
     "execution_count": 68,
     "metadata": {},
     "output_type": "execute_result"
    }
   ],
   "source": [
    "plt.ylabel(\"# of Pixels\")"
   ]
  },
  {
   "cell_type": "code",
   "execution_count": 69,
   "metadata": {},
   "outputs": [
    {
     "data": {
      "text/plain": [
       "[<matplotlib.lines.Line2D at 0x7ff72b1455f8>]"
      ]
     },
     "execution_count": 69,
     "metadata": {},
     "output_type": "execute_result"
    }
   ],
   "source": [
    "plt.plot(hist)"
   ]
  },
  {
   "cell_type": "code",
   "execution_count": 70,
   "metadata": {},
   "outputs": [
    {
     "data": {
      "text/plain": [
       "(0, 32)"
      ]
     },
     "execution_count": 70,
     "metadata": {},
     "output_type": "execute_result"
    }
   ],
   "source": [
    "plt.xlim([0, 32])"
   ]
  },
  {
   "cell_type": "code",
   "execution_count": 71,
   "metadata": {
    "scrolled": true
   },
   "outputs": [
    {
     "data": {
      "image/png": "[encoded data removed]",
      "text/plain": [
       "<matplotlib.figure.Figure at 0x7ff72b145400>"
      ]
     },
     "metadata": {},
     "output_type": "display_data"
    }
   ],
   "source": [
    "plt.show()"
   ]
  },
  {
   "cell_type": "code",
   "execution_count": 23,
   "metadata": {},
   "outputs": [
    {
     "data": {
      "text/plain": [
       "32"
      ]
     },
     "execution_count": 23,
     "metadata": {},
     "output_type": "execute_result"
    }
   ],
   "source": [
    "cv2.waitKey(0)"
   ]
  },
  {
   "cell_type": "code",
   "execution_count": 24,
   "metadata": {
    "collapsed": true
   },
   "outputs": [],
   "source": [
    "# computing a flattened color histogram using python and opencv\n",
    "chans = cv2.split(image)"
   ]
  },
  {
   "cell_type": "code",
   "execution_count": 25,
   "metadata": {
    "collapsed": true
   },
   "outputs": [],
   "source": [
    "colors = (\"b\", \"g\", \"r\")"
   ]
  },
  {
   "cell_type": "code",
   "execution_count": 26,
   "metadata": {},
   "outputs": [
    {
     "data": {
      "text/plain": [
       "<matplotlib.figure.Figure at 0x7f0a4d2f6f60>"
      ]
     },
     "execution_count": 26,
     "metadata": {},
     "output_type": "execute_result"
    }
   ],
   "source": [
    "plt.figure()"
   ]
  },
  {
   "cell_type": "code",
   "execution_count": 27,
   "metadata": {},
   "outputs": [
    {
     "data": {
      "text/plain": [
       "<matplotlib.text.Text at 0x7f0a478115c0>"
      ]
     },
     "execution_count": 27,
     "metadata": {},
     "output_type": "execute_result"
    }
   ],
   "source": [
    "plt.title(\"'Flattened' Color Histogram\")"
   ]
  },
  {
   "cell_type": "code",
   "execution_count": 28,
   "metadata": {},
   "outputs": [
    {
     "data": {
      "text/plain": [
       "<matplotlib.text.Text at 0x7f0a47830668>"
      ]
     },
     "execution_count": 28,
     "metadata": {},
     "output_type": "execute_result"
    }
   ],
   "source": [
    "plt.xlabel(\"Bins\")"
   ]
  },
  {
   "cell_type": "code",
   "execution_count": 29,
   "metadata": {},
   "outputs": [
    {
     "data": {
      "text/plain": [
       "<matplotlib.text.Text at 0x7f0a47860ef0>"
      ]
     },
     "execution_count": 29,
     "metadata": {},
     "output_type": "execute_result"
    }
   ],
   "source": [
    "plt.ylabel(\"# of Pixels\")"
   ]
  },
  {
   "cell_type": "code",
   "execution_count": 30,
   "metadata": {
    "collapsed": true
   },
   "outputs": [],
   "source": [
    "features = []"
   ]
  },
  {
   "cell_type": "code",
   "execution_count": 31,
   "metadata": {},
   "outputs": [
    {
     "name": "stdout",
     "output_type": "stream",
     "text": [
      "[array([[153, 153, 151, ..., 130, 133, 136],\n",
      "       [153, 153, 151, ..., 130, 133, 136],\n",
      "       [153, 153, 151, ..., 130, 133, 136],\n",
      "       ..., \n",
      "       [114, 112, 109, ...,  74,  76,  77],\n",
      "       [114, 112, 109, ...,  73,  74,  75],\n",
      "       [119, 117, 113, ...,  73,  73,  73]], dtype=uint8), array([[171, 171, 169, ..., 152, 155, 158],\n",
      "       [171, 171, 169, ..., 152, 155, 158],\n",
      "       [171, 171, 169, ..., 152, 155, 158],\n",
      "       ..., \n",
      "       [130, 128, 125, ...,  94,  96,  97],\n",
      "       [130, 128, 125, ...,  93,  94,  95],\n",
      "       [135, 133, 129, ...,  93,  93,  93]], dtype=uint8), array([[182, 182, 180, ..., 163, 166, 169],\n",
      "       [182, 182, 180, ..., 163, 166, 169],\n",
      "       [182, 182, 180, ..., 163, 166, 169],\n",
      "       ..., \n",
      "       [146, 144, 141, ..., 112, 114, 115],\n",
      "       [146, 144, 141, ..., 111, 112, 113],\n",
      "       [151, 149, 145, ..., 111, 111, 111]], dtype=uint8)]\n"
     ]
    }
   ],
   "source": [
    "print(chans)"
   ]
  },
  {
   "cell_type": "code",
   "execution_count": 33,
   "metadata": {},
   "outputs": [
    {
     "name": "stdout",
     "output_type": "stream",
     "text": [
      "Flattened feature vector size: 1536\n"
     ]
    },
    {
     "data": {
      "image/png": "[encoded data removed]",
      "text/plain": [
       "<matplotlib.figure.Figure at 0x7f0a4d2f6f60>"
      ]
     },
     "metadata": {},
     "output_type": "display_data"
    }
   ],
   "source": [
    "for (chan, color) in zip(chans, colors):\n",
    "    hist = cv2.calcHist([chan], [0], None, [256], [0, 256])\n",
    "    features.extend(hist)\n",
    "    plt.plot(hist, color = color)\n",
    "    plt.xlim([0, 256])\n",
    "print(\"Flattened feature vector size: %d\" % (np.array(features).flatten().shape))\n",
    "plt.show()"
   ]
  },
  {
   "cell_type": "code",
   "execution_count": 34,
   "metadata": {
    "collapsed": true
   },
   "outputs": [],
   "source": [
    "# computing a 2D color histogram using python and opencv\n",
    "fig = plt.figure()"
   ]
  },
  {
   "cell_type": "code",
   "execution_count": 35,
   "metadata": {
    "collapsed": true
   },
   "outputs": [],
   "source": [
    "ax = fig.add_subplot(131)"
   ]
  },
  {
   "cell_type": "code",
   "execution_count": 36,
   "metadata": {
    "collapsed": true
   },
   "outputs": [],
   "source": [
    "hist = cv2.calcHist([chans[1], chans[0]], [0, 1], None, [32, 32], [0, 256, 0, 256])"
   ]
  },
  {
   "cell_type": "code",
   "execution_count": 37,
   "metadata": {
    "collapsed": true
   },
   "outputs": [],
   "source": [
    "p = ax.imshow(hist, interpolation = \"nearest\")"
   ]
  },
  {
   "cell_type": "code",
   "execution_count": 38,
   "metadata": {},
   "outputs": [
    {
     "data": {
      "text/plain": [
       "<matplotlib.text.Text at 0x7f0a4630c518>"
      ]
     },
     "execution_count": 38,
     "metadata": {},
     "output_type": "execute_result"
    }
   ],
   "source": [
    "ax.set_title(\"2D color histogram for green and blue\")"
   ]
  },
  {
   "cell_type": "code",
   "execution_count": 39,
   "metadata": {},
   "outputs": [
    {
     "data": {
      "text/plain": [
       "<matplotlib.colorbar.Colorbar at 0x7f0a462fe9e8>"
      ]
     },
     "execution_count": 39,
     "metadata": {},
     "output_type": "execute_result"
    }
   ],
   "source": [
    "plt.colorbar(p)"
   ]
  },
  {
   "cell_type": "code",
   "execution_count": 40,
   "metadata": {
    "collapsed": true
   },
   "outputs": [],
   "source": [
    "ax = fig.add_subplot(132)\n",
    "hist = cv2.calcHist([chans[1], chans[2]], [0, 1], None, [32, 32], [0, 256, 0, 256])"
   ]
  },
  {
   "cell_type": "code",
   "execution_count": 41,
   "metadata": {
    "collapsed": true
   },
   "outputs": [],
   "source": [
    "p = ax.imshow(hist, interpolation = \"nearest\")"
   ]
  },
  {
   "cell_type": "code",
   "execution_count": 42,
   "metadata": {},
   "outputs": [
    {
     "data": {
      "text/plain": [
       "<matplotlib.text.Text at 0x7f0a462a8c18>"
      ]
     },
     "execution_count": 42,
     "metadata": {},
     "output_type": "execute_result"
    }
   ],
   "source": [
    "ax.set_title(\"2D Color Histogram for Green and Red\")"
   ]
  },
  {
   "cell_type": "code",
   "execution_count": 43,
   "metadata": {},
   "outputs": [
    {
     "data": {
      "text/plain": [
       "<matplotlib.colorbar.Colorbar at 0x7f0a46277940>"
      ]
     },
     "execution_count": 43,
     "metadata": {},
     "output_type": "execute_result"
    }
   ],
   "source": [
    "plt.colorbar(p)"
   ]
  },
  {
   "cell_type": "code",
   "execution_count": 44,
   "metadata": {
    "collapsed": true
   },
   "outputs": [],
   "source": [
    "ax = fig.add_subplot(133)\n",
    "hist = cv2.calcHist([chans[0], chans[2]], [0, 1], None, [32, 32], [0, 256, 0, 256])\n"
   ]
  },
  {
   "cell_type": "code",
   "execution_count": 45,
   "metadata": {
    "collapsed": true
   },
   "outputs": [],
   "source": [
    "p = ax.imshow(hist, interpolation=\"nearest\")"
   ]
  },
  {
   "cell_type": "code",
   "execution_count": 46,
   "metadata": {},
   "outputs": [
    {
     "data": {
      "text/plain": [
       "<matplotlib.text.Text at 0x7f0a461f14e0>"
      ]
     },
     "execution_count": 46,
     "metadata": {},
     "output_type": "execute_result"
    }
   ],
   "source": [
    "ax.set_title(\"2d color histogram for blue and red\")"
   ]
  },
  {
   "cell_type": "code",
   "execution_count": 47,
   "metadata": {},
   "outputs": [
    {
     "data": {
      "text/plain": [
       "<matplotlib.colorbar.Colorbar at 0x7f0a46168860>"
      ]
     },
     "execution_count": 47,
     "metadata": {},
     "output_type": "execute_result"
    }
   ],
   "source": [
    "plt.colorbar(p)"
   ]
  },
  {
   "cell_type": "code",
   "execution_count": 48,
   "metadata": {},
   "outputs": [
    {
     "name": "stdout",
     "output_type": "stream",
     "text": [
      "2D histogram shape: (32, 32), with 1024 value\n"
     ]
    }
   ],
   "source": [
    "print(\"2D histogram shape: %s, with %d value\" % (hist.shape, hist.flatten().shape[0]))"
   ]
  },
  {
   "cell_type": "code",
   "execution_count": 49,
   "metadata": {},
   "outputs": [
    {
     "data": {
      "image/png": "[encoded data removed]",
      "text/plain": [
       "<matplotlib.figure.Figure at 0x7f0a4639a128>"
      ]
     },
     "metadata": {},
     "output_type": "display_data"
    }
   ],
   "source": [
    "plt.show()"
   ]
  },
  {
   "cell_type": "code",
   "execution_count": null,
   "metadata": {
    "collapsed": true
   },
   "outputs": [],
   "source": []
  }
 ],
 "metadata": {
  "kernelspec": {
   "display_name": "Python 3",
   "language": "python",
   "name": "python3"
  },
  "language_info": {
   "codemirror_mode": {
    "name": "ipython",
    "version": 3
   },
   "file_extension": ".py",
   "mimetype": "text/x-python",
   "name": "python",
   "nbconvert_exporter": "python",
   "pygments_lexer": "ipython3",
   "version": "3.5.2"
  }
 },
 "nbformat": 4,
 "nbformat_minor": 2
}
