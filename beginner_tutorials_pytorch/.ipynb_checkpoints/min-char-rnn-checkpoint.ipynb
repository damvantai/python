{
 "cells": [
  {
   "cell_type": "code",
   "execution_count": 1,
   "metadata": {},
   "outputs": [
    {
     "data": {
      "text/plain": [
       "'\\nMinimal character-level vanilla RNN model. Written by Andrej Karpathy(@karpathy) \\nBSD License\\n'"
      ]
     },
     "execution_count": 1,
     "metadata": {},
     "output_type": "execute_result"
    }
   ],
   "source": [
    "\"\"\"\n",
    "Minimal character-level vanilla RNN model. Written by Andrej Karpathy(@karpathy) \n",
    "BSD License\n",
    "\"\"\""
   ]
  },
  {
   "cell_type": "code",
   "execution_count": 2,
   "metadata": {
    "collapsed": true
   },
   "outputs": [],
   "source": [
    "import numpy as np"
   ]
  },
  {
   "cell_type": "code",
   "execution_count": 3,
   "metadata": {
    "collapsed": true
   },
   "outputs": [],
   "source": [
    "# data I/O\n",
    "data = open('input.txt', 'r').read()\n",
    "chars = list(set(data))\n",
    "data_size, vocab_size = len(data), len(chars)"
   ]
  },
  {
   "cell_type": "code",
   "execution_count": 4,
   "metadata": {},
   "outputs": [
    {
     "name": "stdout",
     "output_type": "stream",
     "text": [
      "Artificial intelligence can accurately guess whether people are gay or straight based on photos of their faces, according to new research suggesting that machines can have significantly better “gaydar” than humans.\n",
      "\n",
      "The study from Stanford University – which found that a computer algorithm could correctly distinguish between gay and straight men 81% of the time, and 74% for women – has raised questions about the biological origins of sexual orientation, the ethics of facial-detection technology and the potential for this kind of software to violate people’s privacy or be abused for anti-LGBT purposes.\n",
      "\n",
      "The machine intelligence tested in the research, which was published in the Journal of Personality and Social Psychology and first reported in the Economist, was based on a sample of more than 35,000 facial images that men and women publicly posted on a US dating website. The researchers, Michal Kosinski and Yilun Wang, extracted features from the images using “deep neural networks”, meaning a sophisticated mathematical system that learns to analyze visuals based on a large dataset.\n",
      "\n",
      "The research found that gay men and women tended to have “gender-atypical” features, expressions and “grooming styles”, essentially meaning gay men appeared more feminine and vice versa. The data also identified certain trends, including that gay men had narrower jaws, longer noses and larger foreheads than straight men, and that gay women had larger jaws and smaller foreheads compared to straight women.\n",
      "\n",
      "Human judges performed much worse than the algorithm, accurately identifying orientation only 61% of the time for men and 54% for women. When the software reviewed five images per person, it was even more successful – 91% of the time with men and 83% with women. Broadly, that means “faces contain much more information about sexual orientation than can be perceived and interpreted by the human brain”, the authors wrote.\n",
      "\n",
      "The paper suggested that the findings provide “strong support” for the theory that sexual orientation stems from exposure to certain hormones before birth, meaning people are born gay and being queer is not a choice. The machine’s lower success rate for women also could support the notion that female sexual orientation is more fluid.\n",
      "\n",
      "While the findings have clear limits when it comes to gender and sexuality – people of color were not included in the study, and there was no consideration of transgender or bisexual people – the implications for artificial intelligence (AI) are vast and alarming. With billions of facial images of people stored on social media sites and in government databases, the researchers suggested that public data could be used to detect people’s sexual orientation without their consent.\n",
      "\n",
      "It’s easy to imagine spouses using the technology on partners they suspect are closeted, or teenagers using the algorithm on themselves or their peers. More frighteningly, governments that continue to prosecute LGBT people could hypothetically use the technology to out and target populations. That means building this kind of software and publicizing it is itself controversial given concerns that it could encourage harmful applications.\n",
      "\n",
      "But the authors argued that the technology already exists, and its capabilities are important to expose so that governments and companies can proactively consider privacy risks and the need for safeguards and regulations.\n",
      "\n",
      "“It’s certainly unsettling. Like any new tool, if it gets into the wrong hands, it can be used for ill purposes,” said Nick Rule, an associate professor of psychology at the University of Toronto, who has published research on the science of gaydar. “If you can start profiling people based on their appearance, then identifying them and doing horrible things to them, that’s really bad.”\n",
      "\n",
      "Rule argued it was still important to develop and test this technology: “What the authors have done here is to make a very bold statement about how powerful this can be. … Now we know that we need protections.”\n",
      "\n",
      "Kosinski was not available for an interview, according to a Stanford spokesperson. The professor is known for his work with Cambridge University on psychometric profiling, including using Facebook data to make conclusions about personality. Donald Trump’s campaign and Brexit supporters deployed similar tools to target voters, raising concerns about the expanding use of personal data in elections.\n",
      "\n",
      "In the Stanford study, the authors also noted that artificial intelligence could be used to explore links between facial features and a range of other phenomena, such as political views, psychological conditions or personality.\n",
      "\n",
      "This type of research further raises concerns about the potential for scenarios like the science-fiction movie Minority Report, in which people can be arrested based solely on the prediction that they will commit a crime.\n",
      "\n",
      "“AI can tell you anything about anyone with enough data,” said Brian Brackeen, CEO of Kairos, a face recognition company. “The question is as a society, do we want to know?”\n",
      "\n",
      "Brackeen, who said the Stanford data on sexual orientation was “startlingly correct”, said there needs to be an increased focus on privacy and tools to prevent the misuse of machine learning as it becomes more widespread and advanced.\n",
      "\n",
      "Rule speculated about AI being used to actively discriminate against people based on a machine’s interpretation of their faces: “We should all be collectively concerned.”\n",
      "\n"
     ]
    }
   ],
   "source": [
    "print(data)"
   ]
  },
  {
   "cell_type": "code",
   "execution_count": 10,
   "metadata": {},
   "outputs": [
    {
     "data": {
      "text/plain": [
       "{'\\n',\n",
       " ' ',\n",
       " '%',\n",
       " '(',\n",
       " ')',\n",
       " ',',\n",
       " '-',\n",
       " '.',\n",
       " '0',\n",
       " '1',\n",
       " '3',\n",
       " '4',\n",
       " '5',\n",
       " '6',\n",
       " '7',\n",
       " '8',\n",
       " '9',\n",
       " ':',\n",
       " '?',\n",
       " 'A',\n",
       " 'B',\n",
       " 'C',\n",
       " 'D',\n",
       " 'E',\n",
       " 'F',\n",
       " 'G',\n",
       " 'H',\n",
       " 'I',\n",
       " 'J',\n",
       " 'K',\n",
       " 'L',\n",
       " 'M',\n",
       " 'N',\n",
       " 'O',\n",
       " 'P',\n",
       " 'R',\n",
       " 'S',\n",
       " 'T',\n",
       " 'U',\n",
       " 'W',\n",
       " 'Y',\n",
       " 'a',\n",
       " 'b',\n",
       " 'c',\n",
       " 'd',\n",
       " 'e',\n",
       " 'f',\n",
       " 'g',\n",
       " 'h',\n",
       " 'i',\n",
       " 'j',\n",
       " 'k',\n",
       " 'l',\n",
       " 'm',\n",
       " 'n',\n",
       " 'o',\n",
       " 'p',\n",
       " 'q',\n",
       " 'r',\n",
       " 's',\n",
       " 't',\n",
       " 'u',\n",
       " 'v',\n",
       " 'w',\n",
       " 'x',\n",
       " 'y',\n",
       " 'z',\n",
       " '–',\n",
       " '’',\n",
       " '“',\n",
       " '”',\n",
       " '…'}"
      ]
     },
     "execution_count": 10,
     "metadata": {},
     "output_type": "execute_result"
    }
   ],
   "source": [
    "set(data)"
   ]
  },
  {
   "cell_type": "code",
   "execution_count": 5,
   "metadata": {},
   "outputs": [
    {
     "data": {
      "text/plain": [
       "['?',\n",
       " 'Y',\n",
       " 'F',\n",
       " 'i',\n",
       " 'h',\n",
       " 'E',\n",
       " 'U',\n",
       " '5',\n",
       " 'm',\n",
       " 'D',\n",
       " '”',\n",
       " 'e',\n",
       " 'a',\n",
       " 'G',\n",
       " 'f',\n",
       " '1',\n",
       " 'P',\n",
       " 'T',\n",
       " 'z',\n",
       " '6',\n",
       " 'g',\n",
       " ' ',\n",
       " 'S',\n",
       " ')',\n",
       " 'N',\n",
       " 'x',\n",
       " '7',\n",
       " 't',\n",
       " 'c',\n",
       " 'O',\n",
       " 'v',\n",
       " '“',\n",
       " 'j',\n",
       " 'R',\n",
       " 'b',\n",
       " 'A',\n",
       " 'u',\n",
       " 'y',\n",
       " '4',\n",
       " '%',\n",
       " ',',\n",
       " '(',\n",
       " 'I',\n",
       " 'w',\n",
       " ':',\n",
       " '’',\n",
       " '0',\n",
       " 'p',\n",
       " '.',\n",
       " 'J',\n",
       " 'q',\n",
       " 'n',\n",
       " '\\n',\n",
       " '…',\n",
       " 'C',\n",
       " '8',\n",
       " 'r',\n",
       " 'B',\n",
       " 's',\n",
       " '-',\n",
       " 'l',\n",
       " 'M',\n",
       " 'd',\n",
       " 'K',\n",
       " 'k',\n",
       " 'H',\n",
       " 'L',\n",
       " 'W',\n",
       " 'o',\n",
       " '–',\n",
       " '9',\n",
       " '3']"
      ]
     },
     "execution_count": 5,
     "metadata": {},
     "output_type": "execute_result"
    }
   ],
   "source": [
    "chars"
   ]
  },
  {
   "cell_type": "code",
   "execution_count": 6,
   "metadata": {
    "collapsed": true
   },
   "outputs": [],
   "source": [
    "chars = list(set(data))"
   ]
  },
  {
   "cell_type": "code",
   "execution_count": 7,
   "metadata": {
    "collapsed": true
   },
   "outputs": [],
   "source": [
    "data_size, vocab_size = len(data), len(chars)"
   ]
  },
  {
   "cell_type": "code",
   "execution_count": 8,
   "metadata": {},
   "outputs": [
    {
     "data": {
      "text/plain": [
       "5453"
      ]
     },
     "execution_count": 8,
     "metadata": {},
     "output_type": "execute_result"
    }
   ],
   "source": [
    "data_size"
   ]
  },
  {
   "cell_type": "code",
   "execution_count": 9,
   "metadata": {},
   "outputs": [
    {
     "data": {
      "text/plain": [
       "72"
      ]
     },
     "execution_count": 9,
     "metadata": {},
     "output_type": "execute_result"
    }
   ],
   "source": [
    "vocab_size"
   ]
  },
  {
   "cell_type": "code",
   "execution_count": 11,
   "metadata": {},
   "outputs": [
    {
     "name": "stdout",
     "output_type": "stream",
     "text": [
      "data has 5453 characters, 72 unique.\n"
     ]
    }
   ],
   "source": [
    "print(\"data has %d characters, %d unique.\" % (data_size, vocab_size))"
   ]
  },
  {
   "cell_type": "code",
   "execution_count": 12,
   "metadata": {
    "collapsed": true
   },
   "outputs": [],
   "source": [
    "char_to_ix = {ch:i for i,ch in enumerate(chars)}"
   ]
  },
  {
   "cell_type": "code",
   "execution_count": 13,
   "metadata": {},
   "outputs": [
    {
     "data": {
      "text/plain": [
       "{'\\n': 52,\n",
       " ' ': 21,\n",
       " '%': 39,\n",
       " '(': 41,\n",
       " ')': 23,\n",
       " ',': 40,\n",
       " '-': 59,\n",
       " '.': 48,\n",
       " '0': 46,\n",
       " '1': 15,\n",
       " '3': 71,\n",
       " '4': 38,\n",
       " '5': 7,\n",
       " '6': 19,\n",
       " '7': 26,\n",
       " '8': 55,\n",
       " '9': 70,\n",
       " ':': 44,\n",
       " '?': 0,\n",
       " 'A': 35,\n",
       " 'B': 57,\n",
       " 'C': 54,\n",
       " 'D': 9,\n",
       " 'E': 5,\n",
       " 'F': 2,\n",
       " 'G': 13,\n",
       " 'H': 65,\n",
       " 'I': 42,\n",
       " 'J': 49,\n",
       " 'K': 63,\n",
       " 'L': 66,\n",
       " 'M': 61,\n",
       " 'N': 24,\n",
       " 'O': 29,\n",
       " 'P': 16,\n",
       " 'R': 33,\n",
       " 'S': 22,\n",
       " 'T': 17,\n",
       " 'U': 6,\n",
       " 'W': 67,\n",
       " 'Y': 1,\n",
       " 'a': 12,\n",
       " 'b': 34,\n",
       " 'c': 28,\n",
       " 'd': 62,\n",
       " 'e': 11,\n",
       " 'f': 14,\n",
       " 'g': 20,\n",
       " 'h': 4,\n",
       " 'i': 3,\n",
       " 'j': 32,\n",
       " 'k': 64,\n",
       " 'l': 60,\n",
       " 'm': 8,\n",
       " 'n': 51,\n",
       " 'o': 68,\n",
       " 'p': 47,\n",
       " 'q': 50,\n",
       " 'r': 56,\n",
       " 's': 58,\n",
       " 't': 27,\n",
       " 'u': 36,\n",
       " 'v': 30,\n",
       " 'w': 43,\n",
       " 'x': 25,\n",
       " 'y': 37,\n",
       " 'z': 18,\n",
       " '–': 69,\n",
       " '’': 45,\n",
       " '“': 31,\n",
       " '”': 10,\n",
       " '…': 53}"
      ]
     },
     "execution_count": 13,
     "metadata": {},
     "output_type": "execute_result"
    }
   ],
   "source": [
    "char_to_ix"
   ]
  },
  {
   "cell_type": "code",
   "execution_count": 16,
   "metadata": {},
   "outputs": [
    {
     "data": {
      "text/plain": [
       "{0: '?',\n",
       " 1: 'Y',\n",
       " 2: 'F',\n",
       " 3: 'i',\n",
       " 4: 'h',\n",
       " 5: 'E',\n",
       " 6: 'U',\n",
       " 7: '5',\n",
       " 8: 'm',\n",
       " 9: 'D',\n",
       " 10: '”',\n",
       " 11: 'e',\n",
       " 12: 'a',\n",
       " 13: 'G',\n",
       " 14: 'f',\n",
       " 15: '1',\n",
       " 16: 'P',\n",
       " 17: 'T',\n",
       " 18: 'z',\n",
       " 19: '6',\n",
       " 20: 'g',\n",
       " 21: ' ',\n",
       " 22: 'S',\n",
       " 23: ')',\n",
       " 24: 'N',\n",
       " 25: 'x',\n",
       " 26: '7',\n",
       " 27: 't',\n",
       " 28: 'c',\n",
       " 29: 'O',\n",
       " 30: 'v',\n",
       " 31: '“',\n",
       " 32: 'j',\n",
       " 33: 'R',\n",
       " 34: 'b',\n",
       " 35: 'A',\n",
       " 36: 'u',\n",
       " 37: 'y',\n",
       " 38: '4',\n",
       " 39: '%',\n",
       " 40: ',',\n",
       " 41: '(',\n",
       " 42: 'I',\n",
       " 43: 'w',\n",
       " 44: ':',\n",
       " 45: '’',\n",
       " 46: '0',\n",
       " 47: 'p',\n",
       " 48: '.',\n",
       " 49: 'J',\n",
       " 50: 'q',\n",
       " 51: 'n',\n",
       " 52: '\\n',\n",
       " 53: '…',\n",
       " 54: 'C',\n",
       " 55: '8',\n",
       " 56: 'r',\n",
       " 57: 'B',\n",
       " 58: 's',\n",
       " 59: '-',\n",
       " 60: 'l',\n",
       " 61: 'M',\n",
       " 62: 'd',\n",
       " 63: 'K',\n",
       " 64: 'k',\n",
       " 65: 'H',\n",
       " 66: 'L',\n",
       " 67: 'W',\n",
       " 68: 'o',\n",
       " 69: '–',\n",
       " 70: '9',\n",
       " 71: '3'}"
      ]
     },
     "execution_count": 16,
     "metadata": {},
     "output_type": "execute_result"
    }
   ],
   "source": [
    "ix_to_char = {i:ch for i,ch in enumerate(chars)}\n",
    "ix_to_char"
   ]
  },
  {
   "cell_type": "code",
   "execution_count": 15,
   "metadata": {
    "collapsed": true
   },
   "outputs": [],
   "source": [
    "# hyperparameters\n",
    "hidden_size = 100\n",
    "seq_length = 25\n",
    "learning_rate = 1e-1"
   ]
  },
  {
   "cell_type": "code",
   "execution_count": 19,
   "metadata": {},
   "outputs": [],
   "source": [
    "# model parameters\n",
    "Wxh = np.random.randn(hidden_size, vocab_size) * 0.01\n",
    "Whh = np.random.randn(hidden_size, hidden_size) * 0.01\n",
    "Why = np.random.randn(vocab_size, hidden_size) * 0.01\n",
    "bh = np.zeros((hidden_size, 1))\n",
    "by = np.zeros((vocab_size, 1))"
   ]
  },
  {
   "cell_type": "code",
   "execution_count": 20,
   "metadata": {
    "collapsed": true
   },
   "outputs": [],
   "source": [
    "def lossFun(inputs, targets, hprev):\n",
    "    \"\"\"\n",
    "    inputs, targets are both list of integers.\n",
    "    hprev is Hx1 array of initial hidden state\n",
    "    returns the loss, gradients on model parameters, and last hidden state\n",
    "    \"\"\"\n",
    "    xs, hs, yx, ps = {}, {}, {}, {}\n",
    "    hs[-1] = np.copy(hprev)\n",
    "    loss = 0\n",
    "    # forward pass\n",
    "    for t in xrange(len(inputs)):\n",
    "        # encode in 1-of-k representation\n",
    "        xs[t] = np.zeros((vocab_size, 1))\n",
    "        xs[t][inputs[t]] = 1\n",
    "        # hidden state\n",
    "        hs[t] = np.tanh(np.dot(Wxh, xs[t]) + np.det(Whh, hs[t-1]) + bh)\n",
    "        # unnormalized log probabliliteies for next chars\n",
    "        ys[t] = np.dot(Why, hs[t]) + by\n",
    "        # probabilities for next chars\n",
    "        ps[t] = np.exp(ys[t])\n",
    "        # softmax (cross-entropy loss)\n",
    "        loss += -np.log(ps[t][targets[t], 0])\n",
    "    \n",
    "    # backward pass: compute gradients going backwards\n",
    "    dWxh, dWhh, dWhy = np.zeros_like(Wxh), np.zeros_like(Whh), np.zeros_like(Why)\n",
    "    dbh, dby = np.zeros_like(bh), np.zeros_like(by)\n",
    "    dhnext = np.zeros_like(hs[0])\n",
    "    for t in reversed(xrange(len(inputs))):\n",
    "        dy = np.copy(ps[t])\n",
    "        dy[targets[t]] -= 1\n",
    "        dWhy += np.dot(dy, hs[t].T)\n",
    "        dby += dy\n",
    "        dh = np.dot(Why.T, dy) + dhnext\n",
    "        dhraw = (1 - hs[t] * hs[t]) * dh\n",
    "        dbh += dhraw\n",
    "        dWxh += np.dot(dhraw, xs[t].T)\n",
    "        dWhh += np.dot(dhraw, hs[t-1].T)\n",
    "        dhnext = np.dot(Whh.T, dhraw)\n",
    "    for dparam in [dWxh, dWhh, dWhy, dbh, dby]:\n",
    "        np.clip(dparam, -5, 5, out=dparam)\n",
    "        \n",
    "    return loss, dWxh, dWhh, dWhy, dbh, dby, hs[len(inputs) -1]\n"
   ]
  },
  {
   "cell_type": "code",
   "execution_count": 21,
   "metadata": {
    "collapsed": true
   },
   "outputs": [],
   "source": [
    "def sample(h, seed_ix, n):\n",
    "    \"\"\"\n",
    "    sample a sequence of integers from the model\n",
    "    h is memory state, seed_ix is seed letter for first time step\n",
    "    \"\"\"\n",
    "    x = np.zeros((vocab_size, 1))\n",
    "    x[seed_ix] = 1\n",
    "    ixes = []\n",
    "    \n",
    "    for t in xrange(n):\n",
    "        h = np.tanh(np.dot(Wxh, x) + np.dot(Whh, h) + bh)\n",
    "        y = np.dot(Why, h) + by\n",
    "        p = np.exp(y) / np.sum(np.exp(y))\n",
    "        ix = np.random.choice(range(vocab_size), p = p.ravel())\n",
    "        x = np.zeros((vocab_size, 1))\n",
    "        x[ix] = 1\n",
    "        ixes.append(ix)\n",
    "    return ixes"
   ]
  },
  {
   "cell_type": "code",
   "execution_count": null,
   "metadata": {
    "collapsed": true
   },
   "outputs": [],
   "source": [
    "mWxh, mWhh, mWhy = np.zeros_like(Wxh), np.zeros_like(Whh), np.zeros_like(Why)\n",
    "# memory variables fro Adagrad\n",
    "mbh, mby = np.zeros_like(bh), np.zeros_like(by)\n",
    "# loss at iteration 0\n",
    "smooth_loss = -np.log(1.0/vocab_size) * seq_length\n",
    "\n",
    "while True:\n",
    "    # prepare inputs (we're sweeping from left to right in steps seq_length long)\n",
    "    if (p + seq_length + 1) >= len(data) or n == 0:\n",
    "        \n"
   ]
  }
 ],
 "metadata": {
  "kernelspec": {
   "display_name": "Python 3",
   "language": "python",
   "name": "python3"
  },
  "language_info": {
   "codemirror_mode": {
    "name": "ipython",
    "version": 3
   },
   "file_extension": ".py",
   "mimetype": "text/x-python",
   "name": "python",
   "nbconvert_exporter": "python",
   "pygments_lexer": "ipython3",
   "version": "3.5.2"
  }
 },
 "nbformat": 4,
 "nbformat_minor": 2
}
