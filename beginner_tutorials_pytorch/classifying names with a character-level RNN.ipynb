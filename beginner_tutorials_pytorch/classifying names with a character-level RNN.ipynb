{
 "cells": [
  {
   "cell_type": "code",
   "execution_count": 1,
   "metadata": {
    "collapsed": true
   },
   "outputs": [],
   "source": [
    "from __future__ import unicode_literals, print_function, division"
   ]
  },
  {
   "cell_type": "code",
   "execution_count": 2,
   "metadata": {
    "collapsed": true
   },
   "outputs": [],
   "source": [
    "from io import open"
   ]
  },
  {
   "cell_type": "code",
   "execution_count": 3,
   "metadata": {
    "collapsed": true
   },
   "outputs": [],
   "source": [
    "import glob"
   ]
  },
  {
   "cell_type": "code",
   "execution_count": 4,
   "metadata": {
    "collapsed": true
   },
   "outputs": [],
   "source": [
    "def findFiles(path):\n",
    "    return glob.glob(path)"
   ]
  },
  {
   "cell_type": "code",
   "execution_count": 5,
   "metadata": {},
   "outputs": [
    {
     "name": "stdout",
     "output_type": "stream",
     "text": [
      "['/home/damvantai/Documents/data/data/names/Korean.txt', '/home/damvantai/Documents/data/data/names/Russian.txt', '/home/damvantai/Documents/data/data/names/English.txt', '/home/damvantai/Documents/data/data/names/French.txt', '/home/damvantai/Documents/data/data/names/Dutch.txt', '/home/damvantai/Documents/data/data/names/Vietnamese.txt', '/home/damvantai/Documents/data/data/names/Czech.txt', '/home/damvantai/Documents/data/data/names/German.txt', '/home/damvantai/Documents/data/data/names/Chinese.txt', '/home/damvantai/Documents/data/data/names/Spanish.txt', '/home/damvantai/Documents/data/data/names/Greek.txt', '/home/damvantai/Documents/data/data/names/Arabic.txt', '/home/damvantai/Documents/data/data/names/Irish.txt', '/home/damvantai/Documents/data/data/names/Polish.txt', '/home/damvantai/Documents/data/data/names/Japanese.txt', '/home/damvantai/Documents/data/data/names/Scottish.txt', '/home/damvantai/Documents/data/data/names/Portuguese.txt', '/home/damvantai/Documents/data/data/names/Italian.txt']\n"
     ]
    }
   ],
   "source": [
    "print(findFiles('/home/damvantai/Documents/data/data/names/*.txt'))"
   ]
  },
  {
   "cell_type": "code",
   "execution_count": 6,
   "metadata": {
    "collapsed": true
   },
   "outputs": [],
   "source": [
    "import unicodedata"
   ]
  },
  {
   "cell_type": "code",
   "execution_count": 7,
   "metadata": {
    "collapsed": true
   },
   "outputs": [],
   "source": [
    "import string"
   ]
  },
  {
   "cell_type": "code",
   "execution_count": 9,
   "metadata": {
    "collapsed": true
   },
   "outputs": [],
   "source": [
    "all_letters = string.ascii_letters + \" .,:'\""
   ]
  },
  {
   "cell_type": "code",
   "execution_count": 10,
   "metadata": {},
   "outputs": [
    {
     "name": "stdout",
     "output_type": "stream",
     "text": [
      "abcdefghijklmnopqrstuvwxyzABCDEFGHIJKLMNOPQRSTUVWXYZ .,:'\n"
     ]
    }
   ],
   "source": [
    "print(all_letters)"
   ]
  },
  {
   "cell_type": "code",
   "execution_count": null,
   "metadata": {
    "collapsed": true
   },
   "outputs": [],
   "source": [
    "# Turn a unicoe string to plain ASCII,\n",
    "def unicodeToAscii(s):\n",
    "    return "
   ]
  },
  {
   "cell_type": "code",
   "execution_count": null,
   "metadata": {
    "collapsed": true
   },
   "outputs": [],
   "source": []
  },
  {
   "cell_type": "code",
   "execution_count": null,
   "metadata": {
    "collapsed": true
   },
   "outputs": [],
   "source": []
  },
  {
   "cell_type": "code",
   "execution_count": null,
   "metadata": {
    "collapsed": true
   },
   "outputs": [],
   "source": []
  },
  {
   "cell_type": "code",
   "execution_count": null,
   "metadata": {
    "collapsed": true
   },
   "outputs": [],
   "source": []
  }
 ],
 "metadata": {
  "kernelspec": {
   "display_name": "Python 3",
   "language": "python",
   "name": "python3"
  },
  "language_info": {
   "codemirror_mode": {
    "name": "ipython",
    "version": 3
   },
   "file_extension": ".py",
   "mimetype": "text/x-python",
   "name": "python",
   "nbconvert_exporter": "python",
   "pygments_lexer": "ipython3",
   "version": "3.5.2"
  }
 },
 "nbformat": 4,
 "nbformat_minor": 2
}
