{
 "cells": [
  {
   "cell_type": "code",
   "execution_count": 5,
   "metadata": {
    "collapsed": true
   },
   "outputs": [],
   "source": [
    "from __future__ import print_function, division"
   ]
  },
  {
   "cell_type": "code",
   "execution_count": 6,
   "metadata": {
    "collapsed": true
   },
   "outputs": [],
   "source": [
    "import os"
   ]
  },
  {
   "cell_type": "code",
   "execution_count": 7,
   "metadata": {
    "collapsed": true
   },
   "outputs": [],
   "source": [
    "import torch"
   ]
  },
  {
   "cell_type": "code",
   "execution_count": 8,
   "metadata": {
    "collapsed": true
   },
   "outputs": [],
   "source": [
    "import pandas as pd"
   ]
  },
  {
   "cell_type": "code",
   "execution_count": 9,
   "metadata": {
    "collapsed": true
   },
   "outputs": [],
   "source": [
    "from skimage import io, transform"
   ]
  },
  {
   "cell_type": "code",
   "execution_count": 10,
   "metadata": {
    "collapsed": true
   },
   "outputs": [],
   "source": [
    "import numpy as np"
   ]
  },
  {
   "cell_type": "code",
   "execution_count": 11,
   "metadata": {
    "collapsed": true
   },
   "outputs": [],
   "source": [
    "from torch.utils.data import Dataset, DataLoader"
   ]
  },
  {
   "cell_type": "code",
   "execution_count": 12,
   "metadata": {
    "collapsed": true
   },
   "outputs": [],
   "source": [
    "from torchvision import transforms, utils"
   ]
  },
  {
   "cell_type": "code",
   "execution_count": 13,
   "metadata": {
    "collapsed": true
   },
   "outputs": [],
   "source": [
    "import matplotlib.pyplot as plt"
   ]
  },
  {
   "cell_type": "code",
   "execution_count": 14,
   "metadata": {
    "collapsed": true
   },
   "outputs": [],
   "source": [
    "import warnings\n",
    "warnings.filterwarnings(\"ignore\")"
   ]
  },
  {
   "cell_type": "code",
   "execution_count": 15,
   "metadata": {
    "collapsed": true
   },
   "outputs": [],
   "source": [
    "plt.ion()"
   ]
  },
  {
   "cell_type": "code",
   "execution_count": 16,
   "metadata": {
    "collapsed": true
   },
   "outputs": [],
   "source": [
    "landmarks_frame = pd.read_csv('faces/face_landmarks.csv')"
   ]
  },
  {
   "cell_type": "code",
   "execution_count": 17,
   "metadata": {},
   "outputs": [
    {
     "name": "stdout",
     "output_type": "stream",
     "text": [
      "                           image_name  part_0_x  part_0_y  part_1_x  part_1_y  \\\n",
      "0                 0805personali01.jpg        27        83        27        98   \n",
      "1           1084239450_e76e00b7e7.jpg        70       236        71       257   \n",
      "2                  10comm-decarlo.jpg        66       114        65       128   \n",
      "3            110276240_bec305da91.jpg        42       140        45       161   \n",
      "4                      1198_0_861.jpg       138       392       141       427   \n",
      "5            137341995_e7c48e9a75.jpg        -4       129         1       178   \n",
      "6           1383023626_8a49e4879a.jpg         0        48        -6        94   \n",
      "7            144044282_87cf3ff76e.jpg       122       104       121       116   \n",
      "8            152601997_ec6429a43c.jpg       109        66       108        98   \n",
      "9           1549040388_b99e9fa295.jpg       149        89       139       123   \n",
      "10          1878519279_f905d4f34e.jpg       144       178       145       191   \n",
      "11          2046713398_91aaa6fe1c.jpg        67       201        69       233   \n",
      "12          2173711035_dbd53b4f9f.jpg        28       127        29       172   \n",
      "13          2210514040_6b03ff2629.jpg       265       271       264       276   \n",
      "14          2322901504_08122b01ba.jpg       195       202       191       219   \n",
      "15          2327253037_66a61ea6fe.jpg       118       198       123       225   \n",
      "16          2328398005_d328a70b4c.jpg        13       183         8       224   \n",
      "17          2370961440_6bc8ce346c.jpg        66       132        68       160   \n",
      "18                        2382SJ8.jpg        50       100        49       112   \n",
      "19           252418361_440b75751b.jpg       265       146       263       166   \n",
      "20           262007783_943bbcf613.jpg       123       137       128       176   \n",
      "21          2633371780_45b740b670.jpg       101       174       117       201   \n",
      "22          2647088981_60e9fe40cd.jpg        93       213        99       226   \n",
      "23          2711409561_a0786a3d3d.jpg       179       159       180       186   \n",
      "24          2722779845_7fcb64a096.jpg        71       128        63       151   \n",
      "25          2795838930_0cc5aa5f41.jpg       234        92       228       107   \n",
      "26          2902323565_100017b63c.jpg        79       219        77       246   \n",
      "27          2902760364_89c50bde40.jpg        69       235        72       263   \n",
      "28          2956581526_cd803f2daa.jpg        79        65        77        81   \n",
      "29           297448785_b2dda4b2c0.jpg        25       194        27       239   \n",
      "..                                ...       ...       ...       ...       ...   \n",
      "39           343583208_e986824d77.jpg        -8       339         2       368   \n",
      "40          3461016494_56cce9c984.jpg       100       187       102       204   \n",
      "41           348272697_832ce65324.jpg       127       222       127       246   \n",
      "42          3534188114_2108895291.jpg       189       153       188       170   \n",
      "43          3534189272_8ef88ba368.jpg       212       152       210       165   \n",
      "44          3555944509_7b477069c6.jpg        27       131        27       166   \n",
      "45          3574737496_6ee8207045.jpg       186       149       184       166   \n",
      "46           362167809_d5a5dcbfdb.jpg       111       150       116       170   \n",
      "47           363149951_8be04dc6c0.jpg        88       160        90       181   \n",
      "48          3638950581_3387685d3a.jpg       164       135       160       150   \n",
      "49          3646828311_bfeb429ef7.jpg       103       188       107       205   \n",
      "50          3689162471_5f9ffb5aa0.jpg       237        83       235        94   \n",
      "51          3718903026_c1bf5dfcf8.jpg       125       220       124       245   \n",
      "52          3790616528_297c0ac935.jpg        51       192        52       216   \n",
      "53          3855944735_e252959937.jpg        21       260        25       288   \n",
      "54          3856149136_d4595ffdd4.jpg        74       161        79       191   \n",
      "55          3872768751_e60d7fdbd5.jpg       268       110       271       124   \n",
      "56           529447797_0f9d2fb756.jpg        78       173        81       219   \n",
      "57            57635685_d41c98f8ca.jpg        86       118        87       153   \n",
      "58           809285949_6889026b53.jpg        27       108        30       123   \n",
      "59            92053278_be61a225d2.jpg       145        83       143       112   \n",
      "60            96063776_bdb3617b64.jpg       162       177       165       198   \n",
      "61            97308305_4b737d0873.jpg       137       157       139       190   \n",
      "62                   britney-bald.jpg        52       134        54       149   \n",
      "63                    deeny.peggy.jpg        39        95        40       106   \n",
      "64                    matt-mathes.jpg        85       152        83       173   \n",
      "65                       person-7.jpg        32        65        33        76   \n",
      "66                         person.jpg        78        83        79        93   \n",
      "67  person_TjahjonoDGondhowiardjo.jpg        41        92        41       103   \n",
      "68                    personalpic.jpg        40       109        40       122   \n",
      "\n",
      "    part_2_x  part_2_y  part_3_x  part_3_y  part_4_x    ...      part_63_x  \\\n",
      "0         29       113        33       127        39    ...             93   \n",
      "1         75       278        82       299        90    ...            148   \n",
      "2         67       142        68       156        72    ...            128   \n",
      "3         51       180        61       200        73    ...            144   \n",
      "4        145       464       152       501       166    ...            293   \n",
      "5         10       231        30       276        59    ...            204   \n",
      "6        -10       141        -8       186         6    ...            165   \n",
      "7        121       129       122       142       125    ...            165   \n",
      "8        111       132       118       169       127    ...            205   \n",
      "9        136       159       139       195       146    ...            231   \n",
      "10       149       205       157       220       166    ...            193   \n",
      "11        74       264        81       294        93    ...            217   \n",
      "12        34       214        42       255        58    ...            199   \n",
      "13       264       281       263       287       263    ...            281   \n",
      "14       187       236       191       254       198    ...            234   \n",
      "15       130       253       140       279       156    ...            259   \n",
      "16         6       267        11       308        31    ...            199   \n",
      "17        72       187        82       214        99    ...            210   \n",
      "18        50       124        52       137        56    ...            104   \n",
      "19       266       188       273       211       282    ...            327   \n",
      "20       137       215       150       250       171    ...            311   \n",
      "21       137       226       159       248       186    ...            242   \n",
      "22       106       238       113       250       124    ...            175   \n",
      "23       182       211       185       238       191    ...            269   \n",
      "24        58       173        56       196        57    ...            135   \n",
      "25       222       122       218       139       218    ...            274   \n",
      "26        78       273        82       300        88    ...            170   \n",
      "27        78       290        84       316        95    ...            177   \n",
      "28        78        96        80       111        83    ...            131   \n",
      "29        34       283        44       326        61    ...            193   \n",
      "..       ...       ...       ...       ...       ...    ...            ...   \n",
      "39        14       398        31       424        55    ...            175   \n",
      "40       106       221       112       236       119    ...            173   \n",
      "41       128       269       130       292       136    ...            241   \n",
      "42       189       187       192       203       199    ...            263   \n",
      "43       210       178       211       192       214    ...            258   \n",
      "44        31       200        36       233        48    ...            164   \n",
      "45       183       184       185       201       192    ...            261   \n",
      "46       121       190       129       209       142    ...            223   \n",
      "47        92       201        94       222        99    ...            168   \n",
      "48       158       165       162       180       168    ...            195   \n",
      "49       113       223       120       240       131    ...            192   \n",
      "50       233       106       233       118       235    ...            275   \n",
      "51       123       269       125       295       134    ...            232   \n",
      "52        54       240        59       263        70    ...            160   \n",
      "53        29       315        39       339        55    ...            175   \n",
      "54        88       219        95       247       102    ...            196   \n",
      "55       277       136       283       148       290    ...            340   \n",
      "56        89       266       105       312       128    ...            256   \n",
      "57        87       189        93       225       113    ...            253   \n",
      "58        34       138        40       152        48    ...             94   \n",
      "59       143       140       148       167       158    ...            247   \n",
      "60       170       219       175       240       182    ...            265   \n",
      "61       142       223       149       255       164    ...            281   \n",
      "62        56       164        60       179        65    ...            110   \n",
      "63        41       116        44       126        49    ...             72   \n",
      "64        83       195        85       217        91    ...            160   \n",
      "65        34        86        34        97        37    ...             79   \n",
      "66        80       103        81       112        85    ...            119   \n",
      "67        43       114        44       125        48    ...             85   \n",
      "68        41       135        42       148        44    ...             80   \n",
      "\n",
      "    part_63_y  part_64_x  part_64_y  part_65_x  part_65_y  part_66_x  \\\n",
      "0         136        100        141         93        135         89   \n",
      "1         311        179        308        149        312        137   \n",
      "2         162        136        167        127        166        121   \n",
      "3         197        180        189        147        204        136   \n",
      "4         507        331        511        294        516        279   \n",
      "5         238        260        241        210        281        188   \n",
      "6         233        194        230        163        263        145   \n",
      "7         154        178        154        164        153        159   \n",
      "8         216        239        220        208        216        197   \n",
      "9         238        292        243        232        251        212   \n",
      "10        226        213        228        196        234        190   \n",
      "11        309        231        307        216        309        207   \n",
      "12        312        221        304        198        311        183   \n",
      "13        294        286        296        281        295        278   \n",
      "14        269        273        272        235        279        226   \n",
      "15        258        282        257        261        274        247   \n",
      "16        337        208        338        199        339        191   \n",
      "17        194        221        197        211        195        206   \n",
      "18        137        118        144        104        147         96   \n",
      "19        227        361        221        328        227        318   \n",
      "20        256        316        252        312        254        302   \n",
      "21        249        276        227        248        250        238   \n",
      "22        234        182        233        176        234        172   \n",
      "23        280        291        279        269        285        257   \n",
      "24        226        156        240        133        228        124   \n",
      "25        170        290        176        272        170        265   \n",
      "26        328        190        325        171        334        161   \n",
      "27        347        199        342        177        347        168   \n",
      "28        126        147        126        131        125        125   \n",
      "29        328        211        367        192        378        178   \n",
      "..        ...        ...        ...        ...        ...        ...   \n",
      "39        378        189        377        180        381        170   \n",
      "40        244        184        241        173        242        166   \n",
      "41        286        258        294        240        287        231   \n",
      "42        207        273        210        262        216        255   \n",
      "43        198        275        199        258        205        252   \n",
      "44        269        197        268        163        273        150   \n",
      "45        204        270        208        260        213        254   \n",
      "46        194        233        190        225        193        220   \n",
      "47        227        188        230        168        239        159   \n",
      "48        196        229        196        196        207        188   \n",
      "49        242        210        235        193        246        185   \n",
      "50        140        281        141        275        140        271   \n",
      "51        300        263        300        232        323        215   \n",
      "52        269        176        272        159        270        150   \n",
      "53        282        193        297        175        305        164   \n",
      "54        269        221        269        196        271        185   \n",
      "55        143        353        139        341        146        336   \n",
      "56        357        291        361        257        383        241   \n",
      "57        226        256        229        252        232        246   \n",
      "58        157        115        151         94        157         87   \n",
      "59        179        282        182        247        192        235   \n",
      "60        235        282        240        265        255        255   \n",
      "61        254        298        257        279        261        268   \n",
      "62        193        126        193        110        199        104   \n",
      "63        136         85        134         72        137         69   \n",
      "64        224        190        225        162        236        151   \n",
      "65         98         91         99         79         99         74   \n",
      "66        115        132        114        120        121        114   \n",
      "67        130         94        130         85        128         81   \n",
      "68        165         94        165         80        165         74   \n",
      "\n",
      "    part_66_y  part_67_x  part_67_y  \n",
      "0         135         84        134  \n",
      "1         314        128        312  \n",
      "2         165        116        164  \n",
      "3         208        125        209  \n",
      "4         518        265        516  \n",
      "5         286        166        286  \n",
      "6         268        128        265  \n",
      "7         154        154        153  \n",
      "8         217        187        216  \n",
      "9         248        196        242  \n",
      "10        235        185        236  \n",
      "11        311        197        310  \n",
      "12        315        168        313  \n",
      "13        295        276        294  \n",
      "14        277        219        274  \n",
      "15        278        234        276  \n",
      "16        338        181        337  \n",
      "17        195        200        195  \n",
      "18        147         89        146  \n",
      "19        229        309        228  \n",
      "20        258        292        258  \n",
      "21        256        227        257  \n",
      "22        236        168        238  \n",
      "23        287        245        285  \n",
      "24        225        116        221  \n",
      "25        168        259        164  \n",
      "26        336        151        334  \n",
      "27        349        160        347  \n",
      "28        124        119        123  \n",
      "29        377        165        373  \n",
      "..        ...        ...        ...  \n",
      "39        385        159        387  \n",
      "40        244        161        244  \n",
      "41        287        222        285  \n",
      "42        217        247        215  \n",
      "43        205        246        204  \n",
      "44        272        138        267  \n",
      "45        214        247        212  \n",
      "46        196        213        197  \n",
      "47        240        149        238  \n",
      "48        207        182        203  \n",
      "49        249        175        249  \n",
      "50        140        267        139  \n",
      "51        324        199        320  \n",
      "52        270        141        269  \n",
      "53        306        149        307  \n",
      "54        273        175        271  \n",
      "55        148        330        149  \n",
      "56        387        226        382  \n",
      "57        232        235        230  \n",
      "58        159         79        159  \n",
      "59        192        224        189  \n",
      "60        257        245        256  \n",
      "61        262        256        261  \n",
      "62        200         98        198  \n",
      "63        138         66        137  \n",
      "64        237        141        235  \n",
      "65         99         69         99  \n",
      "66        122        109        121  \n",
      "67        128         77        128  \n",
      "68        165         68        164  \n",
      "\n",
      "[69 rows x 137 columns]\n"
     ]
    }
   ],
   "source": [
    "print(landmarks_frame)"
   ]
  },
  {
   "cell_type": "code",
   "execution_count": 22,
   "metadata": {
    "collapsed": true
   },
   "outputs": [],
   "source": [
    "n = 64"
   ]
  },
  {
   "cell_type": "code",
   "execution_count": 23,
   "metadata": {
    "collapsed": true
   },
   "outputs": [],
   "source": [
    "img_name = landmarks_frame.ix[n, 0]"
   ]
  },
  {
   "cell_type": "code",
   "execution_count": 24,
   "metadata": {},
   "outputs": [
    {
     "name": "stdout",
     "output_type": "stream",
     "text": [
      "matt-mathes.jpg\n"
     ]
    }
   ],
   "source": [
    "# image row 64 and col 0\n",
    "print(img_name)"
   ]
  },
  {
   "cell_type": "code",
   "execution_count": 25,
   "metadata": {
    "collapsed": true
   },
   "outputs": [],
   "source": [
    "landmarks = landmarks_frame.ix[n, 1:].as_matrix().astype('float')"
   ]
  },
  {
   "cell_type": "code",
   "execution_count": 26,
   "metadata": {
    "scrolled": true
   },
   "outputs": [
    {
     "name": "stdout",
     "output_type": "stream",
     "text": [
      "[  85.  152.   83.  173.   83.  195.   85.  217.   91.  238.  103.  257.\n",
      "  117.  274.  134.  287.  154.  290.  176.  287.  197.  276.  218.  263.\n",
      "  235.  247.  246.  227.  251.  205.  253.  181.  254.  157.   91.  136.\n",
      "   98.  127.  112.  125.  126.  129.  140.  135.  162.  134.  177.  128.\n",
      "  193.  126.  209.  126.  222.  134.  148.  149.  146.  162.  144.  176.\n",
      "  143.  190.  129.  199.  137.  203.  147.  206.  157.  202.  167.  199.\n",
      "  103.  148.  111.  142.  122.  143.  131.  151.  121.  151.  111.  151.\n",
      "  177.  150.  186.  143.  196.  143.  205.  148.  197.  151.  186.  151.\n",
      "  116.  224.  127.  221.  140.  221.  149.  223.  160.  220.  177.  220.\n",
      "  195.  224.  179.  238.  163.  244.  152.  245.  141.  244.  129.  239.\n",
      "  120.  225.  140.  225.  150.  226.  160.  224.  190.  225.  162.  236.\n",
      "  151.  237.  141.  235.]\n"
     ]
    }
   ],
   "source": [
    "print(landmarks)"
   ]
  },
  {
   "cell_type": "code",
   "execution_count": 27,
   "metadata": {
    "collapsed": true
   },
   "outputs": [],
   "source": [
    "landmarks = landmarks.reshape(-1, 2)"
   ]
  },
  {
   "cell_type": "code",
   "execution_count": null,
   "metadata": {
    "collapsed": true
   },
   "outputs": [],
   "source": []
  },
  {
   "cell_type": "code",
   "execution_count": 28,
   "metadata": {},
   "outputs": [
    {
     "name": "stdout",
     "output_type": "stream",
     "text": [
      "Image name: matt-mathes.jpg\n",
      "Landmarks shape: (68, 2)\n",
      "First 4 landmarks: [[  85.  152.]\n",
      " [  83.  173.]\n",
      " [  83.  195.]\n",
      " [  85.  217.]]\n"
     ]
    }
   ],
   "source": [
    "print(\"Image name: {}\".format(img_name))\n",
    "print(\"Landmarks shape: {}\".format(landmarks.shape))\n",
    "print(\"First 4 landmarks: {}\".format(landmarks[:4]))"
   ]
  },
  {
   "cell_type": "code",
   "execution_count": 29,
   "metadata": {},
   "outputs": [
    {
     "data": {
      "image/png": "[encoded data removed]",
      "text/plain": [
       "<matplotlib.figure.Figure at 0x7faeed91cbe0>"
      ]
     },
     "metadata": {},
     "output_type": "display_data"
    }
   ],
   "source": [
    "def show_landmarks(image, landmarks):\n",
    "    \"\"\"Show image with landmarks\"\"\"\n",
    "    plt.imshow(image)\n",
    "    plt.scatter(landmarks[:, 0], landmarks[:, 1], s=10, marker='.', c='r')\n",
    "    plt.pause(0.001)\n",
    "    \n",
    "plt.figure()\n",
    "show_landmarks(io.imread(os.path.join('faces/', img_name)), landmarks)\n",
    "\n",
    "plt.show()"
   ]
  },
  {
   "cell_type": "code",
   "execution_count": null,
   "metadata": {
    "collapsed": true
   },
   "outputs": [],
   "source": []
  }
 ],
 "metadata": {
  "kernelspec": {
   "display_name": "Python 3",
   "language": "python",
   "name": "python3"
  },
  "language_info": {
   "codemirror_mode": {
    "name": "ipython",
    "version": 3
   },
   "file_extension": ".py",
   "mimetype": "text/x-python",
   "name": "python",
   "nbconvert_exporter": "python",
   "pygments_lexer": "ipython3",
   "version": "3.5.2"
  }
 },
 "nbformat": 4,
 "nbformat_minor": 2
}
